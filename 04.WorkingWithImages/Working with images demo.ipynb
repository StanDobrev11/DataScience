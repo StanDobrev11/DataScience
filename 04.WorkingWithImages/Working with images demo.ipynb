{
 "cells": [
  {
   "cell_type": "code",
   "execution_count": 1,
   "id": "9ce850b5-0fe6-49c1-97a1-591a4cf37183",
   "metadata": {},
   "outputs": [],
   "source": [
    "%matplotlib inline"
   ]
  },
  {
   "cell_type": "code",
   "execution_count": 5,
   "id": "d7f818cc-d95f-46ab-a07e-46b0d257af1d",
   "metadata": {},
   "outputs": [],
   "source": [
    "import numpy as np\n",
    "import pandas as pd\n",
    "import matplotlib.pyplot as plt\n",
    "from skimage.io import imread, imread_collection"
   ]
  },
  {
   "cell_type": "code",
   "execution_count": 6,
   "id": "1f0ac13e-bacb-471b-bfd7-fddca39aeaa9",
   "metadata": {},
   "outputs": [],
   "source": [
    "cat_image = imread('data/domestic-cat/dc (17).jpg')"
   ]
  },
  {
   "cell_type": "code",
   "execution_count": 7,
   "id": "ad44d186-d917-4dcf-b3aa-affa4c7ac997",
   "metadata": {},
   "outputs": [
    {
     "data": {
      "text/plain": [
       "(183, 275, 3)"
      ]
     },
     "execution_count": 7,
     "metadata": {},
     "output_type": "execute_result"
    }
   ],
   "source": [
    "cat_image.shape"
   ]
  },
  {
   "cell_type": "code",
   "execution_count": 9,
   "id": "a0b18cb6-1302-4a1d-a80e-8feb3eb17453",
   "metadata": {},
   "outputs": [],
   "source": [
    "collection = imread_collection('data/domestic-cat/dc (17).jpg')"
   ]
  },
  {
   "cell_type": "code",
   "execution_count": 11,
   "id": "87001eaf-b562-439f-a08f-550f7d175369",
   "metadata": {},
   "outputs": [
    {
     "data": {
      "text/plain": [
       "array([[[ 64,  88,  90],\n",
       "        [ 59,  83,  85],\n",
       "        [ 51,  75,  77],\n",
       "        ...,\n",
       "        [ 39,  41,  27],\n",
       "        [ 39,  41,  27],\n",
       "        [ 39,  41,  27]],\n",
       "\n",
       "       [[ 58,  82,  84],\n",
       "        [ 55,  79,  81],\n",
       "        [ 49,  73,  75],\n",
       "        ...,\n",
       "        [ 39,  41,  27],\n",
       "        [ 39,  41,  27],\n",
       "        [ 39,  41,  27]],\n",
       "\n",
       "       [[ 50,  74,  76],\n",
       "        [ 49,  73,  75],\n",
       "        [ 46,  70,  72],\n",
       "        ...,\n",
       "        [ 37,  39,  25],\n",
       "        [ 37,  39,  25],\n",
       "        [ 37,  39,  25]],\n",
       "\n",
       "       ...,\n",
       "\n",
       "       [[118, 169,  64],\n",
       "        [117, 168,  65],\n",
       "        [124, 172,  70],\n",
       "        ...,\n",
       "        [164, 201,  85],\n",
       "        [178, 215,  99],\n",
       "        [190, 227, 111]],\n",
       "\n",
       "       [[131, 182,  77],\n",
       "        [125, 176,  73],\n",
       "        [125, 173,  71],\n",
       "        ...,\n",
       "        [172, 207,  91],\n",
       "        [186, 221, 105],\n",
       "        [199, 234, 118]],\n",
       "\n",
       "       [[139, 190,  85],\n",
       "        [132, 183,  80],\n",
       "        [129, 177,  75],\n",
       "        ...,\n",
       "        [177, 210,  95],\n",
       "        [191, 224, 109],\n",
       "        [203, 236, 121]]], dtype=uint8)"
      ]
     },
     "execution_count": 11,
     "metadata": {},
     "output_type": "execute_result"
    }
   ],
   "source": [
    "collection[0]"
   ]
  }
 ],
 "metadata": {
  "kernelspec": {
   "display_name": "Python 3 (ipykernel)",
   "language": "python",
   "name": "python3"
  },
  "language_info": {
   "codemirror_mode": {
    "name": "ipython",
    "version": 3
   },
   "file_extension": ".py",
   "mimetype": "text/x-python",
   "name": "python",
   "nbconvert_exporter": "python",
   "pygments_lexer": "ipython3",
   "version": "3.11.9"
  }
 },
 "nbformat": 4,
 "nbformat_minor": 5
}
