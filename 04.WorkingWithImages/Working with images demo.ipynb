{
 "cells": [
  {
   "cell_type": "code",
   "execution_count": 1,
   "id": "9ce850b5-0fe6-49c1-97a1-591a4cf37183",
   "metadata": {},
   "source": [
    "%matplotlib inline"
   ],
   "outputs": []
  },
  {
   "cell_type": "code",
   "execution_count": 127,
   "id": "d7f818cc-d95f-46ab-a07e-46b0d257af1d",
   "metadata": {},
   "source": [
    "import numpy as np\n",
    "import pandas as pd\n",
    "import matplotlib.pyplot as plt\n",
    "\n",
    "from skimage.io import imread, imread_collection, imshow, imshow_collection\n",
    "from skimage.filters import threshold_otsu\n",
    "from skimage.transform import resize, rescale, rotate\n",
    "\n",
    "from scipy.signal import convolve2d\n",
    "from scipy.fft import fft2, fftshift\n"
   ],
   "outputs": []
  },
  {
   "cell_type": "code",
   "execution_count": 6,
   "id": "1f0ac13e-bacb-471b-bfd7-fddca39aeaa9",
   "metadata": {},
   "source": [
    "cat_image = imread('data/domestic-cat/dc (17).jpg')"
   ],
   "outputs": []
  },
  {
   "cell_type": "code",
   "execution_count": 7,
   "id": "ad44d186-d917-4dcf-b3aa-affa4c7ac997",
   "metadata": {},
   "source": [
    "cat_image.shape"
   ],
   "outputs": []
  },
  {
   "cell_type": "code",
   "execution_count": 24,
   "id": "a0b18cb6-1302-4a1d-a80e-8feb3eb17453",
   "metadata": {},
   "source": [
    "domestic_cats = imread_collection('data/domestic-cat/*')"
   ],
   "outputs": []
  },
  {
   "cell_type": "code",
   "execution_count": 26,
   "id": "87001eaf-b562-439f-a08f-550f7d175369",
   "metadata": {},
   "source": [
    "len(domestic_cats)"
   ],
   "outputs": []
  },
  {
   "cell_type": "code",
   "execution_count": 27,
   "id": "4b93a102-5f6a-4156-922d-f455f2cd5e8c",
   "metadata": {},
   "source": [
    "plt.imshow(cat_image)"
   ],
   "outputs": []
  },
  {
   "cell_type": "code",
   "execution_count": 32,
   "id": "ccccc397-abb1-4a33-8bc9-2a6b2e22748d",
   "metadata": {},
   "source": [
    "plt.imshow(cat_image[50:120, 70:150])"
   ],
   "outputs": []
  },
  {
   "cell_type": "code",
   "execution_count": 33,
   "id": "a29af8b5-f7fc-41bd-bcb1-5d928eb09418",
   "metadata": {},
   "source": [
    "cat_image.dtype"
   ],
   "outputs": []
  },
  {
   "cell_type": "code",
   "execution_count": 35,
   "id": "8e6a839d-dd2f-4384-a9c8-7a0f2cbb4727",
   "metadata": {},
   "source": [
    "cat_image.astype('float').dtype"
   ],
   "outputs": []
  },
  {
   "cell_type": "code",
   "execution_count": 43,
   "id": "42d68921-bd49-4bbb-a883-f2b49b061dc3",
   "metadata": {},
   "source": [
    "type(cat_image.reshape(-1, 1))"
   ],
   "outputs": []
  },
  {
   "cell_type": "code",
   "execution_count": 44,
   "id": "9a573d6c-bda0-4a4a-81ed-2d6eda567359",
   "metadata": {},
   "source": [
    "type(cat_image.ravel())"
   ],
   "outputs": []
  },
  {
   "cell_type": "code",
   "execution_count": 48,
   "id": "b0aa7fac-d075-4bf0-b0b5-edcb609da864",
   "metadata": {},
   "source": [
    "cat_image_red_histo = cat_image[:, :, 0].ravel()\n",
    "cat_image_green_histo = cat_image[:, :, 1].ravel()\n",
    "cat_image_blue_histo = cat_image[:, :, 2].ravel()"
   ],
   "outputs": []
  },
  {
   "cell_type": "code",
   "execution_count": 50,
   "id": "91ea0dcd-dcdc-4dba-9489-f84335db356b",
   "metadata": {},
   "source": [
    "plt.hist(cat_image_red_histo, bins=255,color='red', alpha=0.7)\n",
    "plt.hist(cat_image_green_histo, bins=255,color='green', alpha=0.7)\n",
    "plt.hist(cat_image_blue_histo, bins=255,color='blue', alpha=0.7)\n",
    "\n",
    "plt.xlabel('Pixel value')\n",
    "plt.ylabel('Count')\n",
    "\n",
    "plt.xlim(0, 255)\n",
    "\n",
    "plt.show()"
   ],
   "outputs": []
  },
  {
   "cell_type": "code",
   "execution_count": 52,
   "id": "e654ede8-ea7c-41a6-8e76-9e70a06ee988",
   "metadata": {},
   "source": [
    "cat_image = imread('data/domestic-cat/dc (58).jpg')"
   ],
   "outputs": []
  },
  {
   "cell_type": "code",
   "execution_count": 53,
   "id": "dc4972ee-4a0b-44fc-bea4-8670a4d0b6d9",
   "metadata": {},
   "source": [
    "cat_image_red_histo = cat_image[:, :, 0].ravel()\n",
    "cat_image_green_histo = cat_image[:, :, 1].ravel()\n",
    "cat_image_blue_histo = cat_image[:, :, 2].ravel()"
   ],
   "outputs": []
  },
  {
   "cell_type": "code",
   "execution_count": 54,
   "id": "dae7cbb6-b825-40fe-901d-4d6955282101",
   "metadata": {},
   "source": [
    "plt.hist(cat_image_red_histo, bins=255,color='red', alpha=0.7)\n",
    "plt.hist(cat_image_green_histo, bins=255,color='green', alpha=0.7)\n",
    "plt.hist(cat_image_blue_histo, bins=255,color='blue', alpha=0.7)\n",
    "\n",
    "plt.xlabel('Pixel value')\n",
    "plt.ylabel('Count')\n",
    "\n",
    "plt.xlim(0, 255)\n",
    "\n",
    "plt.show()"
   ],
   "outputs": []
  },
  {
   "cell_type": "code",
   "execution_count": 56,
   "id": "10890a25-5b8f-49d5-b277-061fae04f1e2",
   "metadata": {},
   "source": [
    "plt.imshow(cat_image)"
   ],
   "outputs": []
  },
  {
   "cell_type": "code",
   "execution_count": 57,
   "id": "9d06a50c-aac2-436b-8e26-c0e2a35552a1",
   "metadata": {},
   "source": [
    "cat_image = imread('data/domestic-cat/dc (17).jpg')"
   ],
   "outputs": []
  },
  {
   "cell_type": "code",
   "execution_count": 58,
   "id": "3ad93c9a-43a9-4d4a-9f94-758d56a3d8f4",
   "metadata": {},
   "source": [
    "cat_image_red = cat_image[:, :, 0]\n",
    "cat_image_green = cat_image[:, :, 1]\n",
    "cat_image_blue = cat_image[:, :, 2]"
   ],
   "outputs": []
  },
  {
   "cell_type": "code",
   "execution_count": 60,
   "id": "bef80d43-f604-4ebb-ab49-07b989fa501f",
   "metadata": {},
   "source": [
    "red, green, blue = [cat_image[:, :, x] for x in range(0, 3)]"
   ],
   "outputs": []
  },
  {
   "cell_type": "code",
   "execution_count": 63,
   "id": "d618d709-4141-4d88-8d2b-62af5cc7de31",
   "metadata": {},
   "source": [
    "cat_image_grey = imshow(0.299 * red + 0.587 * green + 0.114 * blue, cmap='grey', vmin=0, vmax=255)"
   ],
   "outputs": []
  },
  {
   "cell_type": "code",
   "execution_count": 64,
   "id": "7cbc0674-0f72-4dcb-8449-038b8bec6658",
   "metadata": {},
   "source": [
    "plt.imshow(cat_image[50:120, 70:150])"
   ],
   "outputs": []
  },
  {
   "cell_type": "code",
   "execution_count": 65,
   "id": "4f847505-33cd-439d-8956-7a62a1831cfe",
   "metadata": {},
   "source": [
    "cat_image[50:120, 70:150] = 0"
   ],
   "outputs": []
  },
  {
   "cell_type": "code",
   "execution_count": 66,
   "id": "a4fa8199-ab9f-4652-a150-6c0f5136226e",
   "metadata": {},
   "source": [
    "plt.imshow(cat_image[50:120, 70:150])"
   ],
   "outputs": []
  },
  {
   "cell_type": "code",
   "execution_count": 67,
   "id": "f4bf24bd-dbd8-4837-a075-e2515d43923f",
   "metadata": {
    "scrolled": true
   },
   "source": [
    "plt.imshow(cat_image)"
   ],
   "outputs": []
  },
  {
   "cell_type": "markdown",
   "id": "57e24734-44c5-4862-b246-80d58958f1d6",
   "metadata": {},
   "source": [
    "FILTERS"
   ]
  },
  {
   "cell_type": "code",
   "execution_count": 81,
   "id": "402debe9-b5d2-4059-b0c0-3e2ac0a49984",
   "metadata": {},
   "source": [
    "cat_image = imread('data/domestic-cat/dc (17).jpg')"
   ],
   "outputs": []
  },
  {
   "cell_type": "code",
   "execution_count": 71,
   "id": "4cb9b76b-fb69-4cd5-9ba4-ea49b3f8ac3b",
   "metadata": {},
   "source": [
    "conv_filter = np.eye(5)"
   ],
   "outputs": []
  },
  {
   "cell_type": "code",
   "execution_count": 72,
   "id": "e8dac142-91ae-4c9b-9c2f-31811d12324d",
   "metadata": {},
   "source": [
    "conv_filter"
   ],
   "outputs": []
  },
  {
   "cell_type": "code",
   "execution_count": 78,
   "id": "e094f299-08e2-4fba-ae60-36878b6e7e43",
   "metadata": {},
   "source": [
    "result = convolve2d(cat_image[:, :, 0], conv_filter, mode='same')"
   ],
   "outputs": []
  },
  {
   "cell_type": "code",
   "execution_count": 80,
   "id": "4c861d5c-e464-48c7-a3b0-46ca36174080",
   "metadata": {},
   "source": [
    "imshow(result)"
   ],
   "outputs": []
  },
  {
   "cell_type": "markdown",
   "id": "fc3b50b2-54eb-47f4-87d4-a2e9dcfda58c",
   "metadata": {},
   "source": [
    "MORPHOLOGY"
   ]
  },
  {
   "cell_type": "code",
   "execution_count": 83,
   "id": "1602476d-fc9f-4a32-93cb-d2c209c58da0",
   "metadata": {},
   "source": [
    "imshow(cat_image)"
   ],
   "outputs": []
  },
  {
   "cell_type": "code",
   "execution_count": null,
   "id": "0707f914-7a66-45d8-8fae-3bccd75d221a",
   "metadata": {},
   "source": [],
   "outputs": []
  },
  {
   "cell_type": "code",
   "execution_count": 86,
   "id": "dd2dd165-8f60-4644-829f-d28314eef588",
   "metadata": {},
   "source": [
    "cat_image.mean()"
   ],
   "outputs": []
  },
  {
   "cell_type": "code",
   "execution_count": 90,
   "id": "74a0a8c5-95b0-4291-8090-0eba8e53829f",
   "metadata": {},
   "source": [
    "cat_image_binary = cat_image.copy()"
   ],
   "outputs": []
  },
  {
   "cell_type": "code",
   "execution_count": 94,
   "id": "ed2dabb3-dc93-4057-a606-1cc2ecbe302c",
   "metadata": {},
   "source": [
    "cat_image_binary[cat_image_binary < 87] = 0\n",
    "cat_image_binary[cat_image_binary > 87] = 255"
   ],
   "outputs": []
  },
  {
   "cell_type": "code",
   "execution_count": 95,
   "id": "5912bb6c-87de-4d2f-b3ff-4b05017f6cd4",
   "metadata": {},
   "source": [
    "imshow(cat_image_binary, cmap='grey')"
   ],
   "outputs": []
  },
  {
   "cell_type": "code",
   "execution_count": 99,
   "id": "7b3875d4-550a-48ba-b206-3cd90f71003e",
   "metadata": {},
   "source": [
    "imshow(cat_image_binary[:, :, 0], cmap='grey')"
   ],
   "outputs": []
  },
  {
   "cell_type": "code",
   "execution_count": 103,
   "id": "ce614d3f-11be-42aa-984d-c024ef820e13",
   "metadata": {},
   "source": [
    "threshold_otsu(cat_image[:, :, 0])"
   ],
   "outputs": []
  },
  {
   "cell_type": "code",
   "execution_count": 107,
   "id": "48610da3-9277-4adb-9d57-c98a7be0845f",
   "metadata": {},
   "source": [
    "threshold_otsu(domestic_cats[57][:,:,0])"
   ],
   "outputs": []
  },
  {
   "cell_type": "code",
   "execution_count": 116,
   "id": "54a98c25-7d0c-4e28-8b2b-3345a2633a67",
   "metadata": {},
   "source": [
    "cat_bin = domestic_cats[57][:,:,0].copy()"
   ],
   "outputs": []
  },
  {
   "cell_type": "code",
   "execution_count": 117,
   "id": "f2271db6-0ed3-4078-a79e-45831ed76f93",
   "metadata": {},
   "source": [
    "cat_bin[cat_bin <= 156] = 0"
   ],
   "outputs": []
  },
  {
   "cell_type": "code",
   "execution_count": 118,
   "id": "36a2588d-49df-4ab4-a70f-ad3288fecede",
   "metadata": {},
   "source": [
    "cat_bin[cat_bin > 156] = 255"
   ],
   "outputs": []
  },
  {
   "cell_type": "code",
   "execution_count": 119,
   "id": "2a2c5c7b-267b-402a-a188-58b985754b19",
   "metadata": {},
   "source": [
    "imshow(cat_bin)"
   ],
   "outputs": []
  },
  {
   "cell_type": "code",
   "execution_count": 121,
   "id": "60334583-f9e7-449c-99be-61399317c22f",
   "metadata": {},
   "source": [
    "imshow(256 - cat_bin, cmap='grey')"
   ],
   "outputs": []
  },
  {
   "cell_type": "code",
   "execution_count": 123,
   "id": "420acef9-8259-4518-b71e-19ead924ae1b",
   "metadata": {},
   "source": [
    "resize(cat_image, (500, 500)).shape"
   ],
   "outputs": []
  },
  {
   "cell_type": "code",
   "execution_count": 124,
   "id": "68779e8b-cf3c-49b1-8aea-b82f9f91bd05",
   "metadata": {},
   "source": [
    "imshow(resize(cat_image, (500, 500)))"
   ],
   "outputs": []
  },
  {
   "cell_type": "code",
   "execution_count": 126,
   "id": "baf87234-7cab-4a08-bd94-62468d5fcba4",
   "metadata": {},
   "source": [
    "imshow(rotate(cat_image, 50))"
   ],
   "outputs": []
  },
  {
   "cell_type": "code",
   "execution_count": 128,
   "id": "311e3c8e-c653-44f7-a7e8-62e74a5811a8",
   "metadata": {},
   "source": [
    "# Foair transformation\n",
    "imshow(fft2(cat_image[:, :, 0]))"
   ],
   "outputs": []
  },
  {
   "cell_type": "code",
   "execution_count": 130,
   "id": "65b94f92-734e-4861-9d5a-d45c8a55634a",
   "metadata": {},
   "source": [
    "fft_amplitudes = np.abs(fftshift(fft2(cat_image[:, :, 0])))"
   ],
   "outputs": []
  },
  {
   "cell_type": "code",
   "execution_count": 131,
   "id": "ccfaa998-cd25-4d80-a3b3-6b0e3a91b4d8",
   "metadata": {},
   "source": [
    "imshow(np.log(fft_amplitudes), cmap='gray')"
   ],
   "outputs": []
  }
 ],
 "metadata": {
  "kernelspec": {
   "display_name": "Python 3 (ipykernel)",
   "language": "python",
   "name": "python3"
  },
  "language_info": {
   "codemirror_mode": {
    "name": "ipython",
    "version": 3
   },
   "file_extension": ".py",
   "mimetype": "text/x-python",
   "name": "python",
   "nbconvert_exporter": "python",
   "pygments_lexer": "ipython3",
   "version": "3.11.9"
  }
 },
 "nbformat": 4,
 "nbformat_minor": 5
}
