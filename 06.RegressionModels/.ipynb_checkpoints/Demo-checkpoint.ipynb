{
 "cells": [
  {
   "cell_type": "code",
   "execution_count": 2,
   "id": "initial_id",
   "metadata": {},
   "source": [
    "%matplotlib inline"
   ],
   "outputs": []
  },
  {
   "cell_type": "code",
   "execution_count": 3,
   "id": "06e700db-4dd7-437d-abbe-20dfa41a804a",
   "metadata": {},
   "source": [
    "import numpy as np\n",
    "import pandas as pd\n",
    "import matplotlib.pyplot as plt"
   ],
   "outputs": []
  },
  {
   "cell_type": "markdown",
   "id": "4ae742a2-2c07-48f5-bee7-432a1c24a493",
   "metadata": {},
   "source": [
    "# Regression Models"
   ]
  },
  {
   "cell_type": "code",
   "execution_count": 5,
   "id": "345d506c-73a1-4054-b08f-5f931116609f",
   "metadata": {},
   "source": [
    "x = np.linspace(-3, 5, 10)\n",
    "y = 2 * x + 3"
   ],
   "outputs": []
  },
  {
   "cell_type": "code",
   "execution_count": 7,
   "id": "f81fca38-0775-4b66-934a-c54c600a065c",
   "metadata": {},
   "source": [
    "plt.plot(x, y) # this is the model\n",
    "plt.scatter(x, y, c='r') # this is the data\n",
    "plt.show()"
   ],
   "outputs": []
  },
  {
   "cell_type": "markdown",
   "id": "1a399712-fb15-4965-9e0b-ce5b6076187e",
   "metadata": {},
   "source": [
    "Increasing the data and intrudicing variance $\\varepsilon = np.random.normal(loc=0)$\n",
    "The $loc$ is $0$ because if was different than zero, it is not random anymore and will be included in the parameter $b$"
   ]
  },
  {
   "cell_type": "code",
   "execution_count": 11,
   "id": "7eebaca4-3241-4f85-a6ff-0555a61343c9",
   "metadata": {},
   "source": [
    "x = np.linspace(-3, 5, 1000)\n",
    "y = 2 * x + 3"
   ],
   "outputs": []
  },
  {
   "cell_type": "code",
   "execution_count": 14,
   "id": "46b58bd6-79f3-4023-b119-6f43a3bf79fb",
   "metadata": {},
   "source": [
    "plt.scatter(x, y, c='r', s=0.1) # this is the data\n",
    "plt.xlabel('x')\n",
    "plt.ylabel('y')\n",
    "plt.show()"
   ],
   "outputs": []
  },
  {
   "cell_type": "code",
   "execution_count": 30,
   "id": "76d82856-6fd4-485a-a093-c161c5670521",
   "metadata": {},
   "source": [
    "y_noise = np.random.normal(loc=0, scale=0.5, size=len(x)) # variance"
   ],
   "outputs": []
  },
  {
   "cell_type": "code",
   "execution_count": 31,
   "id": "c0a0cde3-ad3c-4f2d-8044-dd0695490261",
   "metadata": {},
   "source": [
    "y_result = y + y_noise"
   ],
   "outputs": []
  },
  {
   "cell_type": "markdown",
   "id": "11d5e8c3-d72c-4db8-a196-ee9c0b5e1574",
   "metadata": {},
   "source": [
    "Now we plot $(x, y)$ where $y$ will be accounted for the noise"
   ]
  },
  {
   "cell_type": "code",
   "execution_count": 32,
   "id": "43bd32c1-329d-455d-beb4-5a411327a346",
   "metadata": {},
   "source": [
    "plt.scatter(x, y_result, c='r', s=0.1)\n",
    "plt.xlabel('x')\n",
    "plt.ylabel('y')\n",
    "plt.show()"
   ],
   "outputs": []
  },
  {
   "cell_type": "markdown",
   "id": "31899c8b-7867-45f1-bc71-19b4158c67b8",
   "metadata": {},
   "source": [
    "We are interesting of the pattern. Redusing the standart deviation will bring the points closer together, increasing it will disperse them."
   ]
  },
  {
   "cell_type": "code",
   "execution_count": 33,
   "id": "dde3663e-cb15-4b1b-a92b-afbcd9159679",
   "metadata": {},
   "source": [
    "y = y_result"
   ],
   "outputs": []
  },
  {
   "cell_type": "markdown",
   "id": "eb8c1913-fae9-47c0-8f0e-07feef06c61b",
   "metadata": {},
   "source": [
    "We have data, we will attempt to create a model by identifying the $a, b$ parameters. First we assume values for $a, b$ and we test the model."
   ]
  },
  {
   "cell_type": "code",
   "execution_count": 50,
   "id": "52934ef8-0188-4604-8ff0-259acb21a4a3",
   "metadata": {},
   "source": [
    "a = 8\n",
    "b = 2\n",
    "\n",
    "model_x = np.linspace(np.min(x), np.max(x), 5)\n",
    "model_y = a * model_x + b"
   ],
   "outputs": []
  },
  {
   "cell_type": "code",
   "execution_count": 51,
   "id": "870ec716-6362-42d3-a5d2-a2b4a1e45a05",
   "metadata": {},
   "source": [
    "plt.plot(model_x, model_y)\n",
    "plt.show()"
   ],
   "outputs": []
  },
  {
   "cell_type": "markdown",
   "id": "13bbfc4f-6377-49e3-ade0-558a9b638aac",
   "metadata": {},
   "source": [
    "No a simple look the model looks like the data. We plot them together to see if have any diffrence:"
   ]
  },
  {
   "cell_type": "code",
   "execution_count": 46,
   "id": "3c0a33b4-71cf-43f0-9bde-4b6927aba9f6",
   "metadata": {},
   "source": [
    "def plot_predictions(x, y, a, b):\n",
    "\n",
    "    predictions = a * x + b\n",
    "    \n",
    "    plt.plot(x, predictions, label='Model')\n",
    "    plt.scatter(x, y, c='r', s=0.5, label='Data')\n",
    "    \n",
    "    plt.xlabel('x')\n",
    "    plt.ylabel('y')\n",
    "\n",
    "    plt.legend()\n",
    "    plt.show()"
   ],
   "outputs": []
  },
  {
   "cell_type": "code",
   "execution_count": 54,
   "id": "8dd2d4f7-7945-4237-bdff-3b8f24d5a995",
   "metadata": {},
   "source": [
    "plot_predictions(x, y, a, b)"
   ],
   "outputs": []
  }
 ],
 "metadata": {
  "kernelspec": {
   "display_name": "Python 3 (ipykernel)",
   "language": "python",
   "name": "python3"
  },
  "language_info": {
   "codemirror_mode": {
    "name": "ipython",
    "version": 3
   },
   "file_extension": ".py",
   "mimetype": "text/x-python",
   "name": "python",
   "nbconvert_exporter": "python",
   "pygments_lexer": "ipython3",
   "version": "3.11.9"
  }
 },
 "nbformat": 4,
 "nbformat_minor": 5
}
