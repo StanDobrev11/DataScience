{
 "cells": [
  {
   "cell_type": "code",
   "execution_count": 1,
   "id": "da52d4b8-b8df-4b07-ac65-91f93bb67242",
   "metadata": {},
   "source": [
    "%matplotlib inline"
   ],
   "outputs": []
  },
  {
   "cell_type": "code",
   "execution_count": 2,
   "id": "11619a6c-e7b1-4762-9d83-14d6bcebaa5e",
   "metadata": {},
   "source": [
    "import numpy as np\n",
    "import pandas as pd\n",
    "import matplotlib.pyplot as plt\n",
    "\n",
    "from plotting import plot_equatorial_pacific\n"
   ],
   "outputs": []
  },
  {
   "cell_type": "markdown",
   "id": "4ad4728a-f41d-49cd-834c-05cf13c2def2",
   "metadata": {},
   "source": [
    "# Study of the Effects of ENSO on Tropical Depressions in the North Pacific Ocean\n",
    "\n",
    "## ABSTRACT\n",
    "\n",
    "The El Niño-Southern Oscillation (ENSO) is a critical driver of climate variability, with profound impacts on weather patterns across the globe, particularly in the North Pacific Ocean. This study investigates the influence of ENSO phases—El Niño, La Niña, and Neutral on the formation, frequency, intensity, and tracks of tropical depressions (TD) in the North Pacific Ocean. Utilizing historical sea surface temperature (SST) data and tropical depression records, the study employs statistical analysis and geospatial techniques to explore correlations between ENSO phases and tropical depression activity.\n",
    "\n",
    "The analysis reveals significant variations in the frequency and intensity of tropical depressions across different ENSO phases, with El Niño years showing a higher frequency of intense tropical depressions in the Central and Eastern Pacific, while La Niña years are associated with a westward shift in tropical depression activity towards the Western Pacific. The study also examines the changes in SST anomalies during different ENSO phases and their relationship with tropical depression formation.\n",
    "\n",
    "These findings provide a deeper understanding of the complex interactions between ENSO and tropical depression dynamics in the North Pacific, offering valuable insights for improving the prediction and management of tropical depressions in the context of ENSO-driven climate variability. The results have significant implications for forecasting, disaster preparedness, and climate adaptation strategies in regions affected by tropical depressions.\n",
    "\n",
    "### Introduction\n",
    "\n",
    "The El Niño–Southern Oscillation is a single climate phenomenon that periodically fluctuates between three phases: Neutral, La Niña or El Niño. La Niña and El Niño are opposite phases in the oscillation which are deemed to occur when specific ocean and atmospheric conditions are reached or exceeded.\n",
    "\n",
    "**El Niño** is the phase where the ocean waters in the central and eastern Pacific become warmer than usual. This warming can cause significant changes in weather patterns, such as increased rainfall in some areas and droughts in others.\n",
    "\n",
    "**La Niña** is the opposite phase, where the ocean waters in these regions become cooler than average. This cooling also disrupts typical weather patterns, often leading to different sets of extremes, like more intense storms or colder temperatures in certain areas.\n",
    "\n",
    "**Neutral** refers to the periods between El Niño and La Niña when sea surface temperatures are closer to their average, and global weather patterns are generally more stable.\n",
    "\n",
    "ENSO is one of the most important drivers of climate variability on Earth, affecting everything from rainfall and temperatures to the occurrence of natural disasters like floods, droughts, and storms. Information on the phases and temperature deviations can be found in the [NOAA](https://origin.cpc.ncep.noaa.gov/products/analysis_monitoring/ensostuff/ONI_v5.php) website.  Warm and cold periods are calculated based on a threshold of $\\pm0.5^oC $ for the Oceanic Niño Index (ONI) in the area of $5^oN-5^oS, 170^oW-120^oW$\n",
    "\n",
    "This project focuses on understanding how ENSO affects tropical depressions in the North Pacific Ocean. Tropical depressions are low-pressure weather systems that can develop into more severe storms, such as tropical storms or hurricanes. By analyzing historical data on sea surface temperatures and tropical depressions, this study aims to uncover patterns and relationships between the different phases of ENSO and the behavior of tropical depressions in the Eastern, Central, and Western Pacific regions. Understanding these connections can help improve forecasts and prepare for the impacts of these powerful weather systems.\n",
    "\n"
   ]
  },
  {
   "cell_type": "code",
   "execution_count": null,
   "id": "26bcc9b6-74cc-4c6b-9e73-fb2c76d3af8f",
   "metadata": {},
   "source": [],
   "outputs": []
  }
 ],
 "metadata": {
  "kernelspec": {
   "display_name": "Python 3 (ipykernel)",
   "language": "python",
   "name": "python3"
  },
  "language_info": {
   "codemirror_mode": {
    "name": "ipython",
    "version": 3
   },
   "file_extension": ".py",
   "mimetype": "text/x-python",
   "name": "python",
   "nbconvert_exporter": "python",
   "pygments_lexer": "ipython3",
   "version": "3.11.9"
  }
 },
 "nbformat": 4,
 "nbformat_minor": 5
}
