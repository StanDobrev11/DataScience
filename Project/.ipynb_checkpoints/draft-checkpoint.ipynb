{
 "cells": [
  {
   "cell_type": "code",
   "execution_count": 1,
   "id": "3a03a62f-60bc-4133-b254-a0398041be06",
   "metadata": {},
   "source": [
    "%matplotlib inline"
   ],
   "outputs": []
  },
  {
   "cell_type": "code",
   "execution_count": 2,
   "id": "ef37902f-59ee-41bd-9717-ac28747b3146",
   "metadata": {},
   "source": [
    "import numpy as np\n",
    "import pandas as pd\n",
    "import matplotlib.pyplot as plt\n",
    "import xarray as xr\n",
    "import seaborn as sns\n",
    "from scipy.interpolate import griddata\n",
    "from plotting import plot_equatorial_pacific\n",
    "from utils import read_files"
   ],
   "outputs": []
  },
  {
   "cell_type": "markdown",
   "id": "f4d970c9-135c-420f-9c2b-431b4c94d483",
   "metadata": {},
   "source": [
    "The NCEI Marine data has no option of narrowing the target data field, i.e longitude and latitude of interest. Since it is of very large size, it was not used."
   ]
  },
  {
   "cell_type": "code",
   "execution_count": null,
   "id": "d4523c26-e497-4534-b80c-77fe9c9b189a",
   "metadata": {},
   "source": [
    "data = pd.read_csv('data/Marine_CSV_sample.csv')"
   ],
   "outputs": []
  },
  {
   "cell_type": "code",
   "execution_count": null,
   "id": "27fff3f9-0d97-4006-9ca3-4120df191902",
   "metadata": {},
   "source": [
    "data.columns"
   ],
   "outputs": []
  },
  {
   "cell_type": "code",
   "execution_count": null,
   "id": "5b6eb611-950b-46e9-9a9c-afaa5d3b5d52",
   "metadata": {
    "scrolled": true
   },
   "source": [
    "data[['Latitude', 'Longitude', 'Time of Observation', 'Sea Surface Temperature']]"
   ],
   "outputs": []
  },
  {
   "cell_type": "markdown",
   "id": "735b2253-7799-4aa8-8ce3-547012e257f6",
   "metadata": {},
   "source": [
    "Below is monthly data, collected from various stations in particular area, denoted by the coordinates located in the name of the file."
   ]
  },
  {
   "cell_type": "code",
   "execution_count": null,
   "id": "06f8d7a1-a3c0-428f-86e1-2be8eabe5b80",
   "metadata": {},
   "source": [
    "data = pd.read_csv('data/40_130_30_140.csv')"
   ],
   "outputs": []
  },
  {
   "cell_type": "code",
   "execution_count": null,
   "id": "06b032db-4af7-474f-9967-751da9f853f5",
   "metadata": {},
   "source": [
    "data.columns"
   ],
   "outputs": []
  },
  {
   "cell_type": "code",
   "execution_count": null,
   "id": "24a01f5c-dbea-4a01-8716-c967f5df535a",
   "metadata": {
    "scrolled": true
   },
   "source": [
    "data[['STATION', 'DATE', 'LATITUDE', 'LONGITUDE', 'SEA_SURF_TEMP']]"
   ],
   "outputs": []
  },
  {
   "cell_type": "code",
   "execution_count": null,
   "id": "d49515ae-2bde-4d38-9166-f31bc4cf2fdf",
   "metadata": {},
   "source": [
    "data.groupby(['DATE', 'LATITUDE', 'LONGITUDE'])['SEA_SURF_TEMP'].mean()"
   ],
   "outputs": []
  },
  {
   "cell_type": "code",
   "execution_count": null,
   "id": "4960f576-b41f-4174-a21f-c93316a5c4b5",
   "metadata": {},
   "source": [
    "data['SEA_SURF_TEMP'][data['LATITUDE'] < 0]"
   ],
   "outputs": []
  },
  {
   "cell_type": "code",
   "execution_count": null,
   "id": "43c5d12d-b098-4138-8bfe-1a394f0f6a4a",
   "metadata": {},
   "source": [
    "data['LATITUDE'].max()"
   ],
   "outputs": []
  },
  {
   "cell_type": "markdown",
   "id": "dc1347a4-1773-44ae-9aac-3040c088527d",
   "metadata": {},
   "source": [
    "Below is monthly data downloaded from the https://neo.gsfc.nasa.gov/ website. It is monthly data in .nc format."
   ]
  },
  {
   "cell_type": "code",
   "execution_count": null,
   "id": "48684f72-50b6-4f40-8512-559729c12103",
   "metadata": {},
   "source": [
    "# reading the dataset for month of July 2024\n",
    "# dataset = xr.open_dataset('data/AQUA_MODIS.20240701_20240731.L3m.MO.SST.sst.9km.nc')"
   ],
   "outputs": []
  },
  {
   "cell_type": "code",
   "execution_count": null,
   "id": "3f3b85c0-216e-4d75-aeb5-9c64ab1dd83a",
   "metadata": {},
   "source": [
    "dataset = xr.open_dataset('data/AQUA_MODIS/LANINA/AQUA_MODIS.20101201_20101231.L3m.MO.SST.sst.9km.nc')"
   ],
   "outputs": []
  },
  {
   "cell_type": "code",
   "execution_count": null,
   "id": "64d86acb-06e6-4a4b-a876-66b745c8b2d2",
   "metadata": {},
   "source": [
    "# reading all variables\n",
    "dataset.variables"
   ],
   "outputs": []
  },
  {
   "cell_type": "markdown",
   "id": "a83fbcc1-6de4-4c39-bd99-c87ae94955b6",
   "metadata": {},
   "source": [
    "Will have to make trasformation on the dataset in order to get the data needed"
   ]
  },
  {
   "cell_type": "code",
   "execution_count": null,
   "id": "36b93ce5-70a6-4a67-bf8c-80bfb3d4979e",
   "metadata": {},
   "source": [
    "# extracting to pandas dataframe\n",
    "raw_data = dataset['sst'].to_dataframe()\n",
    "\n",
    "# droping the multiindex\n",
    "tidy_data = raw_data.reset_index()\n",
    "\n",
    "# filtering lat[20S; 20N]\n",
    "tidy_data = tidy_data[(tidy_data.lat >= -20) & (tidy_data.lat <= 20)]\n",
    "\n",
    "# filtering long[130E -> 180 -> -80 W]\n",
    "tidy_data = tidy_data[(tidy_data.lon >= -180) & (tidy_data.lon <= -80) | (tidy_data.lon >= 130) & (tidy_data.lon <= 180)]\n",
    "\n",
    "# droping na values\n",
    "tidy_data = tidy_data.dropna()\n",
    "\n",
    "# rounding lats and long to 0.5 deg\n",
    "def round_to_nearest_half(x):\n",
    "    return np.round(x * 2) / 2\n",
    "\n",
    "tidy_data.lat = tidy_data.lat.apply(round_to_nearest_half)\n",
    "tidy_data.lon = tidy_data.lon.apply(round_to_nearest_half)\n",
    "\n",
    "# grouping by lat and long and averaging the sst\n",
    "tidy_data = tidy_data.groupby(['lat', 'lon']).sst.mean()\n",
    "\n",
    "# dropping multiindex\n",
    "tidy_data = tidy_data.reset_index()\n",
    "\n",
    "# getting the month\n",
    "current_month = dataset.attrs['time_coverage_start']\n",
    "\n",
    "# convert the string to pd.Timestamp object\n",
    "current_month = pd.to_datetime(current_month)\n",
    "\n",
    "# normalize timestamp\n",
    "current_month = current_month.normalize()\n",
    "\n",
    "# set the month as index of the cleaned data\n",
    "tidy_data.index = pd.Index([current_month] * len(tidy_data))"
   ],
   "outputs": []
  },
  {
   "cell_type": "code",
   "execution_count": null,
   "id": "8a491ec5-aa2e-4efc-889c-3147cbec4404",
   "metadata": {},
   "source": [
    "# rounding the sst\n",
    "# raw_data.sst.round(1)\n",
    "# since the .round() is not working as expected, np used\n",
    "# np.round(raw_data.sst, 1)\n",
    "# since np is not working, using apply\n",
    "tidy_data.sst = tidy_data.sst.apply(lambda x: round(x, 1))"
   ],
   "outputs": []
  },
  {
   "cell_type": "code",
   "execution_count": null,
   "id": "96c306e1-4094-4f1d-872f-4e32453785ce",
   "metadata": {},
   "source": [
    "tidy_data['lon'] = np.where(tidy_data['lon'] < 0, tidy_data['lon'] + 360, tidy_data['lon'])"
   ],
   "outputs": []
  },
  {
   "cell_type": "code",
   "execution_count": null,
   "id": "4557b8a1-75bd-42f6-bdfe-b6db2679cd32",
   "metadata": {},
   "source": [
    "tidy_data.sort_values(['lat', 'lon'])"
   ],
   "outputs": []
  },
  {
   "cell_type": "code",
   "execution_count": null,
   "id": "f350b49d-ca9b-4cdd-a26c-40c0706fdcdf",
   "metadata": {},
   "source": [
    "# getting both the sst and the quality of the observation\n",
    "combined_raw = dataset[['sst', 'qual_sst']].to_dataframe()"
   ],
   "outputs": []
  },
  {
   "cell_type": "code",
   "execution_count": null,
   "id": "b91f4c79-0c28-4041-be1f-572c347f47a3",
   "metadata": {},
   "source": [
    "combined_raw = combined_raw.reset_index()"
   ],
   "outputs": []
  },
  {
   "cell_type": "code",
   "execution_count": null,
   "id": "ab696b3b-190b-4f99-b46c-610076883b88",
   "metadata": {},
   "source": [
    "combined_raw.qual_sst.value_counts(dropna=False)"
   ],
   "outputs": []
  },
  {
   "cell_type": "markdown",
   "id": "323019ce-41e8-4ee3-b4ad-19a350abb974",
   "metadata": {},
   "source": [
    "Not explicitly written which is the most reliable observation, however based on common conventions in quality flags, 0.0 is typically used to indicate the highest quality or most reliable observation. For the purpose of the project, the quality of the data is consider to be at sufficient level."
   ]
  },
  {
   "cell_type": "code",
   "execution_count": null,
   "id": "15f3b767-1fa6-4eca-a600-1e5c52b56d9c",
   "metadata": {},
   "source": [
    "dataset"
   ],
   "outputs": []
  },
  {
   "cell_type": "code",
   "execution_count": null,
   "id": "e02e6f20-8b75-43bd-966f-b81cfdb1e639",
   "metadata": {},
   "source": [
    "tidy_data"
   ],
   "outputs": []
  },
  {
   "cell_type": "markdown",
   "id": "45259028-96ad-4c81-a447-223c05a557fc",
   "metadata": {},
   "source": [
    "Lets try and plot the data to see how it looks:"
   ]
  },
  {
   "cell_type": "code",
   "execution_count": null,
   "id": "4d40bf16-1a56-4ddf-b160-222109cedc21",
   "metadata": {},
   "source": [
    "plt.figure(figsize=(30, 10))\n",
    "\n",
    "# contour map\n",
    "lon_grid = np.linspace(tidy_data.lon.min(), tidy_data.lon.max(), 100)\n",
    "lat_grid = np.linspace(tidy_data.lat.min(), tidy_data.lat.max(), 100)\n",
    "lon_grid, lat_grid = np.meshgrid(lon_grid, lat_grid)\n",
    "sst_grid = griddata((tidy_data.lon, tidy_data.lat), tidy_data.sst, (lon_grid, lat_grid), method='linear')\n",
    "plt.contourf(lon_grid, lat_grid, sst_grid, cmap='jet', levels=20)\n",
    "\n",
    "\n",
    "# plt.scatter(tidy_data.lon, tidy_data.lat, c=tidy_data.sst, cmap='jet', alpha=0.7, s=150, vmin=20, vmax=35)\n",
    "plt.colorbar(label='Temperature')\n",
    "\n",
    "x_tick=np.arange(130, 290, 10)\n",
    "x_label=[f'{x}°E' if x <= 180 else f'{360 - x}°W' for x in x_tick]\n",
    "\n",
    "y_tick = np.arange(-20, 25, 5)\n",
    "y_label = [f'{np.abs(x)}°S' if x < 0 else f'{np.abs(x)}°N' for x in y_tick]\n",
    "\n",
    "box = plt.Rectangle((190, -5), 50, 10, linewidth=2, edgecolor='RED', facecolor='none')\n",
    "plt.gca().add_patch(box)\n",
    "\n",
    "plt.axhline(y=0)\n",
    "\n",
    "plt.xticks(ticks=x_tick, labels=x_label)\n",
    "plt.yticks(ticks=y_tick, labels=y_label)\n",
    "\n",
    "plt.xlim(130, 280)\n",
    "plt.ylim(-20, 20)\n",
    "plt.xlabel('Longitude')\n",
    "plt.ylabel('Latitude')\n",
    "plt.title(f'Equatorian Distribution of SST for {current_month.month_name()}-{current_month.year}')  # Title of the plot\n",
    "plt.show()  # Display the plot"
   ],
   "outputs": []
  },
  {
   "cell_type": "markdown",
   "id": "3bae4f9a-b5a0-4e96-b998-649354e37907",
   "metadata": {},
   "source": [
    "The anomalies observed on the NE and SW quadrants of the diagram are false measurments taken at the earth surface.\n",
    "We need to extract the python code of reading a dataset and converting it to clean and tidy csv to a function and in addition, to be able to read dirs reccursivly and apply the transformation to all datasets."
   ]
  },
  {
   "cell_type": "markdown",
   "id": "3eb90a0d-2e6b-486e-ad1c-d8611009ceb3",
   "metadata": {},
   "source": [
    "The below code is written in a separate module 'utils.py'"
   ]
  },
  {
   "cell_type": "code",
   "execution_count": null,
   "id": "11a62756-6c3f-469b-802c-87c4b37afb3a",
   "metadata": {},
   "source": [
    "result_list = extract_datasets('data/AQUA_MODIS/ELNINO/2015/')"
   ],
   "outputs": []
  },
  {
   "cell_type": "code",
   "execution_count": null,
   "id": "ec7872ca-27ba-48a8-bfaf-45bb1b9a7d3c",
   "metadata": {},
   "source": [
    "dataset = result_list"
   ],
   "outputs": []
  },
  {
   "cell_type": "code",
   "execution_count": null,
   "id": "106c2ff1-b3d3-4e81-a347-0666e442c0d6",
   "metadata": {},
   "source": [
    "df = create_dataframe('esno_2015', *dataset)"
   ],
   "outputs": []
  },
  {
   "cell_type": "markdown",
   "id": "fbb8abd7-870b-44a6-a3ef-91fea88da43e",
   "metadata": {},
   "source": [
    "After having the combined dataframes I can extract each month data using a 'for' loop and anallyze the data:"
   ]
  },
  {
   "cell_type": "code",
   "execution_count": null,
   "id": "2f0121f7-2517-4634-8f5b-3afbff1d5176",
   "metadata": {},
   "source": [
    "for index, data in df.groupby(df.index):\n",
    "    print(index, data.sst.mean())"
   ],
   "outputs": []
  },
  {
   "cell_type": "code",
   "execution_count": null,
   "id": "5931c0fc-d532-43f1-8500-ba7b0fbf89f4",
   "metadata": {},
   "source": [
    "for index, data in df.groupby(df.index):\n",
    "    print(index, data.sst.median())"
   ],
   "outputs": []
  },
  {
   "cell_type": "markdown",
   "id": "0764c1e9-20f0-48f6-a2c3-3ab41748dd24",
   "metadata": {},
   "source": [
    "This is of no use. I need to filter the data for Niño 3.4 region (5°N-5°S, 170°W-120°W)"
   ]
  },
  {
   "cell_type": "code",
   "execution_count": null,
   "id": "4dba8286-b628-425b-8f7a-8c8720b473d0",
   "metadata": {},
   "source": [
    "df_enso_region = df[(df.lat >= -5) & (df.lat <= 5) | (df.lon >= -170) & (df.lon <= -120)]"
   ],
   "outputs": []
  },
  {
   "cell_type": "code",
   "execution_count": null,
   "id": "d1e2c9c2-902c-4856-8002-cdef2873477e",
   "metadata": {},
   "source": [
    "df_enso_region"
   ],
   "outputs": []
  },
  {
   "cell_type": "code",
   "execution_count": null,
   "id": "30bd0f9b-720d-4345-9a52-d8a42d6f5b92",
   "metadata": {},
   "source": [
    "for date, data in df_enso_region.groupby(df_enso_region.index):\n",
    "    print(date, f'Mean: {data.sst.mean().round(2)}, Median: {data.sst.median()}')"
   ],
   "outputs": []
  },
  {
   "cell_type": "markdown",
   "id": "6a3681f4-59ea-43f5-a842-bf8aad35a1ed",
   "metadata": {},
   "source": [
    "Lets export plotting of the equatorial pacific ocean to a function"
   ]
  },
  {
   "cell_type": "code",
   "execution_count": null,
   "id": "3a5f4cf8-cde5-43dd-b11f-b1a63590f615",
   "metadata": {},
   "source": [
    "from plotting import plot_equatorial_pacific"
   ],
   "outputs": []
  },
  {
   "cell_type": "code",
   "execution_count": null,
   "id": "04c6eb6a-86b4-4be8-9684-c5199330d8bc",
   "metadata": {},
   "source": [
    "df = pd.read_csv('data/AQUA_MODIS_CSV/esno_2015.csv', index_col=0)\n",
    "df.index = pd.DatetimeIndex(df.index)"
   ],
   "outputs": []
  },
  {
   "cell_type": "code",
   "execution_count": null,
   "id": "535ed849-70bd-4993-a587-ddf2d4f266a3",
   "metadata": {},
   "source": [
    "df"
   ],
   "outputs": []
  },
  {
   "cell_type": "code",
   "execution_count": null,
   "id": "bcee538b-87e1-434a-a6cf-318b408646ff",
   "metadata": {},
   "source": [
    "plot_equatorial_pacific(df)"
   ],
   "outputs": []
  },
  {
   "cell_type": "markdown",
   "id": "8b33a2ba-c008-437f-88fa-c20bdd51c3c0",
   "metadata": {},
   "source": [
    "Found out that my extracting function is not working as expected. Fixed it. I have the dataframe saved as expected."
   ]
  },
  {
   "cell_type": "markdown",
   "id": "e3c537ba-df3a-4d3b-8119-c1476d324496",
   "metadata": {},
   "source": [
    "Lets extract la nina and see how it works:"
   ]
  },
  {
   "cell_type": "code",
   "execution_count": null,
   "id": "925b6b3a-98aa-4acd-8ae7-95c8e5a15322",
   "metadata": {},
   "source": [
    "lanina = extract_datasets('data/AQUA_MODIS/LANINA/2010/')"
   ],
   "outputs": []
  },
  {
   "cell_type": "code",
   "execution_count": null,
   "id": "664069ce-2af5-460f-b617-de6f4a29189b",
   "metadata": {},
   "source": [
    "lanina = create_dataframe('lanina_2010', *lanina)"
   ],
   "outputs": []
  },
  {
   "cell_type": "code",
   "execution_count": null,
   "id": "05025181-36f7-43b5-925c-a2f85b68dfda",
   "metadata": {},
   "source": [
    "plot_equatorial_pacific(lanina)"
   ],
   "outputs": []
  },
  {
   "cell_type": "markdown",
   "id": "df062b30-5e49-4b62-81a9-95e846170026",
   "metadata": {},
   "source": [
    "The data before 2002 is provided from a different satelite. \n",
    "The data is in csv format, without indication of the lats and longs."
   ]
  },
  {
   "cell_type": "code",
   "execution_count": null,
   "id": "4d013524-c9f3-469b-872e-bc9afb9d0afb",
   "metadata": {},
   "source": [
    "df = pd.read_csv('data/AQUA_MODIS/ELNINO/1997/AVHRR_SST_M_1997-10-01_rgb_720x360.CSV', header=None)\n",
    "lat = np.arange(-90, 90, 0.5)\n",
    "lon = np.arange(-180, 180, 0.5)"
   ],
   "outputs": []
  },
  {
   "cell_type": "code",
   "execution_count": null,
   "id": "f6a47694-d726-4cb9-9b04-f8365cc32656",
   "metadata": {},
   "source": [
    "df.columns = lon"
   ],
   "outputs": []
  },
  {
   "cell_type": "code",
   "execution_count": null,
   "id": "dedd0d1b-16cc-41f2-91d8-2f28207cdb4d",
   "metadata": {},
   "source": [
    "df"
   ],
   "outputs": []
  },
  {
   "cell_type": "code",
   "execution_count": null,
   "id": "a28f2f3b-a355-4030-bc6b-78181525c9fa",
   "metadata": {},
   "source": [
    "df['lat'] = lat"
   ],
   "outputs": []
  },
  {
   "cell_type": "code",
   "execution_count": null,
   "id": "c147cd2c-bb2f-417d-b719-94471166f3c9",
   "metadata": {},
   "source": [
    "df = df.melt(id_vars='lat', var_name='lon', value_name='sst')"
   ],
   "outputs": []
  },
  {
   "cell_type": "code",
   "execution_count": null,
   "id": "3bf9bd93-0b70-413a-ae92-b4ce956c6adb",
   "metadata": {},
   "source": [
    "df = df[(df.lat >= -20) & (df.lat <= 20)]"
   ],
   "outputs": []
  },
  {
   "cell_type": "code",
   "execution_count": null,
   "id": "2d2ad0b5-b9dd-4a95-9506-c98e85aff4f6",
   "metadata": {},
   "source": [
    "df = df[(df.lon >= -180) & (df.lon <= -80) | (df.lon >= 130) & (df.lon <= 180)]"
   ],
   "outputs": []
  },
  {
   "cell_type": "code",
   "execution_count": null,
   "id": "ae5fc362-8df5-4646-aa1c-52dcb21309be",
   "metadata": {},
   "source": [
    "df = df.reset_index(drop=True)"
   ],
   "outputs": []
  },
  {
   "cell_type": "code",
   "execution_count": null,
   "id": "bd2c7bed-bf41-4992-9e08-28d7f35bb8d8",
   "metadata": {},
   "source": [
    "df"
   ],
   "outputs": []
  },
  {
   "cell_type": "markdown",
   "id": "6e926e48-8398-405f-a745-d44a14014bc0",
   "metadata": {},
   "source": [
    "It is working as expected. Now to create a python function to read multiple files. Will modify the extract_database() function to read "
   ]
  },
  {
   "cell_type": "code",
   "execution_count": null,
   "id": "836320b9-2328-4422-b5d2-3c550b1995d2",
   "metadata": {},
   "source": [],
   "outputs": []
  }
 ],
 "metadata": {
  "kernelspec": {
   "display_name": "Python 3 (ipykernel)",
   "language": "python",
   "name": "python3"
  },
  "language_info": {
   "codemirror_mode": {
    "name": "ipython",
    "version": 3
   },
   "file_extension": ".py",
   "mimetype": "text/x-python",
   "name": "python",
   "nbconvert_exporter": "python",
   "pygments_lexer": "ipython3",
   "version": "3.11.9"
  }
 },
 "nbformat": 4,
 "nbformat_minor": 5
}
