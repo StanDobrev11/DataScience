{
 "cells": [
  {
   "cell_type": "code",
   "execution_count": 1,
   "id": "bc629e92-227d-471c-889b-de31961fc2a7",
   "metadata": {},
   "outputs": [],
   "source": [
    "%matplotlib inline"
   ]
  },
  {
   "cell_type": "code",
   "execution_count": 2,
   "id": "cacbc480-80a2-40d1-b441-a064d565663e",
   "metadata": {},
   "outputs": [],
   "source": [
    "import numpy as np\n",
    "import pandas as pd\n",
    "import matplotlib.pyplot as plt"
   ]
  },
  {
   "cell_type": "markdown",
   "id": "1a345cf6-b7d3-4995-9cd2-2f5dc9410526",
   "metadata": {},
   "source": [
    "# Data Visualization and EDA"
   ]
  },
  {
   "cell_type": "code",
   "execution_count": 3,
   "id": "7e4c10ee-3293-4d80-9c96-4d0947121807",
   "metadata": {},
   "outputs": [],
   "source": [
    "songs = pd.read_csv('data/Most Streamed Spotify Songs 2024.csv', encoding='latin')"
   ]
  },
  {
   "cell_type": "code",
   "execution_count": 4,
   "id": "7a7d6e9c-548d-4c75-9a6a-328990e92260",
   "metadata": {},
   "outputs": [
    {
     "data": {
      "text/html": [
       "<div>\n",
       "<style scoped>\n",
       "    .dataframe tbody tr th:only-of-type {\n",
       "        vertical-align: middle;\n",
       "    }\n",
       "\n",
       "    .dataframe tbody tr th {\n",
       "        vertical-align: top;\n",
       "    }\n",
       "\n",
       "    .dataframe thead th {\n",
       "        text-align: right;\n",
       "    }\n",
       "</style>\n",
       "<table border=\"1\" class=\"dataframe\">\n",
       "  <thead>\n",
       "    <tr style=\"text-align: right;\">\n",
       "      <th></th>\n",
       "      <th>count</th>\n",
       "      <th>mean</th>\n",
       "      <th>std</th>\n",
       "      <th>min</th>\n",
       "      <th>25%</th>\n",
       "      <th>50%</th>\n",
       "      <th>75%</th>\n",
       "      <th>max</th>\n",
       "    </tr>\n",
       "  </thead>\n",
       "  <tbody>\n",
       "    <tr>\n",
       "      <th>Track Score</th>\n",
       "      <td>4600.0</td>\n",
       "      <td>41.844043</td>\n",
       "      <td>38.543766</td>\n",
       "      <td>19.4</td>\n",
       "      <td>23.3</td>\n",
       "      <td>29.9</td>\n",
       "      <td>44.425</td>\n",
       "      <td>725.4</td>\n",
       "    </tr>\n",
       "    <tr>\n",
       "      <th>Spotify Popularity</th>\n",
       "      <td>3796.0</td>\n",
       "      <td>63.501581</td>\n",
       "      <td>16.186438</td>\n",
       "      <td>1.0</td>\n",
       "      <td>61.0</td>\n",
       "      <td>67.0</td>\n",
       "      <td>73.000</td>\n",
       "      <td>96.0</td>\n",
       "    </tr>\n",
       "    <tr>\n",
       "      <th>Apple Music Playlist Count</th>\n",
       "      <td>4039.0</td>\n",
       "      <td>54.603120</td>\n",
       "      <td>71.612270</td>\n",
       "      <td>1.0</td>\n",
       "      <td>10.0</td>\n",
       "      <td>28.0</td>\n",
       "      <td>70.000</td>\n",
       "      <td>859.0</td>\n",
       "    </tr>\n",
       "    <tr>\n",
       "      <th>Deezer Playlist Count</th>\n",
       "      <td>3679.0</td>\n",
       "      <td>32.310954</td>\n",
       "      <td>54.274538</td>\n",
       "      <td>1.0</td>\n",
       "      <td>5.0</td>\n",
       "      <td>15.0</td>\n",
       "      <td>37.000</td>\n",
       "      <td>632.0</td>\n",
       "    </tr>\n",
       "    <tr>\n",
       "      <th>Amazon Playlist Count</th>\n",
       "      <td>3545.0</td>\n",
       "      <td>25.348942</td>\n",
       "      <td>25.989826</td>\n",
       "      <td>1.0</td>\n",
       "      <td>8.0</td>\n",
       "      <td>17.0</td>\n",
       "      <td>34.000</td>\n",
       "      <td>210.0</td>\n",
       "    </tr>\n",
       "    <tr>\n",
       "      <th>TIDAL Popularity</th>\n",
       "      <td>0.0</td>\n",
       "      <td>NaN</td>\n",
       "      <td>NaN</td>\n",
       "      <td>NaN</td>\n",
       "      <td>NaN</td>\n",
       "      <td>NaN</td>\n",
       "      <td>NaN</td>\n",
       "      <td>NaN</td>\n",
       "    </tr>\n",
       "    <tr>\n",
       "      <th>Explicit Track</th>\n",
       "      <td>4600.0</td>\n",
       "      <td>0.358913</td>\n",
       "      <td>0.479734</td>\n",
       "      <td>0.0</td>\n",
       "      <td>0.0</td>\n",
       "      <td>0.0</td>\n",
       "      <td>1.000</td>\n",
       "      <td>1.0</td>\n",
       "    </tr>\n",
       "  </tbody>\n",
       "</table>\n",
       "</div>"
      ],
      "text/plain": [
       "                             count       mean        std   min   25%   50%  \\\n",
       "Track Score                 4600.0  41.844043  38.543766  19.4  23.3  29.9   \n",
       "Spotify Popularity          3796.0  63.501581  16.186438   1.0  61.0  67.0   \n",
       "Apple Music Playlist Count  4039.0  54.603120  71.612270   1.0  10.0  28.0   \n",
       "Deezer Playlist Count       3679.0  32.310954  54.274538   1.0   5.0  15.0   \n",
       "Amazon Playlist Count       3545.0  25.348942  25.989826   1.0   8.0  17.0   \n",
       "TIDAL Popularity               0.0        NaN        NaN   NaN   NaN   NaN   \n",
       "Explicit Track              4600.0   0.358913   0.479734   0.0   0.0   0.0   \n",
       "\n",
       "                               75%    max  \n",
       "Track Score                 44.425  725.4  \n",
       "Spotify Popularity          73.000   96.0  \n",
       "Apple Music Playlist Count  70.000  859.0  \n",
       "Deezer Playlist Count       37.000  632.0  \n",
       "Amazon Playlist Count       34.000  210.0  \n",
       "TIDAL Popularity               NaN    NaN  \n",
       "Explicit Track               1.000    1.0  "
      ]
     },
     "execution_count": 4,
     "metadata": {},
     "output_type": "execute_result"
    }
   ],
   "source": [
    "songs.describe().T"
   ]
  },
  {
   "cell_type": "code",
   "execution_count": 5,
   "id": "1844e35a-fe9a-43ed-ae2a-f613feb8c573",
   "metadata": {},
   "outputs": [],
   "source": [
    "coffee = pd.read_csv('data/merged_data_cleaned.csv', index_col=0)"
   ]
  },
  {
   "cell_type": "code",
   "execution_count": 6,
   "id": "1ceee37c-ee02-4ca7-b288-d057b5ec8155",
   "metadata": {},
   "outputs": [
    {
     "data": {
      "text/plain": [
       "Index(['Species', 'Owner', 'Country.of.Origin', 'Farm.Name', 'Lot.Number',\n",
       "       'Mill', 'ICO.Number', 'Company', 'Altitude', 'Region', 'Producer',\n",
       "       'Number.of.Bags', 'Bag.Weight', 'In.Country.Partner', 'Harvest.Year',\n",
       "       'Grading.Date', 'Owner.1', 'Variety', 'Processing.Method', 'Aroma',\n",
       "       'Flavor', 'Aftertaste', 'Acidity', 'Body', 'Balance', 'Uniformity',\n",
       "       'Clean.Cup', 'Sweetness', 'Cupper.Points', 'Total.Cup.Points',\n",
       "       'Moisture', 'Category.One.Defects', 'Quakers', 'Color',\n",
       "       'Category.Two.Defects', 'Expiration', 'Certification.Body',\n",
       "       'Certification.Address', 'Certification.Contact', 'unit_of_measurement',\n",
       "       'altitude_low_meters', 'altitude_high_meters', 'altitude_mean_meters'],\n",
       "      dtype='object')"
      ]
     },
     "execution_count": 6,
     "metadata": {},
     "output_type": "execute_result"
    }
   ],
   "source": [
    "coffee.columns"
   ]
  },
  {
   "cell_type": "code",
   "execution_count": 116,
   "id": "a0ce1367-f1ee-4941-b483-0b45c0f47b32",
   "metadata": {},
   "outputs": [
    {
     "data": {
      "text/plain": [
       "Species                   object\n",
       "Owner                     object\n",
       "Country.of.Origin         object\n",
       "Farm.Name                 object\n",
       "Lot.Number                object\n",
       "Mill                      object\n",
       "ICO.Number                object\n",
       "Company                   object\n",
       "Altitude                  object\n",
       "Region                    object\n",
       "Producer                  object\n",
       "Number.of.Bags             int64\n",
       "Bag.Weight                object\n",
       "In.Country.Partner        object\n",
       "Harvest.Year              object\n",
       "Grading.Date              object\n",
       "Owner.1                   object\n",
       "Variety                   object\n",
       "Processing.Method         object\n",
       "Aroma                    float64\n",
       "Flavor                   float64\n",
       "Aftertaste               float64\n",
       "Acidity                  float64\n",
       "Body                     float64\n",
       "Balance                  float64\n",
       "Uniformity               float64\n",
       "Clean.Cup                float64\n",
       "Sweetness                float64\n",
       "Cupper.Points            float64\n",
       "Total.Cup.Points         float64\n",
       "Moisture                 float64\n",
       "Category.One.Defects       int64\n",
       "Quakers                  float64\n",
       "Color                     object\n",
       "Category.Two.Defects       int64\n",
       "Expiration                object\n",
       "Certification.Body        object\n",
       "Certification.Address     object\n",
       "Certification.Contact     object\n",
       "unit_of_measurement       object\n",
       "altitude_low_meters      float64\n",
       "altitude_high_meters     float64\n",
       "altitude_mean_meters     float64\n",
       "dtype: object"
      ]
     },
     "execution_count": 116,
     "metadata": {},
     "output_type": "execute_result"
    }
   ],
   "source": [
    "coffee.dtypes"
   ]
  },
  {
   "cell_type": "code",
   "execution_count": 7,
   "id": "387991a1-811c-44f9-a4c6-726ce2de0667",
   "metadata": {},
   "outputs": [
    {
     "data": {
      "text/plain": [
       "Harvest.Year\n",
       "True     1128\n",
       "False     164\n",
       "NaN        47\n",
       "Name: count, dtype: int64"
      ]
     },
     "execution_count": 7,
     "metadata": {},
     "output_type": "execute_result"
    }
   ],
   "source": [
    "coffee['Harvest.Year'].str.isnumeric().value_counts(dropna=False)"
   ]
  },
  {
   "cell_type": "code",
   "execution_count": 8,
   "id": "9784bfbc-e758-43ea-8d1e-251e2e205edc",
   "metadata": {},
   "outputs": [
    {
     "data": {
      "text/plain": [
       "Harvest.Year\n",
       "True     1128\n",
       "False     164\n",
       "Name: count, dtype: int64"
      ]
     },
     "execution_count": 8,
     "metadata": {},
     "output_type": "execute_result"
    }
   ],
   "source": [
    "coffee['Harvest.Year'].dropna().str.isnumeric().value_counts(dropna=False)"
   ]
  },
  {
   "cell_type": "code",
   "execution_count": 10,
   "id": "e5932095-ae6c-433f-b35a-f0bc0973b345",
   "metadata": {},
   "outputs": [],
   "source": [
    "coffee_valid_years = coffee[coffee['Harvest.Year'].str.isnumeric() == True]"
   ]
  },
  {
   "cell_type": "code",
   "execution_count": 11,
   "id": "da96699e-1f60-49ac-bfa1-60b3b1e4242d",
   "metadata": {},
   "outputs": [
    {
     "data": {
      "text/plain": [
       "array(['2014', '2013', '2012', '2015', '2011', '2016', '2010', '2017',\n",
       "       '2018'], dtype=object)"
      ]
     },
     "execution_count": 11,
     "metadata": {},
     "output_type": "execute_result"
    }
   ],
   "source": [
    "coffee_valid_years['Harvest.Year'].unique()"
   ]
  },
  {
   "cell_type": "code",
   "execution_count": 13,
   "id": "be118c0d-8608-4ee9-8d5b-e1865a7c5240",
   "metadata": {},
   "outputs": [
    {
     "name": "stderr",
     "output_type": "stream",
     "text": [
      "C:\\Users\\Master\\AppData\\Local\\Temp\\ipykernel_15440\\183271740.py:1: SettingWithCopyWarning: \n",
      "A value is trying to be set on a copy of a slice from a DataFrame.\n",
      "Try using .loc[row_indexer,col_indexer] = value instead\n",
      "\n",
      "See the caveats in the documentation: https://pandas.pydata.org/pandas-docs/stable/user_guide/indexing.html#returning-a-view-versus-a-copy\n",
      "  coffee_valid_years['Harvest.Year'] = coffee_valid_years['Harvest.Year'].astype(int)\n"
     ]
    }
   ],
   "source": [
    "coffee_valid_years['Harvest.Year'] = coffee_valid_years['Harvest.Year'].astype(int)"
   ]
  },
  {
   "cell_type": "code",
   "execution_count": 14,
   "id": "849c9819-d161-4fc8-9e2e-bf2e4095cd4a",
   "metadata": {},
   "outputs": [
    {
     "data": {
      "text/plain": [
       "Harvest.Year\n",
       "2012    354\n",
       "2014    233\n",
       "2013    181\n",
       "2015    129\n",
       "2016    124\n",
       "2017     70\n",
       "2011     26\n",
       "2010     10\n",
       "2018      1\n",
       "Name: count, dtype: int64"
      ]
     },
     "execution_count": 14,
     "metadata": {},
     "output_type": "execute_result"
    }
   ],
   "source": [
    "coffee_valid_years['Harvest.Year'].value_counts()"
   ]
  },
  {
   "cell_type": "code",
   "execution_count": 18,
   "id": "2d80d3e2-fb79-40bd-ba3b-10bcb95ce5cf",
   "metadata": {},
   "outputs": [],
   "source": [
    "years = coffee_valid_years.groupby('Harvest.Year').size().sort_index()"
   ]
  },
  {
   "cell_type": "code",
   "execution_count": 20,
   "id": "8dae3858-12c7-4221-9408-bd95259b2a3a",
   "metadata": {},
   "outputs": [
    {
     "data": {
      "image/png": "[encoded data removed]",
      "text/plain": [
       "<Figure size 640x480 with 1 Axes>"
      ]
     },
     "metadata": {},
     "output_type": "display_data"
    }
   ],
   "source": [
    "plt.bar(years.index, years)\n",
    "\n",
    "plt.xticks(range(2010, 2019))\n",
    "\n",
    "plt.xlabel('Year')\n",
    "plt.ylabel('Count')\n",
    "plt.title('Number of harvested coffees each year')\n",
    "plt.show()"
   ]
  },
  {
   "cell_type": "markdown",
   "id": "1d474a1b-e00d-4cff-b5d1-0e056904f632",
   "metadata": {},
   "source": [
    "Since we have a time interval, we can show the above diagram as a line chart as well."
   ]
  },
  {
   "cell_type": "code",
   "execution_count": 46,
   "id": "4298d119-a83a-485f-b232-2038f7e9c781",
   "metadata": {},
   "outputs": [
    {
     "data": {
      "image/png": "[encoded data removed]",
      "text/plain": [
       "<Figure size 640x480 with 1 Axes>"
      ]
     },
     "metadata": {},
     "output_type": "display_data"
    }
   ],
   "source": [
    "plt.plot(years.index, years)\n",
    "\n",
    "# showing the maximum\n",
    "# plt.scatter(years[years == years.max()].index, years.max())\n",
    "plt.axhline(years.max(), color='r', linestyle='--')\n",
    "plt.annotate('max', (years.idxmax() + 0.1, years.max() + 5))\n",
    "plt.xticks(range(2010, 2019))\n",
    "\n",
    "plt.xlabel('Year')\n",
    "plt.ylabel('Count')\n",
    "plt.title('Number of harvested coffees each year')\n",
    "plt.show()"
   ]
  },
  {
   "cell_type": "code",
   "execution_count": 60,
   "id": "d15c67b0-c60c-4e35-84ab-9400cc9ea987",
   "metadata": {},
   "outputs": [
    {
     "data": {
      "image/png": "[encoded data removed]",
      "text/plain": [
       "<Figure size 640x480 with 1 Axes>"
      ]
     },
     "metadata": {},
     "output_type": "display_data"
    }
   ],
   "source": [
    "plt.hist(coffee.Aroma, bins=50, label='Aroma', alpha=0.7)\n",
    "plt.hist(coffee.Flavor, bins=50, label='Flavor', alpha=0.7)\n",
    "plt.hist(coffee.Balance, bins=50, label='Balance', alpha=0.7)\n",
    "# plt.xlim(4, 10)\n",
    "plt.legend()\n",
    "plt.show()"
   ]
  },
  {
   "cell_type": "code",
   "execution_count": 64,
   "id": "cb2be117-a5d6-462f-b814-b04c9ea03e75",
   "metadata": {},
   "outputs": [
    {
     "data": {
      "text/html": [
       "<div>\n",
       "<style scoped>\n",
       "    .dataframe tbody tr th:only-of-type {\n",
       "        vertical-align: middle;\n",
       "    }\n",
       "\n",
       "    .dataframe tbody tr th {\n",
       "        vertical-align: top;\n",
       "    }\n",
       "\n",
       "    .dataframe thead th {\n",
       "        text-align: right;\n",
       "    }\n",
       "</style>\n",
       "<table border=\"1\" class=\"dataframe\">\n",
       "  <thead>\n",
       "    <tr style=\"text-align: right;\">\n",
       "      <th></th>\n",
       "      <th>Owner</th>\n",
       "      <th>Company</th>\n",
       "      <th>Species</th>\n",
       "      <th>Balance</th>\n",
       "      <th>Aroma</th>\n",
       "      <th>Flavor</th>\n",
       "    </tr>\n",
       "  </thead>\n",
       "  <tbody>\n",
       "    <tr>\n",
       "      <th>1310</th>\n",
       "      <td>bismarck castro</td>\n",
       "      <td>cigrah s.a de c.v</td>\n",
       "      <td>Arabica</td>\n",
       "      <td>0.00</td>\n",
       "      <td>0.0</td>\n",
       "      <td>0.00</td>\n",
       "    </tr>\n",
       "    <tr>\n",
       "      <th>1335</th>\n",
       "      <td>luis robles</td>\n",
       "      <td>robustasa</td>\n",
       "      <td>Robusta</td>\n",
       "      <td>5.25</td>\n",
       "      <td>7.5</td>\n",
       "      <td>7.67</td>\n",
       "    </tr>\n",
       "  </tbody>\n",
       "</table>\n",
       "</div>"
      ],
      "text/plain": [
       "                Owner            Company  Species  Balance  Aroma  Flavor\n",
       "1310  bismarck castro  cigrah s.a de c.v  Arabica     0.00    0.0    0.00\n",
       "1335      luis robles          robustasa  Robusta     5.25    7.5    7.67"
      ]
     },
     "execution_count": 64,
     "metadata": {},
     "output_type": "execute_result"
    }
   ],
   "source": [
    "coffee.loc[coffee.Balance < 6, ['Owner', 'Company', 'Species', 'Balance', 'Aroma', 'Flavor']]"
   ]
  },
  {
   "cell_type": "code",
   "execution_count": 69,
   "id": "a8498449-d1b7-444b-9c1b-799865d7330a",
   "metadata": {},
   "outputs": [
    {
     "data": {
      "text/plain": [
       "5.25"
      ]
     },
     "execution_count": 69,
     "metadata": {},
     "output_type": "execute_result"
    }
   ],
   "source": [
    "coffee.Balance[coffee.Balance > 0]\n",
    "coffee[coffee.Balance > 0].Balance.min()"
   ]
  },
  {
   "cell_type": "code",
   "execution_count": 72,
   "id": "31ac7100-dbae-42b7-ba76-0912e0c81933",
   "metadata": {},
   "outputs": [
    {
     "data": {
      "text/html": [
       "<div>\n",
       "<style scoped>\n",
       "    .dataframe tbody tr th:only-of-type {\n",
       "        vertical-align: middle;\n",
       "    }\n",
       "\n",
       "    .dataframe tbody tr th {\n",
       "        vertical-align: top;\n",
       "    }\n",
       "\n",
       "    .dataframe thead th {\n",
       "        text-align: right;\n",
       "    }\n",
       "</style>\n",
       "<table border=\"1\" class=\"dataframe\">\n",
       "  <thead>\n",
       "    <tr style=\"text-align: right;\">\n",
       "      <th></th>\n",
       "      <th>Owner</th>\n",
       "      <th>Company</th>\n",
       "      <th>Species</th>\n",
       "      <th>Balance</th>\n",
       "      <th>Aroma</th>\n",
       "      <th>Flavor</th>\n",
       "    </tr>\n",
       "  </thead>\n",
       "  <tbody>\n",
       "    <tr>\n",
       "      <th>1335</th>\n",
       "      <td>luis robles</td>\n",
       "      <td>robustasa</td>\n",
       "      <td>Robusta</td>\n",
       "      <td>5.25</td>\n",
       "      <td>7.50</td>\n",
       "      <td>7.67</td>\n",
       "    </tr>\n",
       "    <tr>\n",
       "      <th>1308</th>\n",
       "      <td>exportadora atlantic, s.a.</td>\n",
       "      <td>exportadora atlantic s.a</td>\n",
       "      <td>Arabica</td>\n",
       "      <td>6.08</td>\n",
       "      <td>7.25</td>\n",
       "      <td>6.58</td>\n",
       "    </tr>\n",
       "    <tr>\n",
       "      <th>1303</th>\n",
       "      <td>cadexsa</td>\n",
       "      <td>cadexsa</td>\n",
       "      <td>Arabica</td>\n",
       "      <td>6.17</td>\n",
       "      <td>6.67</td>\n",
       "      <td>6.50</td>\n",
       "    </tr>\n",
       "    <tr>\n",
       "      <th>1304</th>\n",
       "      <td>cadexsa</td>\n",
       "      <td>cadexsa</td>\n",
       "      <td>Arabica</td>\n",
       "      <td>6.17</td>\n",
       "      <td>7.00</td>\n",
       "      <td>6.17</td>\n",
       "    </tr>\n",
       "    <tr>\n",
       "      <th>1305</th>\n",
       "      <td>cadexsa</td>\n",
       "      <td>cadexsa</td>\n",
       "      <td>Arabica</td>\n",
       "      <td>6.17</td>\n",
       "      <td>7.00</td>\n",
       "      <td>6.33</td>\n",
       "    </tr>\n",
       "  </tbody>\n",
       "</table>\n",
       "</div>"
      ],
      "text/plain": [
       "                           Owner                   Company  Species  Balance  \\\n",
       "1335                 luis robles                 robustasa  Robusta     5.25   \n",
       "1308  exportadora atlantic, s.a.  exportadora atlantic s.a  Arabica     6.08   \n",
       "1303                     cadexsa                   cadexsa  Arabica     6.17   \n",
       "1304                     cadexsa                   cadexsa  Arabica     6.17   \n",
       "1305                     cadexsa                   cadexsa  Arabica     6.17   \n",
       "\n",
       "      Aroma  Flavor  \n",
       "1335   7.50    7.67  \n",
       "1308   7.25    6.58  \n",
       "1303   6.67    6.50  \n",
       "1304   7.00    6.17  \n",
       "1305   7.00    6.33  "
      ]
     },
     "execution_count": 72,
     "metadata": {},
     "output_type": "execute_result"
    }
   ],
   "source": [
    "coffee[coffee.Balance > 0].nsmallest(5, 'Balance')[['Owner', 'Company', 'Species', 'Balance', 'Aroma', 'Flavor']]"
   ]
  },
  {
   "cell_type": "code",
   "execution_count": 86,
   "id": "c33e4384-e1ae-41c6-9fb5-11c46ef289be",
   "metadata": {},
   "outputs": [],
   "source": [
    "owner_one_coffee = coffee.Owner.value_counts() == 1"
   ]
  },
  {
   "cell_type": "code",
   "execution_count": 87,
   "id": "6b668020-7e7a-45b8-aeb8-8e544394ea41",
   "metadata": {},
   "outputs": [],
   "source": [
    "owner_one_coffee = owner_one_coffee[owner_one_coffee].index"
   ]
  },
  {
   "cell_type": "code",
   "execution_count": 88,
   "id": "99563ec9-5dba-4a17-a831-b9a13b664674",
   "metadata": {},
   "outputs": [
    {
     "data": {
      "text/plain": [
       "Index(['gonzalo hernandez',\n",
       "       'ibrahim hussien speciality coffee producer &export', 'case noyale ltd',\n",
       "       'shwe yin mar coffee', 'francisco a mena', 'u htun htun',\n",
       "       'hider abamecha', 'bob mccauley', 'delfina leon shine',\n",
       "       'kongoni estate',\n",
       "       ...\n",
       "       'michael gavina', 'brian beck', 'gladness obed pallangyo',\n",
       "       'dario cesar galeana sanchez', 'jose daniel cobilt castro',\n",
       "       'alvaro quiros perez', 'olivia hernandez virves', 'finca las nieves',\n",
       "       'pedro santos e silva', 'james moore'],\n",
       "      dtype='object', name='Owner', length=172)"
      ]
     },
     "execution_count": 88,
     "metadata": {},
     "output_type": "execute_result"
    }
   ],
   "source": [
    "owner_one_coffee"
   ]
  },
  {
   "cell_type": "code",
   "execution_count": 89,
   "id": "2ee9d35a-3530-4b32-81ce-46204911021a",
   "metadata": {},
   "outputs": [
    {
     "data": {
      "text/plain": [
       "Country.of.Origin\n",
       "Mexico                          68\n",
       "Tanzania, United Republic Of    24\n",
       "Ethiopia                        10\n",
       "Uganda                          10\n",
       "Myanmar                          8\n",
       "Brazil                           7\n",
       "Colombia                         6\n",
       "Indonesia                        5\n",
       "Costa Rica                       4\n",
       "Nicaragua                        4\n",
       "Peru                             3\n",
       "Philippines                      3\n",
       "Thailand                         2\n",
       "Honduras                         2\n",
       "Kenya                            2\n",
       "China                            2\n",
       "United States                    2\n",
       "Panama                           2\n",
       "Mauritius                        1\n",
       "Laos                             1\n",
       "Ecuador                          1\n",
       "Rwanda                           1\n",
       "Haiti                            1\n",
       "Taiwan                           1\n",
       "Papua New Guinea                 1\n",
       "Cote d?Ivoire                    1\n",
       "Name: count, dtype: int64"
      ]
     },
     "execution_count": 89,
     "metadata": {},
     "output_type": "execute_result"
    }
   ],
   "source": [
    "coffee[coffee.Owner.isin(owner_one_coffee)]['Country.of.Origin'].value_counts()"
   ]
  },
  {
   "cell_type": "markdown",
   "id": "cbd68dbb-3206-426e-8695-db8c33bcc21b",
   "metadata": {},
   "source": [
    "We can see how many coffee owners in each country have **ONLY** 1 type of coffee. And below we can see owners with more than one coffee."
   ]
  },
  {
   "cell_type": "code",
   "execution_count": 90,
   "id": "fc297287-0611-4a92-acbe-7af1afeeda1e",
   "metadata": {},
   "outputs": [
    {
     "data": {
      "text/plain": [
       "Country.of.Origin\n",
       "Guatemala                       181\n",
       "Colombia                        177\n",
       "Mexico                          168\n",
       "Brazil                          125\n",
       "Taiwan                           74\n",
       "United States (Hawaii)           73\n",
       "Honduras                         51\n",
       "Costa Rica                       47\n",
       "Ethiopia                         34\n",
       "Thailand                         30\n",
       "Uganda                           26\n",
       "Kenya                            23\n",
       "Nicaragua                        22\n",
       "El Salvador                      21\n",
       "Tanzania, United Republic Of     16\n",
       "Indonesia                        15\n",
       "China                            14\n",
       "India                            14\n",
       "Malawi                           11\n",
       "United States                     8\n",
       "Vietnam                           8\n",
       "Peru                              7\n",
       "Haiti                             5\n",
       "United States (Puerto Rico)       4\n",
       "Philippines                       2\n",
       "Panama                            2\n",
       "Laos                              2\n",
       "Burundi                           2\n",
       "Ecuador                           2\n",
       "Zambia                            1\n",
       "Japan                             1\n",
       "Name: count, dtype: int64"
      ]
     },
     "execution_count": 90,
     "metadata": {},
     "output_type": "execute_result"
    }
   ],
   "source": [
    "coffee[~coffee.Owner.isin(owner_one_coffee)]['Country.of.Origin'].value_counts()"
   ]
  },
  {
   "cell_type": "code",
   "execution_count": 103,
   "id": "cc5f576d-76a4-4d20-a81d-09abef169d08",
   "metadata": {},
   "outputs": [],
   "source": [
    "country_one_owner = coffee[coffee.Owner.isin(owner_one_coffee)]['Country.of.Origin'].value_counts()"
   ]
  },
  {
   "cell_type": "code",
   "execution_count": 115,
   "id": "e6271cd0-6ed5-487f-9b1a-bda51c8b1760",
   "metadata": {},
   "outputs": [
    {
     "data": {
      "image/png": "[encoded data removed]",
      "text/plain": [
       "<Figure size 640x480 with 1 Axes>"
      ]
     },
     "metadata": {},
     "output_type": "display_data"
    }
   ],
   "source": [
    "plt.pie(country_one_owner, labels=country_one_owner.index, labeldistance=1.2, autopct='%.2f%%')\n",
    "\n",
    "plt.title('Pie chart of single coffee owner distribution by countries')\n",
    "plt.show()"
   ]
  },
  {
   "cell_type": "code",
   "execution_count": 118,
   "id": "2b14aab4-c5f9-4597-8192-449025d0c181",
   "metadata": {},
   "outputs": [],
   "source": [
    "rating_cols = ['Aroma', 'Flavor','Aftertaste','Acidity','Body',\n",
    "'Balance',\n",
    "'Uniformity',\n",
    "'Clean.Cup',\n",
    "'Sweetness']"
   ]
  },
  {
   "cell_type": "code",
   "execution_count": 200,
   "id": "243068b9-9381-4e28-a994-815fb3fc4cfb",
   "metadata": {},
   "outputs": [],
   "source": [
    "correlation = coffee[rating_cols].corr()"
   ]
  },
  {
   "cell_type": "code",
   "execution_count": 205,
   "id": "0411ba4f-0678-41de-aa23-eab9d9213f13",
   "metadata": {},
   "outputs": [],
   "source": [
    "import seaborn as sns"
   ]
  },
  {
   "cell_type": "code",
   "execution_count": 206,
   "id": "0c31652f-5b74-42b4-8cdf-eb62b1765468",
   "metadata": {},
   "outputs": [
    {
     "data": {
      "text/plain": [
       "<Axes: >"
      ]
     },
     "execution_count": 206,
     "metadata": {},
     "output_type": "execute_result"
    },
    {
     "data": {
      "image/png": "[encoded data removed]",
      "text/plain": [
       "<Figure size 640x480 with 2 Axes>"
      ]
     },
     "metadata": {},
     "output_type": "display_data"
    }
   ],
   "source": [
    "sns.heatmap(correlation, annot=True, cmap=plt.cm.Blues)"
   ]
  },
  {
   "cell_type": "code",
   "execution_count": 123,
   "id": "c84bcfb6-6fdc-4b21-8692-b2631ca7a866",
   "metadata": {},
   "outputs": [
    {
     "data": {
      "image/png": "[encoded data removed]",
      "text/plain": [
       "<Figure size 640x480 with 1 Axes>"
      ]
     },
     "metadata": {},
     "output_type": "display_data"
    }
   ],
   "source": [
    "plt.scatter(coffee.Aroma, coffee.Flavor)\n",
    "plt.show()"
   ]
  },
  {
   "cell_type": "markdown",
   "id": "7386e311-f7b6-42f0-a7f0-a5fb4035dfee",
   "metadata": {},
   "source": [
    "We see an outlier on the ) scale of X. We remove it."
   ]
  },
  {
   "cell_type": "code",
   "execution_count": 134,
   "id": "0478a231-88cd-4840-b81a-94eb1c3f7937",
   "metadata": {},
   "outputs": [],
   "source": [
    "removed_0_aroma = coffee.Aroma > 0"
   ]
  },
  {
   "cell_type": "code",
   "execution_count": 136,
   "id": "1d3f382f-457f-4aaa-8a1d-76f89c96be46",
   "metadata": {},
   "outputs": [
    {
     "data": {
      "image/png": "[encoded data removed]",
      "text/plain": [
       "<Figure size 640x480 with 1 Axes>"
      ]
     },
     "metadata": {},
     "output_type": "display_data"
    }
   ],
   "source": [
    "plt.scatter(coffee.Aroma[removed_0_aroma], coffee.Flavor[removed_0_aroma])\n",
    "plt.xlabel('Aroma')\n",
    "plt.ylabel('Flavor')\n",
    "plt.title('Correlation between aroma and flavor of thje coffee')\n",
    "plt.show()"
   ]
  },
  {
   "cell_type": "code",
   "execution_count": 143,
   "id": "c78d7ec9-85e5-4cba-8e08-3162d3357734",
   "metadata": {},
   "outputs": [
    {
     "data": {
      "text/html": [
       "<div>\n",
       "<style scoped>\n",
       "    .dataframe tbody tr th:only-of-type {\n",
       "        vertical-align: middle;\n",
       "    }\n",
       "\n",
       "    .dataframe tbody tr th {\n",
       "        vertical-align: top;\n",
       "    }\n",
       "\n",
       "    .dataframe thead th {\n",
       "        text-align: right;\n",
       "    }\n",
       "</style>\n",
       "<table border=\"1\" class=\"dataframe\">\n",
       "  <thead>\n",
       "    <tr style=\"text-align: right;\">\n",
       "      <th></th>\n",
       "      <th>Aroma</th>\n",
       "      <th>Flavor</th>\n",
       "    </tr>\n",
       "  </thead>\n",
       "  <tbody>\n",
       "    <tr>\n",
       "      <th>Aroma</th>\n",
       "      <td>1.000000</td>\n",
       "      <td>0.715414</td>\n",
       "    </tr>\n",
       "    <tr>\n",
       "      <th>Flavor</th>\n",
       "      <td>0.715414</td>\n",
       "      <td>1.000000</td>\n",
       "    </tr>\n",
       "  </tbody>\n",
       "</table>\n",
       "</div>"
      ],
      "text/plain": [
       "           Aroma    Flavor\n",
       "Aroma   1.000000  0.715414\n",
       "Flavor  0.715414  1.000000"
      ]
     },
     "execution_count": 143,
     "metadata": {},
     "output_type": "execute_result"
    }
   ],
   "source": [
    "coffee[['Aroma', 'Flavor']].corr('spearman')"
   ]
  },
  {
   "cell_type": "code",
   "execution_count": 154,
   "id": "d244a859-cfc0-4f92-89c2-49c0a1a20084",
   "metadata": {},
   "outputs": [],
   "source": [
    "mean_flavor_years = coffee_valid_years.groupby('Harvest.Year').Flavor.mean()\n",
    "max_flavor_years = coffee_valid_years.groupby('Harvest.Year').Flavor.max()\n",
    "min_flavor_years = coffee_valid_years.groupby('Harvest.Year').Flavor.min()\n",
    "flavor_years = [mean_flavor_years, max_flavor_years, min_flavor_years]"
   ]
  },
  {
   "cell_type": "code",
   "execution_count": 155,
   "id": "de846c6f-6456-45c7-9ea2-d345a1e4ad22",
   "metadata": {},
   "outputs": [
    {
     "data": {
      "image/png": "[encoded data removed]",
      "text/plain": [
       "<Figure size 640x480 with 1 Axes>"
      ]
     },
     "metadata": {},
     "output_type": "display_data"
    }
   ],
   "source": [
    "for item in flavor_years:\n",
    "    plt.scatter(item.index, item,)\n",
    "    plt.plot(item.index, item)\n",
    "plt.ylim(0, 10)\n",
    "plt.show()"
   ]
  },
  {
   "cell_type": "markdown",
   "id": "c9012472-311b-4b14-8122-13db5e80ec3c",
   "metadata": {},
   "source": [
    "We see an outliner with a minimum value o 0 year 2017. Exploring:"
   ]
  },
  {
   "cell_type": "code",
   "execution_count": 166,
   "id": "62ae8ba5-cde3-4779-a30d-8281b16d2f6c",
   "metadata": {},
   "outputs": [
    {
     "data": {
      "text/plain": [
       "Harvest.Year\n",
       "2010    6.75\n",
       "2011    7.00\n",
       "2012    6.08\n",
       "2013    6.33\n",
       "2014    6.17\n",
       "2015    6.92\n",
       "2016    6.58\n",
       "2017    0.00\n",
       "2018    7.42\n",
       "Name: Flavor, dtype: float64"
      ]
     },
     "execution_count": 166,
     "metadata": {},
     "output_type": "execute_result"
    }
   ],
   "source": [
    "coffee_valid_years.groupby('Harvest.Year').Flavor.min()"
   ]
  },
  {
   "cell_type": "code",
   "execution_count": 167,
   "id": "5a2e3f0b-eeed-46ea-bd06-b6782bc877ed",
   "metadata": {},
   "outputs": [
    {
     "data": {
      "text/html": [
       "<div>\n",
       "<style scoped>\n",
       "    .dataframe tbody tr th:only-of-type {\n",
       "        vertical-align: middle;\n",
       "    }\n",
       "\n",
       "    .dataframe tbody tr th {\n",
       "        vertical-align: top;\n",
       "    }\n",
       "\n",
       "    .dataframe thead th {\n",
       "        text-align: right;\n",
       "    }\n",
       "</style>\n",
       "<table border=\"1\" class=\"dataframe\">\n",
       "  <thead>\n",
       "    <tr style=\"text-align: right;\">\n",
       "      <th></th>\n",
       "      <th>Aroma</th>\n",
       "      <th>Flavor</th>\n",
       "    </tr>\n",
       "  </thead>\n",
       "  <tbody>\n",
       "    <tr>\n",
       "      <th>1310</th>\n",
       "      <td>0.0</td>\n",
       "      <td>0.0</td>\n",
       "    </tr>\n",
       "  </tbody>\n",
       "</table>\n",
       "</div>"
      ],
      "text/plain": [
       "      Aroma  Flavor\n",
       "1310    0.0     0.0"
      ]
     },
     "execution_count": 167,
     "metadata": {},
     "output_type": "execute_result"
    }
   ],
   "source": [
    "coffee_valid_years[coffee_valid_years['Flavor'] == 0.0][['Aroma', 'Flavor']]"
   ]
  },
  {
   "cell_type": "markdown",
   "id": "99679580-4bf8-484d-8bcc-efaa97e61b4f",
   "metadata": {},
   "source": [
    "We remove the observation"
   ]
  },
  {
   "cell_type": "code",
   "execution_count": 170,
   "id": "be66080e-780e-4c8e-95b2-7f7239768fe5",
   "metadata": {},
   "outputs": [],
   "source": [
    "coffee_valid_years = coffee_valid_years.drop(index=1310)"
   ]
  },
  {
   "cell_type": "code",
   "execution_count": 171,
   "id": "62bdd511-814d-455c-958f-2ca0935c1487",
   "metadata": {},
   "outputs": [],
   "source": [
    "coffee_valid_years.reset_index(drop=True, inplace=True)"
   ]
  },
  {
   "cell_type": "code",
   "execution_count": 172,
   "id": "d82bbbc1-916c-4e5d-9c7f-cef2b6107e51",
   "metadata": {},
   "outputs": [
    {
     "data": {
      "text/html": [
       "<div>\n",
       "<style scoped>\n",
       "    .dataframe tbody tr th:only-of-type {\n",
       "        vertical-align: middle;\n",
       "    }\n",
       "\n",
       "    .dataframe tbody tr th {\n",
       "        vertical-align: top;\n",
       "    }\n",
       "\n",
       "    .dataframe thead th {\n",
       "        text-align: right;\n",
       "    }\n",
       "</style>\n",
       "<table border=\"1\" class=\"dataframe\">\n",
       "  <thead>\n",
       "    <tr style=\"text-align: right;\">\n",
       "      <th></th>\n",
       "      <th>Species</th>\n",
       "      <th>Owner</th>\n",
       "      <th>Country.of.Origin</th>\n",
       "      <th>Farm.Name</th>\n",
       "      <th>Lot.Number</th>\n",
       "      <th>Mill</th>\n",
       "      <th>ICO.Number</th>\n",
       "      <th>Company</th>\n",
       "      <th>Altitude</th>\n",
       "      <th>Region</th>\n",
       "      <th>...</th>\n",
       "      <th>Color</th>\n",
       "      <th>Category.Two.Defects</th>\n",
       "      <th>Expiration</th>\n",
       "      <th>Certification.Body</th>\n",
       "      <th>Certification.Address</th>\n",
       "      <th>Certification.Contact</th>\n",
       "      <th>unit_of_measurement</th>\n",
       "      <th>altitude_low_meters</th>\n",
       "      <th>altitude_high_meters</th>\n",
       "      <th>altitude_mean_meters</th>\n",
       "    </tr>\n",
       "  </thead>\n",
       "  <tbody>\n",
       "    <tr>\n",
       "      <th>0</th>\n",
       "      <td>Arabica</td>\n",
       "      <td>metad plc</td>\n",
       "      <td>Ethiopia</td>\n",
       "      <td>metad plc</td>\n",
       "      <td>NaN</td>\n",
       "      <td>metad plc</td>\n",
       "      <td>2014/2015</td>\n",
       "      <td>metad agricultural developmet plc</td>\n",
       "      <td>1950-2200</td>\n",
       "      <td>guji-hambela</td>\n",
       "      <td>...</td>\n",
       "      <td>Green</td>\n",
       "      <td>0</td>\n",
       "      <td>April 3rd, 2016</td>\n",
       "      <td>METAD Agricultural Development plc</td>\n",
       "      <td>309fcf77415a3661ae83e027f7e5f05dad786e44</td>\n",
       "      <td>19fef5a731de2db57d16da10287413f5f99bc2dd</td>\n",
       "      <td>m</td>\n",
       "      <td>1950.0</td>\n",
       "      <td>2200.0</td>\n",
       "      <td>2075.0</td>\n",
       "    </tr>\n",
       "    <tr>\n",
       "      <th>1</th>\n",
       "      <td>Arabica</td>\n",
       "      <td>metad plc</td>\n",
       "      <td>Ethiopia</td>\n",
       "      <td>metad plc</td>\n",
       "      <td>NaN</td>\n",
       "      <td>metad plc</td>\n",
       "      <td>2014/2015</td>\n",
       "      <td>metad agricultural developmet plc</td>\n",
       "      <td>1950-2200</td>\n",
       "      <td>guji-hambela</td>\n",
       "      <td>...</td>\n",
       "      <td>Green</td>\n",
       "      <td>1</td>\n",
       "      <td>April 3rd, 2016</td>\n",
       "      <td>METAD Agricultural Development plc</td>\n",
       "      <td>309fcf77415a3661ae83e027f7e5f05dad786e44</td>\n",
       "      <td>19fef5a731de2db57d16da10287413f5f99bc2dd</td>\n",
       "      <td>m</td>\n",
       "      <td>1950.0</td>\n",
       "      <td>2200.0</td>\n",
       "      <td>2075.0</td>\n",
       "    </tr>\n",
       "    <tr>\n",
       "      <th>2</th>\n",
       "      <td>Arabica</td>\n",
       "      <td>yidnekachew dabessa</td>\n",
       "      <td>Ethiopia</td>\n",
       "      <td>yidnekachew dabessa coffee plantation</td>\n",
       "      <td>NaN</td>\n",
       "      <td>wolensu</td>\n",
       "      <td>NaN</td>\n",
       "      <td>yidnekachew debessa coffee plantation</td>\n",
       "      <td>1800-2200</td>\n",
       "      <td>oromia</td>\n",
       "      <td>...</td>\n",
       "      <td>Green</td>\n",
       "      <td>2</td>\n",
       "      <td>March 25th, 2016</td>\n",
       "      <td>METAD Agricultural Development plc</td>\n",
       "      <td>309fcf77415a3661ae83e027f7e5f05dad786e44</td>\n",
       "      <td>19fef5a731de2db57d16da10287413f5f99bc2dd</td>\n",
       "      <td>m</td>\n",
       "      <td>1800.0</td>\n",
       "      <td>2200.0</td>\n",
       "      <td>2000.0</td>\n",
       "    </tr>\n",
       "    <tr>\n",
       "      <th>3</th>\n",
       "      <td>Arabica</td>\n",
       "      <td>metad plc</td>\n",
       "      <td>Ethiopia</td>\n",
       "      <td>metad plc</td>\n",
       "      <td>NaN</td>\n",
       "      <td>metad plc</td>\n",
       "      <td>2014/2015</td>\n",
       "      <td>metad agricultural developmet plc</td>\n",
       "      <td>1950-2200</td>\n",
       "      <td>guji-hambela</td>\n",
       "      <td>...</td>\n",
       "      <td>Green</td>\n",
       "      <td>2</td>\n",
       "      <td>April 3rd, 2016</td>\n",
       "      <td>METAD Agricultural Development plc</td>\n",
       "      <td>309fcf77415a3661ae83e027f7e5f05dad786e44</td>\n",
       "      <td>19fef5a731de2db57d16da10287413f5f99bc2dd</td>\n",
       "      <td>m</td>\n",
       "      <td>1950.0</td>\n",
       "      <td>2200.0</td>\n",
       "      <td>2075.0</td>\n",
       "    </tr>\n",
       "    <tr>\n",
       "      <th>4</th>\n",
       "      <td>Arabica</td>\n",
       "      <td>ji-ae ahn</td>\n",
       "      <td>Brazil</td>\n",
       "      <td>NaN</td>\n",
       "      <td>NaN</td>\n",
       "      <td>NaN</td>\n",
       "      <td>NaN</td>\n",
       "      <td>NaN</td>\n",
       "      <td>NaN</td>\n",
       "      <td>NaN</td>\n",
       "      <td>...</td>\n",
       "      <td>Bluish-Green</td>\n",
       "      <td>1</td>\n",
       "      <td>September 3rd, 2014</td>\n",
       "      <td>Specialty Coffee Institute of Asia</td>\n",
       "      <td>726e4891cf2c9a4848768bd34b668124d12c4224</td>\n",
       "      <td>b70da261fcc84831e3e9620c30a8701540abc200</td>\n",
       "      <td>m</td>\n",
       "      <td>NaN</td>\n",
       "      <td>NaN</td>\n",
       "      <td>NaN</td>\n",
       "    </tr>\n",
       "    <tr>\n",
       "      <th>...</th>\n",
       "      <td>...</td>\n",
       "      <td>...</td>\n",
       "      <td>...</td>\n",
       "      <td>...</td>\n",
       "      <td>...</td>\n",
       "      <td>...</td>\n",
       "      <td>...</td>\n",
       "      <td>...</td>\n",
       "      <td>...</td>\n",
       "      <td>...</td>\n",
       "      <td>...</td>\n",
       "      <td>...</td>\n",
       "      <td>...</td>\n",
       "      <td>...</td>\n",
       "      <td>...</td>\n",
       "      <td>...</td>\n",
       "      <td>...</td>\n",
       "      <td>...</td>\n",
       "      <td>...</td>\n",
       "      <td>...</td>\n",
       "      <td>...</td>\n",
       "    </tr>\n",
       "    <tr>\n",
       "      <th>1122</th>\n",
       "      <td>Robusta</td>\n",
       "      <td>luis robles</td>\n",
       "      <td>Ecuador</td>\n",
       "      <td>robustasa</td>\n",
       "      <td>Lavado 1</td>\n",
       "      <td>our own lab</td>\n",
       "      <td>NaN</td>\n",
       "      <td>robustasa</td>\n",
       "      <td>NaN</td>\n",
       "      <td>san juan, playas</td>\n",
       "      <td>...</td>\n",
       "      <td>Blue-Green</td>\n",
       "      <td>1</td>\n",
       "      <td>January 18th, 2017</td>\n",
       "      <td>Specialty Coffee Association</td>\n",
       "      <td>ff7c18ad303d4b603ac3f8cff7e611ffc735e720</td>\n",
       "      <td>352d0cf7f3e9be14dad7df644ad65efc27605ae2</td>\n",
       "      <td>m</td>\n",
       "      <td>NaN</td>\n",
       "      <td>NaN</td>\n",
       "      <td>NaN</td>\n",
       "    </tr>\n",
       "    <tr>\n",
       "      <th>1123</th>\n",
       "      <td>Robusta</td>\n",
       "      <td>luis robles</td>\n",
       "      <td>Ecuador</td>\n",
       "      <td>robustasa</td>\n",
       "      <td>Lavado 3</td>\n",
       "      <td>own laboratory</td>\n",
       "      <td>NaN</td>\n",
       "      <td>robustasa</td>\n",
       "      <td>40</td>\n",
       "      <td>san juan, playas</td>\n",
       "      <td>...</td>\n",
       "      <td>Blue-Green</td>\n",
       "      <td>0</td>\n",
       "      <td>January 18th, 2017</td>\n",
       "      <td>Specialty Coffee Association</td>\n",
       "      <td>ff7c18ad303d4b603ac3f8cff7e611ffc735e720</td>\n",
       "      <td>352d0cf7f3e9be14dad7df644ad65efc27605ae2</td>\n",
       "      <td>m</td>\n",
       "      <td>40.0</td>\n",
       "      <td>40.0</td>\n",
       "      <td>40.0</td>\n",
       "    </tr>\n",
       "    <tr>\n",
       "      <th>1124</th>\n",
       "      <td>Robusta</td>\n",
       "      <td>james moore</td>\n",
       "      <td>United States</td>\n",
       "      <td>fazenda cazengo</td>\n",
       "      <td>NaN</td>\n",
       "      <td>cafe cazengo</td>\n",
       "      <td>NaN</td>\n",
       "      <td>global opportunity fund</td>\n",
       "      <td>795 meters</td>\n",
       "      <td>kwanza norte province, angola</td>\n",
       "      <td>...</td>\n",
       "      <td>NaN</td>\n",
       "      <td>6</td>\n",
       "      <td>December 23rd, 2015</td>\n",
       "      <td>Specialty Coffee Association</td>\n",
       "      <td>ff7c18ad303d4b603ac3f8cff7e611ffc735e720</td>\n",
       "      <td>352d0cf7f3e9be14dad7df644ad65efc27605ae2</td>\n",
       "      <td>m</td>\n",
       "      <td>795.0</td>\n",
       "      <td>795.0</td>\n",
       "      <td>795.0</td>\n",
       "    </tr>\n",
       "    <tr>\n",
       "      <th>1125</th>\n",
       "      <td>Robusta</td>\n",
       "      <td>cafe politico</td>\n",
       "      <td>India</td>\n",
       "      <td>NaN</td>\n",
       "      <td>NaN</td>\n",
       "      <td>NaN</td>\n",
       "      <td>14-1118-2014-0087</td>\n",
       "      <td>cafe politico</td>\n",
       "      <td>NaN</td>\n",
       "      <td>NaN</td>\n",
       "      <td>...</td>\n",
       "      <td>Green</td>\n",
       "      <td>1</td>\n",
       "      <td>August 25th, 2015</td>\n",
       "      <td>Specialty Coffee Association</td>\n",
       "      <td>ff7c18ad303d4b603ac3f8cff7e611ffc735e720</td>\n",
       "      <td>352d0cf7f3e9be14dad7df644ad65efc27605ae2</td>\n",
       "      <td>m</td>\n",
       "      <td>NaN</td>\n",
       "      <td>NaN</td>\n",
       "      <td>NaN</td>\n",
       "    </tr>\n",
       "    <tr>\n",
       "      <th>1126</th>\n",
       "      <td>Robusta</td>\n",
       "      <td>cafe politico</td>\n",
       "      <td>Vietnam</td>\n",
       "      <td>NaN</td>\n",
       "      <td>NaN</td>\n",
       "      <td>NaN</td>\n",
       "      <td>NaN</td>\n",
       "      <td>cafe politico</td>\n",
       "      <td>NaN</td>\n",
       "      <td>NaN</td>\n",
       "      <td>...</td>\n",
       "      <td>NaN</td>\n",
       "      <td>9</td>\n",
       "      <td>August 25th, 2015</td>\n",
       "      <td>Specialty Coffee Association</td>\n",
       "      <td>ff7c18ad303d4b603ac3f8cff7e611ffc735e720</td>\n",
       "      <td>352d0cf7f3e9be14dad7df644ad65efc27605ae2</td>\n",
       "      <td>m</td>\n",
       "      <td>NaN</td>\n",
       "      <td>NaN</td>\n",
       "      <td>NaN</td>\n",
       "    </tr>\n",
       "  </tbody>\n",
       "</table>\n",
       "<p>1127 rows × 43 columns</p>\n",
       "</div>"
      ],
      "text/plain": [
       "      Species                Owner Country.of.Origin  \\\n",
       "0     Arabica            metad plc          Ethiopia   \n",
       "1     Arabica            metad plc          Ethiopia   \n",
       "2     Arabica  yidnekachew dabessa          Ethiopia   \n",
       "3     Arabica            metad plc          Ethiopia   \n",
       "4     Arabica            ji-ae ahn            Brazil   \n",
       "...       ...                  ...               ...   \n",
       "1122  Robusta          luis robles           Ecuador   \n",
       "1123  Robusta          luis robles           Ecuador   \n",
       "1124  Robusta          james moore     United States   \n",
       "1125  Robusta        cafe politico             India   \n",
       "1126  Robusta        cafe politico           Vietnam   \n",
       "\n",
       "                                  Farm.Name Lot.Number            Mill  \\\n",
       "0                                 metad plc        NaN       metad plc   \n",
       "1                                 metad plc        NaN       metad plc   \n",
       "2     yidnekachew dabessa coffee plantation        NaN         wolensu   \n",
       "3                                 metad plc        NaN       metad plc   \n",
       "4                                       NaN        NaN             NaN   \n",
       "...                                     ...        ...             ...   \n",
       "1122                              robustasa   Lavado 1     our own lab   \n",
       "1123                              robustasa   Lavado 3  own laboratory   \n",
       "1124                        fazenda cazengo        NaN    cafe cazengo   \n",
       "1125                                    NaN        NaN             NaN   \n",
       "1126                                    NaN        NaN             NaN   \n",
       "\n",
       "             ICO.Number                                Company    Altitude  \\\n",
       "0             2014/2015      metad agricultural developmet plc   1950-2200   \n",
       "1             2014/2015      metad agricultural developmet plc   1950-2200   \n",
       "2                   NaN  yidnekachew debessa coffee plantation   1800-2200   \n",
       "3             2014/2015      metad agricultural developmet plc   1950-2200   \n",
       "4                   NaN                                    NaN         NaN   \n",
       "...                 ...                                    ...         ...   \n",
       "1122                NaN                              robustasa         NaN   \n",
       "1123                NaN                              robustasa          40   \n",
       "1124                NaN                global opportunity fund  795 meters   \n",
       "1125  14-1118-2014-0087                          cafe politico         NaN   \n",
       "1126                NaN                          cafe politico         NaN   \n",
       "\n",
       "                             Region  ...         Color  Category.Two.Defects  \\\n",
       "0                      guji-hambela  ...         Green                     0   \n",
       "1                      guji-hambela  ...         Green                     1   \n",
       "2                            oromia  ...         Green                     2   \n",
       "3                      guji-hambela  ...         Green                     2   \n",
       "4                               NaN  ...  Bluish-Green                     1   \n",
       "...                             ...  ...           ...                   ...   \n",
       "1122               san juan, playas  ...    Blue-Green                     1   \n",
       "1123               san juan, playas  ...    Blue-Green                     0   \n",
       "1124  kwanza norte province, angola  ...           NaN                     6   \n",
       "1125                            NaN  ...         Green                     1   \n",
       "1126                            NaN  ...           NaN                     9   \n",
       "\n",
       "               Expiration                  Certification.Body  \\\n",
       "0         April 3rd, 2016  METAD Agricultural Development plc   \n",
       "1         April 3rd, 2016  METAD Agricultural Development plc   \n",
       "2        March 25th, 2016  METAD Agricultural Development plc   \n",
       "3         April 3rd, 2016  METAD Agricultural Development plc   \n",
       "4     September 3rd, 2014  Specialty Coffee Institute of Asia   \n",
       "...                   ...                                 ...   \n",
       "1122   January 18th, 2017        Specialty Coffee Association   \n",
       "1123   January 18th, 2017        Specialty Coffee Association   \n",
       "1124  December 23rd, 2015        Specialty Coffee Association   \n",
       "1125    August 25th, 2015        Specialty Coffee Association   \n",
       "1126    August 25th, 2015        Specialty Coffee Association   \n",
       "\n",
       "                         Certification.Address  \\\n",
       "0     309fcf77415a3661ae83e027f7e5f05dad786e44   \n",
       "1     309fcf77415a3661ae83e027f7e5f05dad786e44   \n",
       "2     309fcf77415a3661ae83e027f7e5f05dad786e44   \n",
       "3     309fcf77415a3661ae83e027f7e5f05dad786e44   \n",
       "4     726e4891cf2c9a4848768bd34b668124d12c4224   \n",
       "...                                        ...   \n",
       "1122  ff7c18ad303d4b603ac3f8cff7e611ffc735e720   \n",
       "1123  ff7c18ad303d4b603ac3f8cff7e611ffc735e720   \n",
       "1124  ff7c18ad303d4b603ac3f8cff7e611ffc735e720   \n",
       "1125  ff7c18ad303d4b603ac3f8cff7e611ffc735e720   \n",
       "1126  ff7c18ad303d4b603ac3f8cff7e611ffc735e720   \n",
       "\n",
       "                         Certification.Contact unit_of_measurement  \\\n",
       "0     19fef5a731de2db57d16da10287413f5f99bc2dd                   m   \n",
       "1     19fef5a731de2db57d16da10287413f5f99bc2dd                   m   \n",
       "2     19fef5a731de2db57d16da10287413f5f99bc2dd                   m   \n",
       "3     19fef5a731de2db57d16da10287413f5f99bc2dd                   m   \n",
       "4     b70da261fcc84831e3e9620c30a8701540abc200                   m   \n",
       "...                                        ...                 ...   \n",
       "1122  352d0cf7f3e9be14dad7df644ad65efc27605ae2                   m   \n",
       "1123  352d0cf7f3e9be14dad7df644ad65efc27605ae2                   m   \n",
       "1124  352d0cf7f3e9be14dad7df644ad65efc27605ae2                   m   \n",
       "1125  352d0cf7f3e9be14dad7df644ad65efc27605ae2                   m   \n",
       "1126  352d0cf7f3e9be14dad7df644ad65efc27605ae2                   m   \n",
       "\n",
       "     altitude_low_meters altitude_high_meters  altitude_mean_meters  \n",
       "0                 1950.0               2200.0                2075.0  \n",
       "1                 1950.0               2200.0                2075.0  \n",
       "2                 1800.0               2200.0                2000.0  \n",
       "3                 1950.0               2200.0                2075.0  \n",
       "4                    NaN                  NaN                   NaN  \n",
       "...                  ...                  ...                   ...  \n",
       "1122                 NaN                  NaN                   NaN  \n",
       "1123                40.0                 40.0                  40.0  \n",
       "1124               795.0                795.0                 795.0  \n",
       "1125                 NaN                  NaN                   NaN  \n",
       "1126                 NaN                  NaN                   NaN  \n",
       "\n",
       "[1127 rows x 43 columns]"
      ]
     },
     "execution_count": 172,
     "metadata": {},
     "output_type": "execute_result"
    }
   ],
   "source": [
    "coffee_valid_years"
   ]
  },
  {
   "cell_type": "markdown",
   "id": "169c0f49-8f38-4f3f-af97-5c92ae382f52",
   "metadata": {},
   "source": [
    "We plot again"
   ]
  },
  {
   "cell_type": "code",
   "execution_count": 178,
   "id": "6f27ff23-80f2-4398-8f6e-634eba80b671",
   "metadata": {},
   "outputs": [],
   "source": [
    "mean_flavor_years = coffee_valid_years.groupby('Harvest.Year').Flavor.mean()\n",
    "max_flavor_years = coffee_valid_years.groupby('Harvest.Year').Flavor.max()\n",
    "min_flavor_years = coffee_valid_years.groupby('Harvest.Year').Flavor.min()\n",
    "flavor_years = {'mean': mean_flavor_years, 'max': max_flavor_years,'min': min_flavor_years}"
   ]
  },
  {
   "cell_type": "code",
   "execution_count": 195,
   "id": "47535b90-8ad6-4888-abcf-284921d031c4",
   "metadata": {},
   "outputs": [
    {
     "data": {
      "image/png": "[encoded data removed]",
      "text/plain": [
       "<Figure size 640x480 with 1 Axes>"
      ]
     },
     "metadata": {},
     "output_type": "display_data"
    }
   ],
   "source": [
    "for item in flavor_years.keys():\n",
    "    plt.scatter(flavor_years[item].index, flavor_years[item])\n",
    "    plt.plot(flavor_years[item].index, flavor_years[item], label=f'{item}')\n",
    "\n",
    "plt.fill_between(flavor_years['mean'].index, flavor_years['max'], flavor_years['min'])\n",
    "plt.legend()\n",
    "plt.ylim(0, 10)\n",
    "plt.show()"
   ]
  },
  {
   "cell_type": "markdown",
   "id": "23c8c472-7abd-4b4e-a307-02e784963387",
   "metadata": {},
   "source": [
    "Now we can fill the area chart"
   ]
  },
  {
   "cell_type": "code",
   "execution_count": 197,
   "id": "20827ebc-e242-4039-8ecb-889950c28c7d",
   "metadata": {},
   "outputs": [
    {
     "data": {
      "text/plain": [
       "['Solarize_Light2',\n",
       " '_classic_test_patch',\n",
       " '_mpl-gallery',\n",
       " '_mpl-gallery-nogrid',\n",
       " 'bmh',\n",
       " 'classic',\n",
       " 'dark_background',\n",
       " 'fast',\n",
       " 'fivethirtyeight',\n",
       " 'ggplot',\n",
       " 'grayscale',\n",
       " 'seaborn-v0_8',\n",
       " 'seaborn-v0_8-bright',\n",
       " 'seaborn-v0_8-colorblind',\n",
       " 'seaborn-v0_8-dark',\n",
       " 'seaborn-v0_8-dark-palette',\n",
       " 'seaborn-v0_8-darkgrid',\n",
       " 'seaborn-v0_8-deep',\n",
       " 'seaborn-v0_8-muted',\n",
       " 'seaborn-v0_8-notebook',\n",
       " 'seaborn-v0_8-paper',\n",
       " 'seaborn-v0_8-pastel',\n",
       " 'seaborn-v0_8-poster',\n",
       " 'seaborn-v0_8-talk',\n",
       " 'seaborn-v0_8-ticks',\n",
       " 'seaborn-v0_8-white',\n",
       " 'seaborn-v0_8-whitegrid',\n",
       " 'tableau-colorblind10']"
      ]
     },
     "execution_count": 197,
     "metadata": {},
     "output_type": "execute_result"
    }
   ],
   "source": [
    "plt.style.available"
   ]
  },
  {
   "cell_type": "code",
   "execution_count": 211,
   "id": "749a2095-d7b0-4bfb-bad8-d43b645e32fc",
   "metadata": {},
   "outputs": [],
   "source": [
    "nuclear = pd.read_csv('https://raw.githubusercontent.com/vincentarelbundock/Rdatasets/master/csv/boot/nuclear.csv', index_col=0)"
   ]
  },
  {
   "cell_type": "code",
   "execution_count": 217,
   "id": "e605ad44-f777-4e53-822a-f76caf73fa5f",
   "metadata": {},
   "outputs": [
    {
     "data": {
      "text/plain": [
       "cost     float64\n",
       "date     float64\n",
       "t1         int64\n",
       "t2         int64\n",
       "cap        int64\n",
       "pr         int64\n",
       "ne         int64\n",
       "ct         int64\n",
       "bw         int64\n",
       "cum.n      int64\n",
       "pt         int64\n",
       "dtype: object"
      ]
     },
     "execution_count": 217,
     "metadata": {},
     "output_type": "execute_result"
    }
   ],
   "source": [
    "nuclear.dtypes"
   ]
  },
  {
   "cell_type": "code",
   "execution_count": 219,
   "id": "52e03632-c057-4a7e-a417-7bc3b46fbc4e",
   "metadata": {},
   "outputs": [
    {
     "data": {
      "text/plain": [
       "Index(['cost', 'date', 't1', 't2', 'cap', 'pr', 'ne', 'ct', 'bw', 'cum.n',\n",
       "       'pt'],\n",
       "      dtype='object')"
      ]
     },
     "execution_count": 219,
     "metadata": {},
     "output_type": "execute_result"
    }
   ],
   "source": [
    "nuclear.columns"
   ]
  },
  {
   "cell_type": "code",
   "execution_count": 224,
   "id": "a12949da-0ba4-4a57-845c-508d97985b86",
   "metadata": {},
   "outputs": [],
   "source": [
    "nuclear.reset_index(drop=True, inplace=True)"
   ]
  },
  {
   "cell_type": "code",
   "execution_count": 225,
   "id": "af5bdcb2-109f-49e2-96d0-7667a68b8846",
   "metadata": {},
   "outputs": [
    {
     "data": {
      "text/html": [
       "<div>\n",
       "<style scoped>\n",
       "    .dataframe tbody tr th:only-of-type {\n",
       "        vertical-align: middle;\n",
       "    }\n",
       "\n",
       "    .dataframe tbody tr th {\n",
       "        vertical-align: top;\n",
       "    }\n",
       "\n",
       "    .dataframe thead th {\n",
       "        text-align: right;\n",
       "    }\n",
       "</style>\n",
       "<table border=\"1\" class=\"dataframe\">\n",
       "  <thead>\n",
       "    <tr style=\"text-align: right;\">\n",
       "      <th></th>\n",
       "      <th>cost</th>\n",
       "      <th>date</th>\n",
       "      <th>t1</th>\n",
       "      <th>t2</th>\n",
       "      <th>cap</th>\n",
       "      <th>pr</th>\n",
       "      <th>ne</th>\n",
       "      <th>ct</th>\n",
       "      <th>bw</th>\n",
       "      <th>cum.n</th>\n",
       "      <th>pt</th>\n",
       "    </tr>\n",
       "  </thead>\n",
       "  <tbody>\n",
       "    <tr>\n",
       "      <th>0</th>\n",
       "      <td>460.05</td>\n",
       "      <td>68.58</td>\n",
       "      <td>14</td>\n",
       "      <td>46</td>\n",
       "      <td>687</td>\n",
       "      <td>0</td>\n",
       "      <td>1</td>\n",
       "      <td>0</td>\n",
       "      <td>0</td>\n",
       "      <td>14</td>\n",
       "      <td>0</td>\n",
       "    </tr>\n",
       "    <tr>\n",
       "      <th>1</th>\n",
       "      <td>452.99</td>\n",
       "      <td>67.33</td>\n",
       "      <td>10</td>\n",
       "      <td>73</td>\n",
       "      <td>1065</td>\n",
       "      <td>0</td>\n",
       "      <td>0</td>\n",
       "      <td>1</td>\n",
       "      <td>0</td>\n",
       "      <td>1</td>\n",
       "      <td>0</td>\n",
       "    </tr>\n",
       "    <tr>\n",
       "      <th>2</th>\n",
       "      <td>443.22</td>\n",
       "      <td>67.33</td>\n",
       "      <td>10</td>\n",
       "      <td>85</td>\n",
       "      <td>1065</td>\n",
       "      <td>1</td>\n",
       "      <td>0</td>\n",
       "      <td>1</td>\n",
       "      <td>0</td>\n",
       "      <td>1</td>\n",
       "      <td>0</td>\n",
       "    </tr>\n",
       "    <tr>\n",
       "      <th>3</th>\n",
       "      <td>652.32</td>\n",
       "      <td>68.00</td>\n",
       "      <td>11</td>\n",
       "      <td>67</td>\n",
       "      <td>1065</td>\n",
       "      <td>0</td>\n",
       "      <td>1</td>\n",
       "      <td>1</td>\n",
       "      <td>0</td>\n",
       "      <td>12</td>\n",
       "      <td>0</td>\n",
       "    </tr>\n",
       "    <tr>\n",
       "      <th>4</th>\n",
       "      <td>642.23</td>\n",
       "      <td>68.00</td>\n",
       "      <td>11</td>\n",
       "      <td>78</td>\n",
       "      <td>1065</td>\n",
       "      <td>1</td>\n",
       "      <td>1</td>\n",
       "      <td>1</td>\n",
       "      <td>0</td>\n",
       "      <td>12</td>\n",
       "      <td>0</td>\n",
       "    </tr>\n",
       "    <tr>\n",
       "      <th>5</th>\n",
       "      <td>345.39</td>\n",
       "      <td>67.92</td>\n",
       "      <td>13</td>\n",
       "      <td>51</td>\n",
       "      <td>514</td>\n",
       "      <td>0</td>\n",
       "      <td>1</td>\n",
       "      <td>1</td>\n",
       "      <td>0</td>\n",
       "      <td>3</td>\n",
       "      <td>0</td>\n",
       "    </tr>\n",
       "    <tr>\n",
       "      <th>6</th>\n",
       "      <td>272.37</td>\n",
       "      <td>68.17</td>\n",
       "      <td>12</td>\n",
       "      <td>50</td>\n",
       "      <td>822</td>\n",
       "      <td>0</td>\n",
       "      <td>0</td>\n",
       "      <td>0</td>\n",
       "      <td>0</td>\n",
       "      <td>5</td>\n",
       "      <td>0</td>\n",
       "    </tr>\n",
       "    <tr>\n",
       "      <th>7</th>\n",
       "      <td>317.21</td>\n",
       "      <td>68.42</td>\n",
       "      <td>14</td>\n",
       "      <td>59</td>\n",
       "      <td>457</td>\n",
       "      <td>0</td>\n",
       "      <td>0</td>\n",
       "      <td>0</td>\n",
       "      <td>0</td>\n",
       "      <td>1</td>\n",
       "      <td>0</td>\n",
       "    </tr>\n",
       "    <tr>\n",
       "      <th>8</th>\n",
       "      <td>457.12</td>\n",
       "      <td>68.42</td>\n",
       "      <td>15</td>\n",
       "      <td>55</td>\n",
       "      <td>822</td>\n",
       "      <td>1</td>\n",
       "      <td>0</td>\n",
       "      <td>0</td>\n",
       "      <td>0</td>\n",
       "      <td>5</td>\n",
       "      <td>0</td>\n",
       "    </tr>\n",
       "    <tr>\n",
       "      <th>9</th>\n",
       "      <td>690.19</td>\n",
       "      <td>68.33</td>\n",
       "      <td>12</td>\n",
       "      <td>71</td>\n",
       "      <td>792</td>\n",
       "      <td>0</td>\n",
       "      <td>1</td>\n",
       "      <td>1</td>\n",
       "      <td>1</td>\n",
       "      <td>2</td>\n",
       "      <td>0</td>\n",
       "    </tr>\n",
       "    <tr>\n",
       "      <th>10</th>\n",
       "      <td>350.63</td>\n",
       "      <td>68.58</td>\n",
       "      <td>12</td>\n",
       "      <td>64</td>\n",
       "      <td>560</td>\n",
       "      <td>0</td>\n",
       "      <td>0</td>\n",
       "      <td>0</td>\n",
       "      <td>0</td>\n",
       "      <td>3</td>\n",
       "      <td>0</td>\n",
       "    </tr>\n",
       "    <tr>\n",
       "      <th>11</th>\n",
       "      <td>402.59</td>\n",
       "      <td>68.75</td>\n",
       "      <td>13</td>\n",
       "      <td>47</td>\n",
       "      <td>790</td>\n",
       "      <td>0</td>\n",
       "      <td>1</td>\n",
       "      <td>0</td>\n",
       "      <td>0</td>\n",
       "      <td>6</td>\n",
       "      <td>0</td>\n",
       "    </tr>\n",
       "    <tr>\n",
       "      <th>12</th>\n",
       "      <td>412.18</td>\n",
       "      <td>68.42</td>\n",
       "      <td>15</td>\n",
       "      <td>62</td>\n",
       "      <td>530</td>\n",
       "      <td>0</td>\n",
       "      <td>0</td>\n",
       "      <td>1</td>\n",
       "      <td>0</td>\n",
       "      <td>2</td>\n",
       "      <td>0</td>\n",
       "    </tr>\n",
       "    <tr>\n",
       "      <th>13</th>\n",
       "      <td>495.58</td>\n",
       "      <td>68.92</td>\n",
       "      <td>17</td>\n",
       "      <td>52</td>\n",
       "      <td>1050</td>\n",
       "      <td>0</td>\n",
       "      <td>0</td>\n",
       "      <td>0</td>\n",
       "      <td>0</td>\n",
       "      <td>7</td>\n",
       "      <td>0</td>\n",
       "    </tr>\n",
       "    <tr>\n",
       "      <th>14</th>\n",
       "      <td>394.36</td>\n",
       "      <td>68.92</td>\n",
       "      <td>13</td>\n",
       "      <td>65</td>\n",
       "      <td>850</td>\n",
       "      <td>0</td>\n",
       "      <td>0</td>\n",
       "      <td>0</td>\n",
       "      <td>1</td>\n",
       "      <td>16</td>\n",
       "      <td>0</td>\n",
       "    </tr>\n",
       "    <tr>\n",
       "      <th>15</th>\n",
       "      <td>423.32</td>\n",
       "      <td>68.42</td>\n",
       "      <td>11</td>\n",
       "      <td>67</td>\n",
       "      <td>778</td>\n",
       "      <td>0</td>\n",
       "      <td>0</td>\n",
       "      <td>0</td>\n",
       "      <td>0</td>\n",
       "      <td>3</td>\n",
       "      <td>0</td>\n",
       "    </tr>\n",
       "    <tr>\n",
       "      <th>16</th>\n",
       "      <td>712.27</td>\n",
       "      <td>69.50</td>\n",
       "      <td>18</td>\n",
       "      <td>60</td>\n",
       "      <td>845</td>\n",
       "      <td>0</td>\n",
       "      <td>1</td>\n",
       "      <td>0</td>\n",
       "      <td>0</td>\n",
       "      <td>17</td>\n",
       "      <td>0</td>\n",
       "    </tr>\n",
       "    <tr>\n",
       "      <th>17</th>\n",
       "      <td>289.66</td>\n",
       "      <td>68.42</td>\n",
       "      <td>15</td>\n",
       "      <td>76</td>\n",
       "      <td>530</td>\n",
       "      <td>1</td>\n",
       "      <td>0</td>\n",
       "      <td>1</td>\n",
       "      <td>0</td>\n",
       "      <td>2</td>\n",
       "      <td>0</td>\n",
       "    </tr>\n",
       "    <tr>\n",
       "      <th>18</th>\n",
       "      <td>881.24</td>\n",
       "      <td>69.17</td>\n",
       "      <td>15</td>\n",
       "      <td>67</td>\n",
       "      <td>1090</td>\n",
       "      <td>0</td>\n",
       "      <td>0</td>\n",
       "      <td>0</td>\n",
       "      <td>0</td>\n",
       "      <td>1</td>\n",
       "      <td>0</td>\n",
       "    </tr>\n",
       "    <tr>\n",
       "      <th>19</th>\n",
       "      <td>490.88</td>\n",
       "      <td>68.92</td>\n",
       "      <td>16</td>\n",
       "      <td>59</td>\n",
       "      <td>1050</td>\n",
       "      <td>1</td>\n",
       "      <td>0</td>\n",
       "      <td>0</td>\n",
       "      <td>0</td>\n",
       "      <td>8</td>\n",
       "      <td>0</td>\n",
       "    </tr>\n",
       "    <tr>\n",
       "      <th>20</th>\n",
       "      <td>567.79</td>\n",
       "      <td>68.75</td>\n",
       "      <td>11</td>\n",
       "      <td>70</td>\n",
       "      <td>913</td>\n",
       "      <td>0</td>\n",
       "      <td>0</td>\n",
       "      <td>1</td>\n",
       "      <td>1</td>\n",
       "      <td>15</td>\n",
       "      <td>0</td>\n",
       "    </tr>\n",
       "    <tr>\n",
       "      <th>21</th>\n",
       "      <td>665.99</td>\n",
       "      <td>70.92</td>\n",
       "      <td>22</td>\n",
       "      <td>57</td>\n",
       "      <td>828</td>\n",
       "      <td>1</td>\n",
       "      <td>1</td>\n",
       "      <td>0</td>\n",
       "      <td>0</td>\n",
       "      <td>20</td>\n",
       "      <td>0</td>\n",
       "    </tr>\n",
       "    <tr>\n",
       "      <th>22</th>\n",
       "      <td>621.45</td>\n",
       "      <td>69.67</td>\n",
       "      <td>16</td>\n",
       "      <td>59</td>\n",
       "      <td>786</td>\n",
       "      <td>0</td>\n",
       "      <td>0</td>\n",
       "      <td>1</td>\n",
       "      <td>0</td>\n",
       "      <td>18</td>\n",
       "      <td>0</td>\n",
       "    </tr>\n",
       "    <tr>\n",
       "      <th>23</th>\n",
       "      <td>608.80</td>\n",
       "      <td>70.08</td>\n",
       "      <td>19</td>\n",
       "      <td>58</td>\n",
       "      <td>821</td>\n",
       "      <td>1</td>\n",
       "      <td>0</td>\n",
       "      <td>0</td>\n",
       "      <td>0</td>\n",
       "      <td>3</td>\n",
       "      <td>0</td>\n",
       "    </tr>\n",
       "    <tr>\n",
       "      <th>24</th>\n",
       "      <td>473.64</td>\n",
       "      <td>70.42</td>\n",
       "      <td>19</td>\n",
       "      <td>44</td>\n",
       "      <td>538</td>\n",
       "      <td>0</td>\n",
       "      <td>0</td>\n",
       "      <td>1</td>\n",
       "      <td>0</td>\n",
       "      <td>19</td>\n",
       "      <td>0</td>\n",
       "    </tr>\n",
       "    <tr>\n",
       "      <th>25</th>\n",
       "      <td>697.14</td>\n",
       "      <td>71.08</td>\n",
       "      <td>20</td>\n",
       "      <td>57</td>\n",
       "      <td>1130</td>\n",
       "      <td>0</td>\n",
       "      <td>0</td>\n",
       "      <td>1</td>\n",
       "      <td>0</td>\n",
       "      <td>21</td>\n",
       "      <td>0</td>\n",
       "    </tr>\n",
       "    <tr>\n",
       "      <th>26</th>\n",
       "      <td>207.51</td>\n",
       "      <td>67.25</td>\n",
       "      <td>13</td>\n",
       "      <td>63</td>\n",
       "      <td>745</td>\n",
       "      <td>0</td>\n",
       "      <td>0</td>\n",
       "      <td>0</td>\n",
       "      <td>0</td>\n",
       "      <td>8</td>\n",
       "      <td>1</td>\n",
       "    </tr>\n",
       "    <tr>\n",
       "      <th>27</th>\n",
       "      <td>288.48</td>\n",
       "      <td>67.17</td>\n",
       "      <td>9</td>\n",
       "      <td>48</td>\n",
       "      <td>821</td>\n",
       "      <td>0</td>\n",
       "      <td>0</td>\n",
       "      <td>1</td>\n",
       "      <td>0</td>\n",
       "      <td>7</td>\n",
       "      <td>1</td>\n",
       "    </tr>\n",
       "    <tr>\n",
       "      <th>28</th>\n",
       "      <td>284.88</td>\n",
       "      <td>67.83</td>\n",
       "      <td>12</td>\n",
       "      <td>63</td>\n",
       "      <td>886</td>\n",
       "      <td>0</td>\n",
       "      <td>0</td>\n",
       "      <td>0</td>\n",
       "      <td>1</td>\n",
       "      <td>11</td>\n",
       "      <td>1</td>\n",
       "    </tr>\n",
       "    <tr>\n",
       "      <th>29</th>\n",
       "      <td>280.36</td>\n",
       "      <td>67.83</td>\n",
       "      <td>12</td>\n",
       "      <td>71</td>\n",
       "      <td>886</td>\n",
       "      <td>1</td>\n",
       "      <td>0</td>\n",
       "      <td>0</td>\n",
       "      <td>1</td>\n",
       "      <td>11</td>\n",
       "      <td>1</td>\n",
       "    </tr>\n",
       "    <tr>\n",
       "      <th>30</th>\n",
       "      <td>217.38</td>\n",
       "      <td>67.25</td>\n",
       "      <td>13</td>\n",
       "      <td>72</td>\n",
       "      <td>745</td>\n",
       "      <td>1</td>\n",
       "      <td>0</td>\n",
       "      <td>0</td>\n",
       "      <td>0</td>\n",
       "      <td>8</td>\n",
       "      <td>1</td>\n",
       "    </tr>\n",
       "    <tr>\n",
       "      <th>31</th>\n",
       "      <td>270.71</td>\n",
       "      <td>67.83</td>\n",
       "      <td>7</td>\n",
       "      <td>80</td>\n",
       "      <td>886</td>\n",
       "      <td>1</td>\n",
       "      <td>0</td>\n",
       "      <td>0</td>\n",
       "      <td>1</td>\n",
       "      <td>11</td>\n",
       "      <td>1</td>\n",
       "    </tr>\n",
       "  </tbody>\n",
       "</table>\n",
       "</div>"
      ],
      "text/plain": [
       "      cost   date  t1  t2   cap  pr  ne  ct  bw  cum.n  pt\n",
       "0   460.05  68.58  14  46   687   0   1   0   0     14   0\n",
       "1   452.99  67.33  10  73  1065   0   0   1   0      1   0\n",
       "2   443.22  67.33  10  85  1065   1   0   1   0      1   0\n",
       "3   652.32  68.00  11  67  1065   0   1   1   0     12   0\n",
       "4   642.23  68.00  11  78  1065   1   1   1   0     12   0\n",
       "5   345.39  67.92  13  51   514   0   1   1   0      3   0\n",
       "6   272.37  68.17  12  50   822   0   0   0   0      5   0\n",
       "7   317.21  68.42  14  59   457   0   0   0   0      1   0\n",
       "8   457.12  68.42  15  55   822   1   0   0   0      5   0\n",
       "9   690.19  68.33  12  71   792   0   1   1   1      2   0\n",
       "10  350.63  68.58  12  64   560   0   0   0   0      3   0\n",
       "11  402.59  68.75  13  47   790   0   1   0   0      6   0\n",
       "12  412.18  68.42  15  62   530   0   0   1   0      2   0\n",
       "13  495.58  68.92  17  52  1050   0   0   0   0      7   0\n",
       "14  394.36  68.92  13  65   850   0   0   0   1     16   0\n",
       "15  423.32  68.42  11  67   778   0   0   0   0      3   0\n",
       "16  712.27  69.50  18  60   845   0   1   0   0     17   0\n",
       "17  289.66  68.42  15  76   530   1   0   1   0      2   0\n",
       "18  881.24  69.17  15  67  1090   0   0   0   0      1   0\n",
       "19  490.88  68.92  16  59  1050   1   0   0   0      8   0\n",
       "20  567.79  68.75  11  70   913   0   0   1   1     15   0\n",
       "21  665.99  70.92  22  57   828   1   1   0   0     20   0\n",
       "22  621.45  69.67  16  59   786   0   0   1   0     18   0\n",
       "23  608.80  70.08  19  58   821   1   0   0   0      3   0\n",
       "24  473.64  70.42  19  44   538   0   0   1   0     19   0\n",
       "25  697.14  71.08  20  57  1130   0   0   1   0     21   0\n",
       "26  207.51  67.25  13  63   745   0   0   0   0      8   1\n",
       "27  288.48  67.17   9  48   821   0   0   1   0      7   1\n",
       "28  284.88  67.83  12  63   886   0   0   0   1     11   1\n",
       "29  280.36  67.83  12  71   886   1   0   0   1     11   1\n",
       "30  217.38  67.25  13  72   745   1   0   0   0      8   1\n",
       "31  270.71  67.83   7  80   886   1   0   0   1     11   1"
      ]
     },
     "execution_count": 225,
     "metadata": {},
     "output_type": "execute_result"
    }
   ],
   "source": [
    "nuclear"
   ]
  },
  {
   "cell_type": "code",
   "execution_count": 227,
   "id": "b10c344c-b412-44e0-bbc3-e70bca39d66c",
   "metadata": {},
   "outputs": [
    {
     "data": {
      "text/plain": [
       "461.56"
      ]
     },
     "execution_count": 227,
     "metadata": {},
     "output_type": "execute_result"
    }
   ],
   "source": [
    "# mean cost\n",
    "nuclear.cost.mean().round(2)"
   ]
  },
  {
   "cell_type": "code",
   "execution_count": 235,
   "id": "f49d6e54-c105-4485-b389-5e11371a5f56",
   "metadata": {},
   "outputs": [
    {
     "data": {
      "text/plain": [
       "ne\n",
       "0    24\n",
       "1     8\n",
       "Name: count, dtype: int64"
      ]
     },
     "execution_count": 235,
     "metadata": {},
     "output_type": "execute_result"
    }
   ],
   "source": [
    "# constructed in NE region of US\n",
    "nuclear['ne'].value_counts()"
   ]
  },
  {
   "cell_type": "code",
   "execution_count": 244,
   "id": "d27acc2b-82b9-4621-9dd4-186af0bffb9d",
   "metadata": {},
   "outputs": [
    {
     "data": {
      "image/png": "[encoded data removed]",
      "text/plain": [
       "<Figure size 640x480 with 1 Axes>"
      ]
     },
     "metadata": {},
     "output_type": "display_data"
    }
   ],
   "source": [
    "# general behaviour of cost over time\n",
    "plt.scatter(nuclear['date'], nuclear['cost'])\n",
    "plt.show()"
   ]
  }
 ],
 "metadata": {
  "kernelspec": {
   "display_name": "Python 3 (ipykernel)",
   "language": "python",
   "name": "python3"
  },
  "language_info": {
   "codemirror_mode": {
    "name": "ipython",
    "version": 3
   },
   "file_extension": ".py",
   "mimetype": "text/x-python",
   "name": "python",
   "nbconvert_exporter": "python",
   "pygments_lexer": "ipython3",
   "version": "3.11.9"
  }
 },
 "nbformat": 4,
 "nbformat_minor": 5
}
