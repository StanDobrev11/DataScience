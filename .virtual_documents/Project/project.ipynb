get_ipython().run_line_magic("matplotlib", " inline")


import numpy as np
import pandas as pd
import matplotlib.pyplot as plt

from plotting import plot_equatorial_pacific, get_dataframe





plot_equatorial_pacific(path='data/csv_ready/elnino_2015.csv', cond_name='El Niño Period', vmin=20, vmax=35)


plot_equatorial_pacific('data/csv_ready/neutral_2012.csv', 'Neutral Period', vmin=20, vmax=35)


plot_equatorial_pacific('data/csv_ready/lanina_2010.csv', 'La Niña Period', vmin=20, vmax=35)





la_nina = get_dataframe('data/csv_ready/lanina_2010.csv')
neutral = get_dataframe('data/csv_ready/neutral_2012.csv')
el_nino = get_dataframe('data/csv_ready/elnino_2015.csv')

dataframes = [el_nino, neutral, la_nina]
colors = ['r', 'g', 'b']
x = ['October', 'November', 'December', 'January']
labels = ['El Niño', 'Neutral', 'La Niña']
for i, df in enumerate(dataframes):
    sst = df.groupby(df.index).sst.mean()
    plt.plot(x, sst, c=colors[i], label=labels[i])

plt.ylim(26, 29)

plt.legend()
plt.xlabel('Months')
plt.ylabel('SST in deg C')
plt.title('Difference in the SST between El Niño, La Niña and Neutral Periods')
plt.show()





jma = pd.read_csv('data/csv_ready/jma_td.csv', index_col=0)
jma.index = pd.to_datetime(jma.index)
oni_table = pd.read_csv('data/csv_ready/oni_table.csv', index_col=0)
oni_table.index = pd.to_datetime(oni_table.index)
frequency = jma.groupby(jma.index.year)['name'].nunique()
enso_phase = oni_table.groupby(oni_table.index.year)['enso'].apply(lambda x: x.unique()[0])
df_merged = pd.merge(frequency, enso_phase, on='date')
df_merged.columns = ['frequency', 'enso']


nhc = pd.read_csv('data/csv_ready/ne_pacific_td.csv', index_col=0)
nhc.index = pd.to_datetime(j)





colors = {-1: 'blue', 0: 'green', 1: 'red'}

plt.figure(figsize=(15, 8))
for year, freq, enso in zip(df_merged.index, df_merged.frequency, df_merged.enso):
    plt.bar(year, freq, color=colors[enso])

plt.xlim(1950, 2024)

plt.xlabel('Year')
plt.ylabel('Number of Tropical Depressions')

handles = [plt.Rectangle((0,0),1,1, color=colors[enso]) for enso in colors]
labels = ['La Niña', 'Neutral', 'El Niño']
plt.legend(handles, labels, title='ENSO Phase', loc='upper left')

plt.title('Frequency of Tropical Depressions, originating in the NW Pacific, by Year')
plt.show()
