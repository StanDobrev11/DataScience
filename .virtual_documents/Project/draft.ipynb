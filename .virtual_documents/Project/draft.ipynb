get_ipython().run_line_magic("matplotlib", " inline")


import numpy as np
import pandas as pd
import matplotlib.pyplot as plt
import xarray as xr
import seaborn as sns
from scipy.interpolate import griddata
from utils import extract_datasets, create_dataframe
from plotting import plot_equatorial_pacific





data = pd.read_csv('data/Marine_CSV_sample.csv')


data.columns


data[['Latitude', 'Longitude', 'Time of Observation', 'Sea Surface Temperature']]





data = pd.read_csv('data/40_130_30_140.csv')


data.columns


data[['STATION', 'DATE', 'LATITUDE', 'LONGITUDE', 'SEA_SURF_TEMP']]


data.groupby(['DATE', 'LATITUDE', 'LONGITUDE'])['SEA_SURF_TEMP'].mean()


data['SEA_SURF_TEMP'][data['LATITUDE'] < 0]


data['LATITUDE'].max()





# reading the dataset for month of July 2024
# dataset = xr.open_dataset('data/AQUA_MODIS.20240701_20240731.L3m.MO.SST.sst.9km.nc')


dataset = xr.open_dataset('data/AQUA_MODIS/LANINA/AQUA_MODIS.20101201_20101231.L3m.MO.SST.sst.9km.nc')


# reading all variables
dataset.variables





# extracting to pandas dataframe
raw_data = dataset['sst'].to_dataframe()

# droping the multiindex
tidy_data = raw_data.reset_index()

# filtering lat[20S; 20N]
tidy_data = tidy_data[(tidy_data.lat >= -20) & (tidy_data.lat <= 20)]

# filtering long[130E -> 180 -> -80 W]
tidy_data = tidy_data[(tidy_data.lon >= -180) & (tidy_data.lon <= -80) | (tidy_data.lon >= 130) & (tidy_data.lon <= 180)]

# droping na values
tidy_data = tidy_data.dropna()

# rounding lats and long to 0.5 deg
def round_to_nearest_half(x):
    return np.round(x * 2) / 2

tidy_data.lat = tidy_data.lat.apply(round_to_nearest_half)
tidy_data.lon = tidy_data.lon.apply(round_to_nearest_half)

# grouping by lat and long and averaging the sst
tidy_data = tidy_data.groupby(['lat', 'lon']).sst.mean()

# dropping multiindex
tidy_data = tidy_data.reset_index()

# getting the month
current_month = dataset.attrs['time_coverage_start']

# convert the string to pd.Timestamp object
current_month = pd.to_datetime(current_month)

# normalize timestamp
current_month = current_month.normalize()

# set the month as index of the cleaned data
tidy_data.index = pd.Index([current_month] * len(tidy_data))


# rounding the sst
# raw_data.sst.round(1)
# since the .round() is not working as expected, np used
# np.round(raw_data.sst, 1)
# since np is not working, using apply
tidy_data.sst = tidy_data.sst.apply(lambda x: round(x, 1))


tidy_data['lon'] = np.where(tidy_data['lon'] < 0, tidy_data['lon'] + 360, tidy_data['lon'])


tidy_data.sort_values(['lat', 'lon'])


# getting both the sst and the quality of the observation
combined_raw = dataset[['sst', 'qual_sst']].to_dataframe()


combined_raw = combined_raw.reset_index()


combined_raw.qual_sst.value_counts(dropna=False)





dataset


tidy_data





plt.figure(figsize=(30, 10))

# contour map
lon_grid = np.linspace(tidy_data.lon.min(), tidy_data.lon.max(), 100)
lat_grid = np.linspace(tidy_data.lat.min(), tidy_data.lat.max(), 100)
lon_grid, lat_grid = np.meshgrid(lon_grid, lat_grid)
sst_grid = griddata((tidy_data.lon, tidy_data.lat), tidy_data.sst, (lon_grid, lat_grid), method='linear')
plt.contourf(lon_grid, lat_grid, sst_grid, cmap='jet', levels=20)


# plt.scatter(tidy_data.lon, tidy_data.lat, c=tidy_data.sst, cmap='jet', alpha=0.7, s=150, vmin=20, vmax=35)
plt.colorbar(label='Temperature')

x_tick=np.arange(130, 290, 10)
x_label=[f'{x}°E' if x <= 180 else f'{360 - x}°W' for x in x_tick]

y_tick = np.arange(-20, 25, 5)
y_label = [f'{np.abs(x)}°S' if x < 0 else f'{np.abs(x)}°N' for x in y_tick]

box = plt.Rectangle((190, -5), 50, 10, linewidth=2, edgecolor='RED', facecolor='none')
plt.gca().add_patch(box)

plt.axhline(y=0)

plt.xticks(ticks=x_tick, labels=x_label)
plt.yticks(ticks=y_tick, labels=y_label)

plt.xlim(130, 280)
plt.ylim(-20, 20)
plt.xlabel('Longitude')
plt.ylabel('Latitude')
plt.title(f'Equatorian Distribution of SST for {current_month.month_name()}-{current_month.year}')  # Title of the plot
plt.show()  # Display the plot








result_list = extract_datasets('data/AQUA_MODIS/ELNINO/2015/')


dataset = result_list


df = create_dataframe('esno_2015', *dataset)





for index, data in df.groupby(df.index):
    print(index, data.sst.mean())


for index, data in df.groupby(df.index):
    print(index, data.sst.median())





df_enso_region = df[(df.lat >= -5) & (df.lat <= 5) | (df.lon >= -170) & (df.lon <= -120)]


df_enso_region


for date, data in df_enso_region.groupby(df_enso_region.index):
    print(date, f'Mean: {data.sst.mean().round(2)}, Median: {data.sst.median()}')





from plotting import plot_equatorial_pacific


df = pd.read_csv('data/AQUA_MODIS_CSV/esno_2015.csv', index_col=0)
df.index = pd.DatetimeIndex(df.index)


df


plot_equatorial_pacific(df)








lanina = extract_datasets('data/AQUA_MODIS/LANINA/2010/')


lanina = create_dataframe('lanina_2010', *lanina)


plot_equatorial_pacific(lanina)





df = pd.read_csv('data/AQUA_MODIS/ELNINO/1997/AVHRR_SST_M_1997-10-01_rgb_720x360.CSV', header=None)
lat = np.arange(-90, 90, 0.5)
lon = np.arange(-180, 180, 0.5)


df.columns = lon


df


df['lat'] = lat


df = df.melt(id_vars='lat', var_name='lon', value_name='sst')


df = df[(df.lat >= -20) & (df.lat <= 20)]


df = df[(df.lon >= -180) & (df.lon <= -80) | (df.lon >= 130) & (df.lon <= 180)]


df = df.reset_index(drop=True)


df





def clean
