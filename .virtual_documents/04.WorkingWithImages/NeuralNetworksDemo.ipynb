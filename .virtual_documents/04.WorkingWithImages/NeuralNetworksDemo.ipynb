import numpy as np
import matplotlib.pyplot as plt
from skimage.io import imread, imshow


from tensorflow.keras.applications.resnet50 import ResNet50, preprocess_input, decode_predictions


cat_image = imread('data/domestic-cat/dc (17).jpg')


cat_image2 = imread('data/domestic-cat/dc (58).jpg')


cat_image3 = imread('data/domestic-cat/dc (27).jpg')





cat_image2.shape


cat_image2.ravel().shape



