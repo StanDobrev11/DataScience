get_ipython().run_line_magic("matplotlib", " inline")


import numpy as np
import pandas as pd
import matplotlib.pyplot as plt
from skimage.io import imread, imread_collection


cat_image = imread('data/domestic-cat/dc (17).jpg')


cat_image.shape


collection = imread_collection('data/domestic-cat/dc (17).jpg')


collection[0]
