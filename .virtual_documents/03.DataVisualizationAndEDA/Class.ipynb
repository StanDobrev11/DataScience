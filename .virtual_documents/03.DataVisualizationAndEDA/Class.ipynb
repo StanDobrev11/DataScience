get_ipython().run_line_magic("matplotlib", " inline")


import numpy as np
import pandas as pd
import matplotlib.pyplot as plt





songs = pd.read_csv('data/Most Streamed Spotify Songs 2024.csv', encoding='latin')


songs.describe().T


coffee = pd.read_csv('data/merged_data_cleaned.csv', index_col=0)


coffee.columns


coffee.dtypes


coffee['Harvest.Year'].str.isnumeric().value_counts(dropna=False)


coffee['Harvest.Year'].dropna().str.isnumeric().value_counts(dropna=False)


coffee_valid_years = coffee[coffee['Harvest.Year'].str.isnumeric() == True]


coffee_valid_years['Harvest.Year'].unique()


coffee_valid_years['Harvest.Year'] = coffee_valid_years['Harvest.Year'].astype(int)


coffee_valid_years['Harvest.Year'].value_counts()


years = coffee_valid_years.groupby('Harvest.Year').size().sort_index()


plt.bar(years.index, years)

plt.xticks(range(2010, 2019))

plt.xlabel('Year')
plt.ylabel('Count')
plt.title('Number of harvested coffees each year')
plt.show()





plt.plot(years.index, years)

# showing the maximum
# plt.scatter(years[years == years.max()].index, years.max())
plt.axhline(years.max(), color='r', linestyle='--')
plt.annotate('max', (years.idxmax() + 0.1, years.max() + 5))
plt.xticks(range(2010, 2019))

plt.xlabel('Year')
plt.ylabel('Count')
plt.title('Number of harvested coffees each year')
plt.show()


plt.hist(coffee.Aroma, bins=50, label='Aroma', alpha=0.7)
plt.hist(coffee.Flavor, bins=50, label='Flavor', alpha=0.7)
plt.hist(coffee.Balance, bins=50, label='Balance', alpha=0.7)
# plt.xlim(4, 10)
plt.legend()
plt.show()


coffee.loc[coffee.Balance < 6, ['Owner', 'Company', 'Species', 'Balance', 'Aroma', 'Flavor']]


coffee.Balance[coffee.Balance > 0]
coffee[coffee.Balance > 0].Balance.min()


coffee[coffee.Balance > 0].nsmallest(5, 'Balance')[['Owner', 'Company', 'Species', 'Balance', 'Aroma', 'Flavor']]


owner_one_coffee = coffee.Owner.value_counts() == 1


owner_one_coffee = owner_one_coffee[owner_one_coffee].index


owner_one_coffee


coffee[coffee.Owner.isin(owner_one_coffee)]['Country.of.Origin'].value_counts()





coffee[~coffee.Owner.isin(owner_one_coffee)]['Country.of.Origin'].value_counts()


country_one_owner = coffee[coffee.Owner.isin(owner_one_coffee)]['Country.of.Origin'].value_counts()


plt.pie(country_one_owner, labels=country_one_owner.index, labeldistance=1.2, autopct='%.2f%%')

plt.title('Pie chart of single coffee owner distribution by countries')
plt.show()


rating_cols = ['Aroma', 'Flavor','Aftertaste','Acidity','Body',
'Balance',
'Uniformity',
'Clean.Cup',
'Sweetness']


correlation = coffee[rating_cols].corr()


import seaborn as sns


sns.heatmap(correlation, annot=True, cmap=plt.cm.Blues)


plt.scatter(coffee.Aroma, coffee.Flavor)
plt.show()





removed_0_aroma = coffee.Aroma > 0


plt.scatter(coffee.Aroma[removed_0_aroma], coffee.Flavor[removed_0_aroma])
plt.xlabel('Aroma')
plt.ylabel('Flavor')
plt.title('Correlation between aroma and flavor of thje coffee')
plt.show()


coffee[['Aroma', 'Flavor']].corr('spearman')


mean_flavor_years = coffee_valid_years.groupby('Harvest.Year').Flavor.mean()
max_flavor_years = coffee_valid_years.groupby('Harvest.Year').Flavor.max()
min_flavor_years = coffee_valid_years.groupby('Harvest.Year').Flavor.min()
flavor_years = [mean_flavor_years, max_flavor_years, min_flavor_years]


for item in flavor_years:
    plt.scatter(item.index, item,)
    plt.plot(item.index, item)
plt.ylim(0, 10)
plt.show()





coffee_valid_years.groupby('Harvest.Year').Flavor.min()


coffee_valid_years[coffee_valid_years['Flavor'] == 0.0][['Aroma', 'Flavor']]





coffee_valid_years = coffee_valid_years.drop(index=1310)


coffee_valid_years.reset_index(drop=True, inplace=True)


coffee_valid_years





mean_flavor_years = coffee_valid_years.groupby('Harvest.Year').Flavor.mean()
max_flavor_years = coffee_valid_years.groupby('Harvest.Year').Flavor.max()
min_flavor_years = coffee_valid_years.groupby('Harvest.Year').Flavor.min()
flavor_years = {'mean': mean_flavor_years, 'max': max_flavor_years,'min': min_flavor_years}


for item in flavor_years.keys():
    plt.scatter(flavor_years[item].index, flavor_years[item])
    plt.plot(flavor_years[item].index, flavor_years[item], label=f'{item}')

plt.fill_between(flavor_years['mean'].index, flavor_years['max'], flavor_years['min'])
plt.legend()
plt.ylim(0, 10)
plt.show()





plt.style.available


nuclear = pd.read_csv('https://raw.githubusercontent.com/vincentarelbundock/Rdatasets/master/csv/boot/nuclear.csv', index_col=0)


nuclear.dtypes


nuclear.columns


nuclear.reset_index(drop=True, inplace=True)


nuclear


# mean cost
nuclear.cost.mean().round(2)


# constructed in NE region of US
nuclear['ne'].value_counts()


# general behaviour of cost over time
plt.scatter(nuclear['date'], nuclear['cost'])
plt.show()
