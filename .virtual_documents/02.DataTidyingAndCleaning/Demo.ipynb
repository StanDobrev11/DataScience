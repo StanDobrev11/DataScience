get_ipython().run_line_magic("matplotlib", " inline")


import numpy as np
import pandas as pd
import matplotlib.pyplot as plt





pew = pd.read_csv('data/pew.csv')


pew





pew_tidy = pew.melt(id_vars='religion', var_name='income', value_name='frequency')


pew_tidy





pew_tidy.memory_usage()


pew_tidy.religion = pew_tidy.religion.astype('category')
pew_tidy.income = pew_tidy.income.astype('category')


pew_tidy.memory_usage()


pew_tidy.dtypes





plt.hist(pew_tidy.frequency, bins='fd')
plt.show()





tb = pd.read_csv('data/tb.csv')


tb


tb.columns


tb_tidy = tb.melt(id_vars=['iso2', 'year'], var_name='sex_and_age', value_name='cases')


tb_tidy['sex_and_age'][tb_tidy['iso2'] == 'BG']


tb_tidy.iso2[tb_tidy.iso2.str.len() != 2]


tb_tidy[3691:3692]


tb_tidy.head()


tb_tidy['gender'] = tb_tidy.sex_and_age.str.slice(0, 1)


tb_tidy['age'] = tb_tidy.sex_and_age.str.slice(1)


tb_tidy = tb_tidy.drop(columns=['sex_and_age'])


tb_tidy.describe().T


tb_no_missing = tb_tidy.dropna()


tb_no_missing.reset_index(drop=True, inplace=True)


tb_no_missing.cases.mean()


tb_no_missing.age.str.len().value_counts()


tb_no_missing.age[tb_no_missing.age.str.len() == 4].unique()


def process_age_group(age):
    ages = {
        '04': '0-4',
        '65': '65+',
        'u': 'unknown'
    }
    if age in ages:
        return ages[age]
    return f'{age[:2]}-{age[-2:]}'


tb_no_missing['age'] = tb_no_missing.age.apply(process_age_group)


tb_no_missing.age.unique()


tb_no_missing['gender'] = tb_no_missing['gender'].astype('category')


tb_no_missing['cases'] = tb_no_missing['cases'].astype('float64')


tb_no_missing = tb_no_missing[['iso2', 'year', 'gender', 'age', 'cases']]


tb_no_missing = tb_no_missing.sort_values(['iso2', 'year'])


tb_no_missing = tb_no_missing.reset_index(drop=True)


tb_no_missing.cases = tb_no_missing.cases.astype(int)


tb_no_missing.to_csv('data/tb_tidy.csv', index=None)


weather_data = pd.read_csv('data/weather.csv')


weather_data.columns


weather_data.head()





weather_data = weather_data.melt(id_vars=['id', 'year', 'month', 'element'], var_name='day')


weather_data.head()


weather_data['day'] = weather_data['day'].str.slice(1, 2).astype(int)


weather_tidy = weather_data.dropna()


weather_tidy = weather_tidy.pivot_table(index=['id', 'year', 'month', 'day'], columns='element', values='value')


weather_tidy.head()


weather_tidy.reset_index(inplace=True)


weather_tidy


def generate_string_for_datetime(obs):
    return f'{obs.year}-{obs.month}-{obs.day}'


weather_tidy['date'] = weather_tidy.apply(generate_string_for_datetime, axis=1)


weather_tidy.date = pd.to_datetime(weather_tidy.date)


weather_tidy.dtypes


weather_tidy = weather_tidy.drop(columns=['year', 'month', 'day'])


weather_tidy = weather_tidy[['id', 'date', 'tmin', 'tmax']]


weather_tidy.tmax = weather_tidy.tmax.round(decimals=1)


weather_tidy.tmin = weather_tidy.tmin.round(decimals=1)


weather_tidy


billboard = pd.read_csv('data/billboard.csv')
billboard.describe().T


billboard.head()


billboard.columns


billboard_tidy = billboard.melt(
    id_vars=['year', 'artist', 'track', 'time', 'date.entered'], 
    var_name='week', 
    value_name='rating')



billboard_tidy = billboard_tidy.dropna()


billboard_tidy.rename(columns={'date.entered': 'date_entered'}, inplace=True)


billboard_tidy['rating'] = billboard_tidy['rating'].astype(int)


billboard_tidy['week'] = billboard_tidy['week'].str.slice(2)
billboard_tidy['week'] = billboard_tidy['week'].astype(int)


billboard_tidy['date_entered'] = pd.to_datetime(billboard_tidy['date_entered'])


billboard_tidy.reset_index(drop=True, inplace=True)


billboard_tidy


wk1 = billboard_tidy[billboard_tidy['week'] == 1]
wk1.value_counts()


weather = pd.read_csv('https://raw.githubusercontent.com/synesthesiam/blog/master/posts/data/weather_year.csv')


weather


weather.shape


weather.describe().T


weather.dtypes


weather.columns = ["date", "max_temp", "mean_temp", "min_temp", "max_dew","mean_dew", "min_dew", "max_humidity", "mean_humidity","min_humidity", "max_pressure", "mean_pressure","min_pressure", "max_visibility", "mean_visibility","min_visibility", "max_wind", "mean_wind", "max_gusts","precipitation", "cloud_cover", "events", "wind_dir"]


weather.dtypes


weather.date = pd.to_datetime(weather.date)


weather.loc[weather.precipitation == 'T', 'precipitation'] = 1e-6


weather.precipitation


weather.events.value_counts(dropna=False)


weather.columns


weather[weather.date.dt.month == 6].max_temp


plt.hist(weather[weather.date.dt.month == 3].max_temp, bins='fd')
plt.hist(weather[weather.date.dt.month == 6].max_temp, bins='fd')
plt.hist(weather[weather.date.dt.month == 9].max_temp, bins='fd')
plt.show()


weather = weather.set_index('date')


weather.resample('W').max_temp.max().count()


weather.resample(pd.Timedelta(1, 'W')).max_temp.max()


weather.rolling(pd.Timedelta(3, 'days')).min_temp.mean()
