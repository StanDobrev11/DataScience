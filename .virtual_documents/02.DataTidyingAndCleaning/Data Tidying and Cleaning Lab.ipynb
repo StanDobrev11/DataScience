get_ipython().run_line_magic("matplotlib", " inline")


import numpy as np
import pandas as pd
import matplotlib.pyplot as plt
import re











# reading the file
coffee = pd.read_csv('data/merged_data_cleaned.csv')
# dropping unused column
coffee_tidy = coffee.drop(columns='Unnamed: 0')





def convert_to_snake_case(array):  
    # Replace '.' and '-' with '_'
    result = []
    for item in array:
        item = item.lower()
        item = re.sub(r'[.-]', '_', item)
        result.append(item)
    return result


print(convert_to_snake_case(['species', 'Owner', 'Country.of.Origin', 'Farm.Name', 'Lot.Number',
       'Mill', 'ICO.Number', 'Company', 'Altitude', 'Region', 'Producer',
       'Number.of.Bags', 'Bag.Weight', 'In.Country.Partner', 'Harvest.Year',
       'Grading.Date', 'Owner.1', 'Variety', 'Processing.Method', 'Aroma',
       'Flavor', 'Aftertaste', 'Acidity', 'Body', 'balance', 'uniformity',
       'clean_cup', 'sweetness', 'cupper_points', 'total_cup_points',
       'moisture', 'category_one_defects', 'quakers', 'color',
       'category_two_defects', 'expiration', 'certification_body',
       'certification_address', 'certification_contact', 'unit_of_measurement',
       'altitude_low_meters', 'altitude_high_meters', 'altitude_mean_meters']))


coffee_tidy.columns = [
    'species', 'owner', 'country_of_origin', 'farm_name', 'lot_number', 'mill', 'ico_number', 'company', 
    'altitude', 'region', 'producer', 'number_of_bags', 'bag_weight', 'in_country_partner', 'harvest_year',
    'grading_date', 'owner_1', 'variety', 'processing_method', 'aroma', 'flavor', 'aftertaste', 'acidity', 
    'body', 'balance', 'uniformity', 'clean_cup', 'sweetness', 'cupper_points', 'total_cup_points', 'moisture', 
    'category_one_defects', 'quakers', 'color', 'category_two_defects', 'expiration', 'certification_body', 
    'certification_address', 'certification_contact', 'unit_of_measurement', 'altitude_low_meters', 
    'altitude_high_meters', 'altitude_mean_meters'
]


coffee_tidy.lot_number.unique()


coffee_tidy.head()


coffee_tidy.dtypes











coffee_tidy.bag_weight


def convert_to_kgs(feature):
    # trim the 'lbs' and strip the result
    lbs = feature[:-3].strip()
    # convert to kgs
    kgs = np.floor(int(lbs) / 0.453592)

    return f'{kgs} kg'

convert_to_kgs('5 lbs')


coffee_tidy.bag_weight[(coffee_tidy.bag_weight.str.contains('lbs')) & (coffee_tidy.bag_weight.str.contains('kg'))]


coffee_tidy[16:17]










































