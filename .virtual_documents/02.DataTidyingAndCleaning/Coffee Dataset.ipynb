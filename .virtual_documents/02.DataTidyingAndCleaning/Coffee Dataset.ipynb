import numpy as np
import pandas as pd
import matplotlib.pyplot as plt





coffee = pd .read_csv('data/merged_data_cleaned.csv')


coffee


coffee.shape


coffee.dtypes


coffee.columns


coffee['Altitude'].unique()


titanic = pd.read_csv('https://raw.githubusercontent.com/Geoyi/Cleaning-Titanic-Data/master/titanic_original.csv')


titanic


titanic.dtypes


titanic.describe().T


titanic['body'].isna().sum()


iris = pd.read_csv('data/bezdekIris.data', header=None)


iris[4].value_counts()


iris.columns = ['sepal_length', 'sepal_width', 'petal_length', 'petal_width', 'class']


iris.head()


iris.petal_length[
    (iris.petal_length >= 4.5) &
    (iris.petal_length <= 10)
].mean().round(2)


red = pd.read_csv('data/winequality-red.csv', sep=';')
white = pd.read_csv('data/winequality-white.csv', sep=';')


white.quality.mean()


red.quality.mean()


red['alcohol'].corr(red['quality']).round(2)


white['alcohol'].corr(white['quality']).round(2)
