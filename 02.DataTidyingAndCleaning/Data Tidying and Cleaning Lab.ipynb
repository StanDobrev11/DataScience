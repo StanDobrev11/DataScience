{
 "cells": [
  {
   "cell_type": "code",
   "execution_count": 10,
   "id": "078d90d4-aec6-40fe-997f-ce63c962d936",
   "metadata": {},
   "outputs": [],
   "source": [
    "%matplotlib inline"
   ]
  },
  {
   "cell_type": "code",
   "execution_count": 29,
   "id": "aae01e60-5991-43ab-8b8a-ec9535698d00",
   "metadata": {},
   "outputs": [],
   "source": [
    "import numpy as np\n",
    "import pandas as pd\n",
    "import matplotlib.pyplot as plt\n",
    "import re"
   ]
  },
  {
   "cell_type": "markdown",
   "id": "02aa71be-5d01-4efc-85fa-a019fe92a39a",
   "metadata": {},
   "source": [
    "# Data Tidying and Cleaning Lab\n",
    "## Reading, tidying and cleaning data. Preparing data for exploration, mining, analysis and learning"
   ]
  },
  {
   "cell_type": "markdown",
   "id": "259927d3-4ad5-471e-b34b-114f07127a39",
   "metadata": {},
   "source": [
    "In this lab, you'll be working with the Coffee Quality Index dataset, located [here](https://www.kaggle.com/datasets/volpatto/coffee-quality-database-from-cqi). For convenience (and to save trouble in case you can't download files, or someone uploads a newer version), I've provided the dataset in the `data/` folder. The metadata (description) is at the Kaggle link. For this lab, you'll only need `merged_data_cleaned.csv`, as it is the concatenation of the other two datasets.\n",
    "\n",
    "In this (and the following labs), you'll get several questions and problems. Do your analysis, describe it, use any tools and plots you wish, and answer. You can create any amount of cells you'd like.\n",
    "\n",
    "Sometimes, the answers will not be unique, and they will depend on how you decide to approach and solve the problem. This is usual - we're doing science after all!\n",
    "\n",
    "It's a good idea to save your clean dataset after all the work you've done to it."
   ]
  },
  {
   "cell_type": "markdown",
   "id": "4450ac8e-523c-46f8-a410-9ad5af4cfc14",
   "metadata": {},
   "source": [
    "### Problem 1. Read the dataset (1 point)\n",
    "This should be self-explanatory. The first column is the index."
   ]
  },
  {
   "cell_type": "code",
   "execution_count": 18,
   "id": "df50bd71-ea2a-4db9-814d-c49f782ca101",
   "metadata": {},
   "outputs": [],
   "source": [
    "# reading the file\n",
    "coffee = pd.read_csv('data/merged_data_cleaned.csv')\n",
    "# dropping unused column\n",
    "coffee_tidy = coffee.drop(columns='Unnamed: 0')"
   ]
  },
  {
   "cell_type": "markdown",
   "id": "b278e2a8-56b4-4b1a-ad71-e7b920321e37",
   "metadata": {},
   "source": [
    "### Problem 2. Observations and features (1 point)\n",
    "How many observations are there? How many features? Which features are numerical, and which are categorical?\n",
    "\n",
    "**Note:** Think about the _meaning_, not the data types. The dataset hasn't been thoroughly cleaned."
   ]
  },
  {
   "cell_type": "code",
   "execution_count": 48,
   "id": "bc730bb1-9d17-4558-958e-a6439c221992",
   "metadata": {},
   "outputs": [],
   "source": [
    "def convert_to_snake_case(array):  \n",
    "    # Replace '.' and '-' with '_'\n",
    "    result = []\n",
    "    for item in array:\n",
    "        item = item.lower()\n",
    "        item = re.sub(r'[.-]', '_', item)\n",
    "        result.append(item)\n",
    "    return result"
   ]
  },
  {
   "cell_type": "code",
   "execution_count": 49,
   "id": "22f008fc-81a5-4439-98f4-201d2fa751f1",
   "metadata": {
    "collapsed": true,
    "jupyter": {
     "outputs_hidden": true,
     "source_hidden": true
    }
   },
   "outputs": [
    {
     "name": "stdout",
     "output_type": "stream",
     "text": [
      "['species', 'owner', 'country_of_origin', 'farm_name', 'lot_number', 'mill', 'ico_number', 'company', 'altitude', 'region', 'producer', 'number_of_bags', 'bag_weight', 'in_country_partner', 'harvest_year', 'grading_date', 'owner_1', 'variety', 'processing_method', 'aroma', 'flavor', 'aftertaste', 'acidity', 'body', 'balance', 'uniformity', 'clean_cup', 'sweetness', 'cupper_points', 'total_cup_points', 'moisture', 'category_one_defects', 'quakers', 'color', 'category_two_defects', 'expiration', 'certification_body', 'certification_address', 'certification_contact', 'unit_of_measurement', 'altitude_low_meters', 'altitude_high_meters', 'altitude_mean_meters']\n"
     ]
    }
   ],
   "source": [
    "print(convert_to_snake_case(['species', 'Owner', 'Country.of.Origin', 'Farm.Name', 'Lot.Number',\n",
    "       'Mill', 'ICO.Number', 'Company', 'Altitude', 'Region', 'Producer',\n",
    "       'Number.of.Bags', 'Bag.Weight', 'In.Country.Partner', 'Harvest.Year',\n",
    "       'Grading.Date', 'Owner.1', 'Variety', 'Processing.Method', 'Aroma',\n",
    "       'Flavor', 'Aftertaste', 'Acidity', 'Body', 'balance', 'uniformity',\n",
    "       'clean_cup', 'sweetness', 'cupper_points', 'total_cup_points',\n",
    "       'moisture', 'category_one_defects', 'quakers', 'color',\n",
    "       'category_two_defects', 'expiration', 'certification_body',\n",
    "       'certification_address', 'certification_contact', 'unit_of_measurement',\n",
    "       'altitude_low_meters', 'altitude_high_meters', 'altitude_mean_meters']))"
   ]
  },
  {
   "cell_type": "code",
   "execution_count": 39,
   "id": "e7d17c46-5475-4c33-9c35-b7cf56ac41c3",
   "metadata": {},
   "outputs": [],
   "source": [
    "coffee_tidy.columns = [\n",
    "    'species', 'owner', 'country_of_origin', 'farm_name', 'lot_number', 'mill', 'ico_number', 'company', \n",
    "    'altitude', 'region', 'producer', 'number_of_bags', 'bag_weight', 'in_country_partner', 'harvest_year',\n",
    "    'grading_date', 'owner_1', 'variety', 'processing_method', 'aroma', 'flavor', 'aftertaste', 'acidity', \n",
    "    'body', 'balance', 'uniformity', 'clean_cup', 'sweetness', 'cupper_points', 'total_cup_points', 'moisture', \n",
    "    'category_one_defects', 'quakers', 'color', 'category_two_defects', 'expiration', 'certification_body', \n",
    "    'certification_address', 'certification_contact', 'unit_of_measurement', 'altitude_low_meters', \n",
    "    'altitude_high_meters', 'altitude_mean_meters'\n",
    "]"
   ]
  },
  {
   "cell_type": "code",
   "execution_count": 47,
   "id": "65f15bca-fd38-470b-8c19-ac380d448a22",
   "metadata": {
    "collapsed": true,
    "jupyter": {
     "outputs_hidden": true
    }
   },
   "outputs": [
    {
     "data": {
      "text/plain": [
       "array([nan, 'YNC-06114', '102', 'Tsoustructive 2015 Sumatra Typica',\n",
       "       '11/23/0252', 'Baby Geisha Washed', '320', 'YNC-16115',\n",
       "       '11/23/0177', '6133', '3-37-1829', 'LP-C211-180',\n",
       "       'Mezcla Veracruz 01', 'CN 11462 AA', '3-37-0277',\n",
       "       '2016 Tainan Coffee Cupping Event Micro Lot 臺南市咖啡評鑑批次',\n",
       "       'MCTFHMG15/16', '1-71', '1', 'MCRKPBG 15/16', 'Tarrazu',\n",
       "       '11/08/0109', '10NG0093', '3-37-1724', '3-37-1291', 'S015.367',\n",
       "       '035/170/5071146\\u2060\\u2060\\u2060\\u2060', 'YNC-16018',\n",
       "       '5-0015-0231', 'MANDHELING BRASTAGI', '3-59-0318', 'K25159', '152',\n",
       "       '76', '3-37-1704',\n",
       "       '2017南投咖啡評鑑 NANTOU COFFEE EVALUATION EVENT 2017', 'MCCRNX115/16',\n",
       "       '3-59-3461', '11/11711/59', '11/52/709', 'YNC-16017', '11/23/0365',\n",
       "       '3-37-3825', 'EC-1180', '11/52/1170', '11/752/01', '11/23/0335',\n",
       "       '3-59-0503', '11/23/0178', 'CR-3', 'S3/01/2017', '96', '019/17',\n",
       "       '101', 'INT-2015', '007/16E', 'Tsoustructive 2015 Typica',\n",
       "       '3-59-1772', '3-37-1606', '3-59-2888', '3-37-2112', '8039',\n",
       "       '11/11711/60', 'sc 9693', '3-59-0075',\n",
       "       '2017台南市精品咖啡評鑑批次 Specialty Coffee Evaluation of Tainan 2017',\n",
       "       '3-37-1510', 'YNC-16063', '020/17', 'SC 9634', '103',\n",
       "       '606118 / K1730101', '008/16A', 'Tsoustructive 2015 Caturra',\n",
       "       '8062-1', '3-37-2548', 'YNC-16029', '3-59-1695', '2', '8038',\n",
       "       '3-59-1919', '11/23/0145', '3-59-0504', '11/23/0696', '3-59-2318',\n",
       "       '8885', '5055', 'MCCFWXA15/16', '73', '68-0054', '3-37-3729',\n",
       "       '3-37-2623', '2016-2017-1', 'LP-C211-181', 's16292', '11-973-152',\n",
       "       '035/170/5061178', '43102245 - P4615', '11/23/0673', 'AA',\n",
       "       'Oriental Paris Natural Coffee', '11/11711/58', '427', 'YNC-16056',\n",
       "       'YNC-16028', '3-59-1694', '3-37-0278', '261/15', '007/16A',\n",
       "       '007/16F', '201501', '201502', '3-59-1773', '1-198', '3-37-4468',\n",
       "       'none', '01NG011', '11/23/0513', '259/15', '11-43367-27',\n",
       "       '11-973-276', '11/23/0693', '11/23/0632', '11/23/0690',\n",
       "       'sran toraja', '11/23/0369',\n",
       "       '2017台南市精品咖啡評鑑批次 Specialty Coffee Evaluation of Tainan 2017 lot.20161220',\n",
       "       '13', '8866-2', '260/15', 'YNC-16057', 'YNC-16014', '007/16D',\n",
       "       '53', '11/23/0634', 'GO-669-16', '43102245/P4615', '165',\n",
       "       '11/23/0146', 'Zona: los imposibles', '11/23/0639', '11/23/0366',\n",
       "       '11/23/0400', '11/43367/12', '3-37-4434', 'YNC-16047', '63',\n",
       "       '0063/17', '2016/0001', '008/16B', '8270', 'YNC-16053', 'KLEM-C04',\n",
       "       '11/973/158', '007/16C', '118', '017/105/16042', 'SRAN-Gayo',\n",
       "       '007/16B', '47', '007/16G', '11/23/0633', '11/23/0515',\n",
       "       '2016/0002', 'LP-C211-182', '2017/001', 'BALI INTEN DEWATA',\n",
       "       '11/23/0507', '11/23/0514', '11/23/0640', '11/23/0701', '340',\n",
       "       '4783', '345725 / K1620088', '3-37-1367', '174.18', '11/23/0368',\n",
       "       '2016 Washed', '11/23/0688', '017-053-0211 / 017-053-0212', '98',\n",
       "       '11/23/0367', '016-1273-098', '11/326/14', '3-37-0059', '149',\n",
       "       'KLEM-C08        ', '2016NA Lot001', '017-053-0134', '14',\n",
       "       '43104350 - K25247', '43103820 - K24258 - 030/16', '11/23/0506',\n",
       "       '3-37-4378', '11/23/0689', 'CN 70741', '240LVCF', '201601', '91',\n",
       "       '017-053-0046', '11/15/0293', '331', 'K7 Chamarel 2015', '115',\n",
       "       '601', '2017-003', 'cosecha 2015-2016',\n",
       "       'Oriental Paris Civet Coffee', 'BR5691', '605135 / K1730103',\n",
       "       '11/23/0508', 'Lot A 20170519', 'Lot # 331', '11/23/0168',\n",
       "       '017-053-0211/053-0212', 'sran-ijen',\n",
       "       '2017台南市精品咖啡評鑑批次 Specialty Coffee Evaluation of Tainan 2017 lot.20161230',\n",
       "       '017/105/16039', '14/7/2015/172', '2017/2018-Lot01',\n",
       "       '2017/2018 - Lot 2', '017-053-0211/ 017-053-0212', '25', '7',\n",
       "       'RKR', 'RC AB', 'Lavado 1', 'Lavado 3'], dtype=object)"
      ]
     },
     "execution_count": 47,
     "metadata": {},
     "output_type": "execute_result"
    }
   ],
   "source": [
    "coffee_tidy.lot_number.unique()"
   ]
  },
  {
   "cell_type": "code",
   "execution_count": 45,
   "id": "4e70594f-8131-4b24-906d-76e44a6a5097",
   "metadata": {},
   "outputs": [
    {
     "data": {
      "text/html": [
       "<div>\n",
       "<style scoped>\n",
       "    .dataframe tbody tr th:only-of-type {\n",
       "        vertical-align: middle;\n",
       "    }\n",
       "\n",
       "    .dataframe tbody tr th {\n",
       "        vertical-align: top;\n",
       "    }\n",
       "\n",
       "    .dataframe thead th {\n",
       "        text-align: right;\n",
       "    }\n",
       "</style>\n",
       "<table border=\"1\" class=\"dataframe\">\n",
       "  <thead>\n",
       "    <tr style=\"text-align: right;\">\n",
       "      <th></th>\n",
       "      <th>species</th>\n",
       "      <th>owner</th>\n",
       "      <th>country_of_origin</th>\n",
       "      <th>farm_name</th>\n",
       "      <th>lot_number</th>\n",
       "      <th>mill</th>\n",
       "      <th>ico_number</th>\n",
       "      <th>company</th>\n",
       "      <th>altitude</th>\n",
       "      <th>region</th>\n",
       "      <th>...</th>\n",
       "      <th>color</th>\n",
       "      <th>category_two_defects</th>\n",
       "      <th>expiration</th>\n",
       "      <th>certification_body</th>\n",
       "      <th>certification_address</th>\n",
       "      <th>certification_contact</th>\n",
       "      <th>unit_of_measurement</th>\n",
       "      <th>altitude_low_meters</th>\n",
       "      <th>altitude_high_meters</th>\n",
       "      <th>altitude_mean_meters</th>\n",
       "    </tr>\n",
       "  </thead>\n",
       "  <tbody>\n",
       "    <tr>\n",
       "      <th>0</th>\n",
       "      <td>Arabica</td>\n",
       "      <td>metad plc</td>\n",
       "      <td>Ethiopia</td>\n",
       "      <td>metad plc</td>\n",
       "      <td>NaN</td>\n",
       "      <td>metad plc</td>\n",
       "      <td>2014/2015</td>\n",
       "      <td>metad agricultural developmet plc</td>\n",
       "      <td>1950-2200</td>\n",
       "      <td>guji-hambela</td>\n",
       "      <td>...</td>\n",
       "      <td>Green</td>\n",
       "      <td>0</td>\n",
       "      <td>April 3rd, 2016</td>\n",
       "      <td>METAD Agricultural Development plc</td>\n",
       "      <td>309fcf77415a3661ae83e027f7e5f05dad786e44</td>\n",
       "      <td>19fef5a731de2db57d16da10287413f5f99bc2dd</td>\n",
       "      <td>m</td>\n",
       "      <td>1950.0</td>\n",
       "      <td>2200.0</td>\n",
       "      <td>2075.0</td>\n",
       "    </tr>\n",
       "    <tr>\n",
       "      <th>1</th>\n",
       "      <td>Arabica</td>\n",
       "      <td>metad plc</td>\n",
       "      <td>Ethiopia</td>\n",
       "      <td>metad plc</td>\n",
       "      <td>NaN</td>\n",
       "      <td>metad plc</td>\n",
       "      <td>2014/2015</td>\n",
       "      <td>metad agricultural developmet plc</td>\n",
       "      <td>1950-2200</td>\n",
       "      <td>guji-hambela</td>\n",
       "      <td>...</td>\n",
       "      <td>Green</td>\n",
       "      <td>1</td>\n",
       "      <td>April 3rd, 2016</td>\n",
       "      <td>METAD Agricultural Development plc</td>\n",
       "      <td>309fcf77415a3661ae83e027f7e5f05dad786e44</td>\n",
       "      <td>19fef5a731de2db57d16da10287413f5f99bc2dd</td>\n",
       "      <td>m</td>\n",
       "      <td>1950.0</td>\n",
       "      <td>2200.0</td>\n",
       "      <td>2075.0</td>\n",
       "    </tr>\n",
       "    <tr>\n",
       "      <th>2</th>\n",
       "      <td>Arabica</td>\n",
       "      <td>grounds for health admin</td>\n",
       "      <td>Guatemala</td>\n",
       "      <td>san marcos barrancas \"san cristobal cuch</td>\n",
       "      <td>NaN</td>\n",
       "      <td>NaN</td>\n",
       "      <td>NaN</td>\n",
       "      <td>NaN</td>\n",
       "      <td>1600 - 1800 m</td>\n",
       "      <td>NaN</td>\n",
       "      <td>...</td>\n",
       "      <td>NaN</td>\n",
       "      <td>0</td>\n",
       "      <td>May 31st, 2011</td>\n",
       "      <td>Specialty Coffee Association</td>\n",
       "      <td>36d0d00a3724338ba7937c52a378d085f2172daa</td>\n",
       "      <td>0878a7d4b9d35ddbf0fe2ce69a2062cceb45a660</td>\n",
       "      <td>m</td>\n",
       "      <td>1600.0</td>\n",
       "      <td>1800.0</td>\n",
       "      <td>1700.0</td>\n",
       "    </tr>\n",
       "    <tr>\n",
       "      <th>3</th>\n",
       "      <td>Arabica</td>\n",
       "      <td>yidnekachew dabessa</td>\n",
       "      <td>Ethiopia</td>\n",
       "      <td>yidnekachew dabessa coffee plantation</td>\n",
       "      <td>NaN</td>\n",
       "      <td>wolensu</td>\n",
       "      <td>NaN</td>\n",
       "      <td>yidnekachew debessa coffee plantation</td>\n",
       "      <td>1800-2200</td>\n",
       "      <td>oromia</td>\n",
       "      <td>...</td>\n",
       "      <td>Green</td>\n",
       "      <td>2</td>\n",
       "      <td>March 25th, 2016</td>\n",
       "      <td>METAD Agricultural Development plc</td>\n",
       "      <td>309fcf77415a3661ae83e027f7e5f05dad786e44</td>\n",
       "      <td>19fef5a731de2db57d16da10287413f5f99bc2dd</td>\n",
       "      <td>m</td>\n",
       "      <td>1800.0</td>\n",
       "      <td>2200.0</td>\n",
       "      <td>2000.0</td>\n",
       "    </tr>\n",
       "    <tr>\n",
       "      <th>4</th>\n",
       "      <td>Arabica</td>\n",
       "      <td>metad plc</td>\n",
       "      <td>Ethiopia</td>\n",
       "      <td>metad plc</td>\n",
       "      <td>NaN</td>\n",
       "      <td>metad plc</td>\n",
       "      <td>2014/2015</td>\n",
       "      <td>metad agricultural developmet plc</td>\n",
       "      <td>1950-2200</td>\n",
       "      <td>guji-hambela</td>\n",
       "      <td>...</td>\n",
       "      <td>Green</td>\n",
       "      <td>2</td>\n",
       "      <td>April 3rd, 2016</td>\n",
       "      <td>METAD Agricultural Development plc</td>\n",
       "      <td>309fcf77415a3661ae83e027f7e5f05dad786e44</td>\n",
       "      <td>19fef5a731de2db57d16da10287413f5f99bc2dd</td>\n",
       "      <td>m</td>\n",
       "      <td>1950.0</td>\n",
       "      <td>2200.0</td>\n",
       "      <td>2075.0</td>\n",
       "    </tr>\n",
       "  </tbody>\n",
       "</table>\n",
       "<p>5 rows × 43 columns</p>\n",
       "</div>"
      ],
      "text/plain": [
       "   species                     owner country_of_origin  \\\n",
       "0  Arabica                 metad plc          Ethiopia   \n",
       "1  Arabica                 metad plc          Ethiopia   \n",
       "2  Arabica  grounds for health admin         Guatemala   \n",
       "3  Arabica       yidnekachew dabessa          Ethiopia   \n",
       "4  Arabica                 metad plc          Ethiopia   \n",
       "\n",
       "                                  farm_name lot_number       mill ico_number  \\\n",
       "0                                 metad plc        NaN  metad plc  2014/2015   \n",
       "1                                 metad plc        NaN  metad plc  2014/2015   \n",
       "2  san marcos barrancas \"san cristobal cuch        NaN        NaN        NaN   \n",
       "3     yidnekachew dabessa coffee plantation        NaN    wolensu        NaN   \n",
       "4                                 metad plc        NaN  metad plc  2014/2015   \n",
       "\n",
       "                                 company       altitude        region  ...  \\\n",
       "0      metad agricultural developmet plc      1950-2200  guji-hambela  ...   \n",
       "1      metad agricultural developmet plc      1950-2200  guji-hambela  ...   \n",
       "2                                    NaN  1600 - 1800 m           NaN  ...   \n",
       "3  yidnekachew debessa coffee plantation      1800-2200        oromia  ...   \n",
       "4      metad agricultural developmet plc      1950-2200  guji-hambela  ...   \n",
       "\n",
       "   color  category_two_defects        expiration  \\\n",
       "0  Green                     0   April 3rd, 2016   \n",
       "1  Green                     1   April 3rd, 2016   \n",
       "2    NaN                     0    May 31st, 2011   \n",
       "3  Green                     2  March 25th, 2016   \n",
       "4  Green                     2   April 3rd, 2016   \n",
       "\n",
       "                   certification_body  \\\n",
       "0  METAD Agricultural Development plc   \n",
       "1  METAD Agricultural Development plc   \n",
       "2        Specialty Coffee Association   \n",
       "3  METAD Agricultural Development plc   \n",
       "4  METAD Agricultural Development plc   \n",
       "\n",
       "                      certification_address  \\\n",
       "0  309fcf77415a3661ae83e027f7e5f05dad786e44   \n",
       "1  309fcf77415a3661ae83e027f7e5f05dad786e44   \n",
       "2  36d0d00a3724338ba7937c52a378d085f2172daa   \n",
       "3  309fcf77415a3661ae83e027f7e5f05dad786e44   \n",
       "4  309fcf77415a3661ae83e027f7e5f05dad786e44   \n",
       "\n",
       "                      certification_contact unit_of_measurement  \\\n",
       "0  19fef5a731de2db57d16da10287413f5f99bc2dd                   m   \n",
       "1  19fef5a731de2db57d16da10287413f5f99bc2dd                   m   \n",
       "2  0878a7d4b9d35ddbf0fe2ce69a2062cceb45a660                   m   \n",
       "3  19fef5a731de2db57d16da10287413f5f99bc2dd                   m   \n",
       "4  19fef5a731de2db57d16da10287413f5f99bc2dd                   m   \n",
       "\n",
       "  altitude_low_meters altitude_high_meters  altitude_mean_meters  \n",
       "0              1950.0               2200.0                2075.0  \n",
       "1              1950.0               2200.0                2075.0  \n",
       "2              1600.0               1800.0                1700.0  \n",
       "3              1800.0               2200.0                2000.0  \n",
       "4              1950.0               2200.0                2075.0  \n",
       "\n",
       "[5 rows x 43 columns]"
      ]
     },
     "execution_count": 45,
     "metadata": {},
     "output_type": "execute_result"
    }
   ],
   "source": [
    "coffee_tidy.head()"
   ]
  },
  {
   "cell_type": "code",
   "execution_count": 43,
   "id": "f8543743-49f7-48d2-9e3a-d8416bc8db00",
   "metadata": {
    "collapsed": true,
    "jupyter": {
     "outputs_hidden": true
    },
    "scrolled": true
   },
   "outputs": [
    {
     "data": {
      "text/plain": [
       "species                   object\n",
       "owner                     object\n",
       "country_of_origin         object\n",
       "farm_name                 object\n",
       "lot_number                object\n",
       "mill                      object\n",
       "ico_number                object\n",
       "company                   object\n",
       "altitude                  object\n",
       "region                    object\n",
       "producer                  object\n",
       "number_of_bags             int64\n",
       "bag_weight                object\n",
       "in_country_partner        object\n",
       "harvest_year              object\n",
       "grading_date              object\n",
       "owner_1                   object\n",
       "variety                   object\n",
       "processing_method         object\n",
       "aroma                    float64\n",
       "flavor                   float64\n",
       "aftertaste               float64\n",
       "acidity                  float64\n",
       "body                     float64\n",
       "balance                  float64\n",
       "uniformity               float64\n",
       "clean_cup                float64\n",
       "sweetness                float64\n",
       "cupper_points            float64\n",
       "total_cup_points         float64\n",
       "moisture                 float64\n",
       "category_one_defects       int64\n",
       "quakers                  float64\n",
       "color                     object\n",
       "category_two_defects       int64\n",
       "expiration                object\n",
       "certification_body        object\n",
       "certification_address     object\n",
       "certification_contact     object\n",
       "unit_of_measurement       object\n",
       "altitude_low_meters      float64\n",
       "altitude_high_meters     float64\n",
       "altitude_mean_meters     float64\n",
       "dtype: object"
      ]
     },
     "execution_count": 43,
     "metadata": {},
     "output_type": "execute_result"
    }
   ],
   "source": [
    "coffee_tidy.dtypes"
   ]
  },
  {
   "cell_type": "markdown",
   "id": "2b745e68-35eb-4acb-b39f-513137f0ee4b",
   "metadata": {},
   "source": [
    "### Problem 3. Column manipulation (1 point)\n",
    "Make the column names more Pythonic (which helps with the quality and... aesthetics). Convert column names to `snake_case`, i.e. `species`, `country_of_origin`, `ico_number`, etc. Try to not do it manually."
   ]
  },
  {
   "cell_type": "code",
   "execution_count": null,
   "id": "301e9f3f-afd6-4a91-a32f-1974584694ca",
   "metadata": {},
   "outputs": [],
   "source": []
  },
  {
   "cell_type": "markdown",
   "id": "8c53c4c6-6eb9-4c92-bd39-89286fe4c86e",
   "metadata": {},
   "source": [
    "### Problem 4. Bag weight (1 point)\n",
    "What's up with the bag weights? Make all necessary changes to the column values. Don't forget to document your methods and assumptions."
   ]
  },
  {
   "cell_type": "code",
   "execution_count": 52,
   "id": "8e97f3d0-1223-49a7-99a9-51a65e4ff4e0",
   "metadata": {},
   "outputs": [
    {
     "data": {
      "text/plain": [
       "0       60 kg\n",
       "1       60 kg\n",
       "2           1\n",
       "3       60 kg\n",
       "4       60 kg\n",
       "        ...  \n",
       "1334     2 kg\n",
       "1335     2 kg\n",
       "1336     1 kg\n",
       "1337    5 lbs\n",
       "1338    5 lbs\n",
       "Name: bag_weight, Length: 1339, dtype: object"
      ]
     },
     "execution_count": 52,
     "metadata": {},
     "output_type": "execute_result"
    }
   ],
   "source": [
    "coffee_tidy.bag_weight"
   ]
  },
  {
   "cell_type": "code",
   "execution_count": 55,
   "id": "ece63ed1-bee6-4d59-a6b0-45af1f81c8f3",
   "metadata": {},
   "outputs": [
    {
     "data": {
      "text/plain": [
       "'11.0 kg'"
      ]
     },
     "execution_count": 55,
     "metadata": {},
     "output_type": "execute_result"
    }
   ],
   "source": [
    "def convert_to_kgs(feature):\n",
    "    # trim the 'lbs' and strip the result\n",
    "    lbs = feature[:-3].strip()\n",
    "    # convert to kgs\n",
    "    kgs = np.floor(int(lbs) / 0.453592)\n",
    "\n",
    "    return f'{kgs} kg'\n",
    "\n",
    "convert_to_kgs('5 lbs')"
   ]
  },
  {
   "cell_type": "code",
   "execution_count": 62,
   "id": "934dc4b0-0f57-45cf-9afd-61d76fe901da",
   "metadata": {},
   "outputs": [
    {
     "data": {
      "text/plain": [
       "16    2 kg,lbs\n",
       "74    1 kg,lbs\n",
       "Name: bag_weight, dtype: object"
      ]
     },
     "execution_count": 62,
     "metadata": {},
     "output_type": "execute_result"
    }
   ],
   "source": [
    "coffee_tidy.bag_weight[(coffee_tidy.bag_weight.str.contains('lbs')) & (coffee_tidy.bag_weight.str.contains('kg'))]"
   ]
  },
  {
   "cell_type": "code",
   "execution_count": 68,
   "id": "fdd72105-cfae-46a9-9d2b-ca2908c6e191",
   "metadata": {},
   "outputs": [
    {
     "data": {
      "text/html": [
       "<div>\n",
       "<style scoped>\n",
       "    .dataframe tbody tr th:only-of-type {\n",
       "        vertical-align: middle;\n",
       "    }\n",
       "\n",
       "    .dataframe tbody tr th {\n",
       "        vertical-align: top;\n",
       "    }\n",
       "\n",
       "    .dataframe thead th {\n",
       "        text-align: right;\n",
       "    }\n",
       "</style>\n",
       "<table border=\"1\" class=\"dataframe\">\n",
       "  <thead>\n",
       "    <tr style=\"text-align: right;\">\n",
       "      <th></th>\n",
       "      <th>species</th>\n",
       "      <th>owner</th>\n",
       "      <th>country_of_origin</th>\n",
       "      <th>farm_name</th>\n",
       "      <th>lot_number</th>\n",
       "      <th>mill</th>\n",
       "      <th>ico_number</th>\n",
       "      <th>company</th>\n",
       "      <th>altitude</th>\n",
       "      <th>region</th>\n",
       "      <th>...</th>\n",
       "      <th>color</th>\n",
       "      <th>category_two_defects</th>\n",
       "      <th>expiration</th>\n",
       "      <th>certification_body</th>\n",
       "      <th>certification_address</th>\n",
       "      <th>certification_contact</th>\n",
       "      <th>unit_of_measurement</th>\n",
       "      <th>altitude_low_meters</th>\n",
       "      <th>altitude_high_meters</th>\n",
       "      <th>altitude_mean_meters</th>\n",
       "    </tr>\n",
       "  </thead>\n",
       "  <tbody>\n",
       "    <tr>\n",
       "      <th>16</th>\n",
       "      <td>Arabica</td>\n",
       "      <td>grounds for health admin</td>\n",
       "      <td>Indonesia</td>\n",
       "      <td>toarco jaya</td>\n",
       "      <td>NaN</td>\n",
       "      <td>NaN</td>\n",
       "      <td>NaN</td>\n",
       "      <td>NaN</td>\n",
       "      <td>1200-1800m</td>\n",
       "      <td>sulawesi</td>\n",
       "      <td>...</td>\n",
       "      <td>NaN</td>\n",
       "      <td>0</td>\n",
       "      <td>May 31st, 2011</td>\n",
       "      <td>Specialty Coffee Association</td>\n",
       "      <td>36d0d00a3724338ba7937c52a378d085f2172daa</td>\n",
       "      <td>0878a7d4b9d35ddbf0fe2ce69a2062cceb45a660</td>\n",
       "      <td>m</td>\n",
       "      <td>1200.0</td>\n",
       "      <td>1800.0</td>\n",
       "      <td>1500.0</td>\n",
       "    </tr>\n",
       "  </tbody>\n",
       "</table>\n",
       "<p>1 rows × 43 columns</p>\n",
       "</div>"
      ],
      "text/plain": [
       "    species                     owner country_of_origin    farm_name  \\\n",
       "16  Arabica  grounds for health admin         Indonesia  toarco jaya   \n",
       "\n",
       "   lot_number mill ico_number company    altitude    region  ... color  \\\n",
       "16        NaN  NaN        NaN     NaN  1200-1800m  sulawesi  ...   NaN   \n",
       "\n",
       "    category_two_defects      expiration            certification_body  \\\n",
       "16                     0  May 31st, 2011  Specialty Coffee Association   \n",
       "\n",
       "                       certification_address  \\\n",
       "16  36d0d00a3724338ba7937c52a378d085f2172daa   \n",
       "\n",
       "                       certification_contact unit_of_measurement  \\\n",
       "16  0878a7d4b9d35ddbf0fe2ce69a2062cceb45a660                   m   \n",
       "\n",
       "   altitude_low_meters altitude_high_meters  altitude_mean_meters  \n",
       "16              1200.0               1800.0                1500.0  \n",
       "\n",
       "[1 rows x 43 columns]"
      ]
     },
     "execution_count": 68,
     "metadata": {},
     "output_type": "execute_result"
    }
   ],
   "source": [
    "coffee_tidy[16:17]"
   ]
  },
  {
   "cell_type": "markdown",
   "id": "2ff1f817-8e5e-4185-a320-dde7ed2cada1",
   "metadata": {},
   "source": [
    "### Problem 5. Dates (1 point)\n",
    "This should remind you of problem 4 but it's slightly nastier. Fix the harvest years, document the process.\n",
    "\n",
    "While you're here, fix the expiration dates, and grading dates. Unlike the other column, these should be dates (`pd.to_datetime()` is your friend)."
   ]
  },
  {
   "cell_type": "code",
   "execution_count": null,
   "id": "814dc5f9-9572-44f0-bff6-8efeb084f93d",
   "metadata": {},
   "outputs": [],
   "source": []
  },
  {
   "cell_type": "markdown",
   "id": "0dff33b4-c94d-43b3-bab3-97eabb862a37",
   "metadata": {},
   "source": [
    "### Problem 6. Countries (1 point)\n",
    "How many coffees are there with unknown countries of origin? What can you do about them?"
   ]
  },
  {
   "cell_type": "code",
   "execution_count": null,
   "id": "0851c1a8-0420-4dba-ac27-487bae4318be",
   "metadata": {},
   "outputs": [],
   "source": []
  },
  {
   "cell_type": "markdown",
   "id": "d0aa6f30-4b93-4f23-95e0-2cafb7152c6c",
   "metadata": {},
   "source": [
    "### Problem 7. Owners (1 point)\n",
    "There are two suspicious columns, named `Owner`, and `Owner.1` (they're likely called something different after you solved problem 3). Do something about them. Is there any link to `Producer`?"
   ]
  },
  {
   "cell_type": "code",
   "execution_count": null,
   "id": "39bc1689-33f6-4446-bfc3-c4b4e69eccf6",
   "metadata": {},
   "outputs": [],
   "source": []
  },
  {
   "cell_type": "markdown",
   "id": "30c53923-1b72-4500-af0a-47fdca9f57e9",
   "metadata": {},
   "source": [
    "### Problem 8. Coffee color by country and continent (1 point)\n",
    "Create a table which shows how many coffees of each color are there in every country. Leave the missing values as they are.\n",
    "\n",
    "**Note:** If you ask me, countries should be in rows, I prefer long tables much better than wide ones.\n",
    "\n",
    "Now do the same for continents. You know what continent each country is located in."
   ]
  },
  {
   "cell_type": "code",
   "execution_count": null,
   "id": "72cbe6a9-ca71-4826-806d-562bc30b40d2",
   "metadata": {},
   "outputs": [],
   "source": []
  },
  {
   "cell_type": "markdown",
   "id": "27095ced-7179-4ee4-94d3-7d94450b4120",
   "metadata": {},
   "source": [
    "### Problem 9. Ratings (1 point)\n",
    "The columns `Aroma`, `Flavor`, etc., up to `Moisture` represent subjective ratings. Explore them. Show the means and range; draw histograms and / or boxplots as needed. You can even try correlations if you want. What's up with all those ratings?"
   ]
  },
  {
   "cell_type": "code",
   "execution_count": null,
   "id": "d08ee355-dcbb-4657-a814-cdcfbd455c42",
   "metadata": {},
   "outputs": [],
   "source": []
  },
  {
   "cell_type": "markdown",
   "id": "92054218-978d-48c6-b7aa-36226837354c",
   "metadata": {},
   "source": [
    "### Problem 10. High-level errors (1 point)\n",
    "Check the countries against region names, altitudes, and companies. Are there any discrepancies (e.g. human errors, like a region not matching the country)? Take a look at the (cleaned) altitudes; there has been a lot of preprocessing done to them. Was it done correctly?"
   ]
  },
  {
   "cell_type": "code",
   "execution_count": null,
   "id": "a971e5dd-4bb1-4ad6-bcbc-3cceab758f5d",
   "metadata": {},
   "outputs": [],
   "source": []
  },
  {
   "cell_type": "markdown",
   "id": "3c3b5118-9f8e-45c2-a200-1be89fa4b3bf",
   "metadata": {},
   "source": [
    "### * Problem 11. Clean and explore at will\n",
    "The dataset claimed to be clean, but we were able to discover a lot of things to fix and do better.\n",
    "\n",
    "Play around with the data as much as you wish, and if you find variables to tidy up and clean - by all means, do that!"
   ]
  },
  {
   "cell_type": "code",
   "execution_count": null,
   "id": "928732cf-7ef4-471a-9818-139dd519eb45",
   "metadata": {},
   "outputs": [],
   "source": []
  }
 ],
 "metadata": {
  "kernelspec": {
   "display_name": "Python 3 (ipykernel)",
   "language": "python",
   "name": "python3"
  },
  "language_info": {
   "codemirror_mode": {
    "name": "ipython",
    "version": 3
   },
   "file_extension": ".py",
   "mimetype": "text/x-python",
   "name": "python",
   "nbconvert_exporter": "python",
   "pygments_lexer": "ipython3",
   "version": "3.11.9"
  }
 },
 "nbformat": 4,
 "nbformat_minor": 5
}
